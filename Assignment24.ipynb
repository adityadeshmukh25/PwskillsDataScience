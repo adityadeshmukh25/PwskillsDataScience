{
 "cells": [
  {
   "cell_type": "markdown",
   "id": "63edf426-26f4-421d-8ec2-04097788fbdf",
   "metadata": {},
   "source": [
    "**Q1: Name any five plots that we can plot using the Seaborn library, and state the uses of each plot:**\n",
    "\n",
    "1. **Scatter Plot**: A scatter plot is used to visualize the relationship between two continuous variables. It is useful for identifying patterns, clusters, or trends in data points.\n",
    "\n",
    "2. **Line Plot**: Line plots are used to show the trend or change in a single variable over time or another continuous variable. They are commonly used for time series data.\n",
    "\n",
    "3. **Bar Plot**: Bar plots display data with rectangular bars. They are useful for comparing categories or groups, showing the distribution of data, or visualizing the mean and confidence intervals.\n",
    "\n",
    "4. **Box Plot**: Box plots, or box-and-whisker plots, are used to display the distribution of a dataset. They show the median, quartiles, and possible outliers, making them ideal for identifying data distribution and skewness.\n",
    "\n",
    "5. **Histogram**: Histograms are used to display the distribution of a single variable by dividing it into bins or intervals and counting the frequency of observations in each bin. They provide insight into data distribution and help identify patterns.\n"
   ]
  },
  {
   "cell_type": "code",
   "execution_count": null,
   "id": "1f96d543-e24e-482c-ba30-96a73dda74b7",
   "metadata": {},
   "outputs": [],
   "source": [
    "#Q2: Load the \"fmri\" dataset using the load_dataset function of seaborn. Plot a line plot using x = \"timepoint\" and y = \"signal\" for different events and regions.**\n",
    "import seaborn as sns\n",
    "import matplotlib.pyplot as plt\n",
    "\n",
    "# Load the \"fmri\" dataset\n",
    "fmri_data = sns.load_dataset(\"fmri\")\n",
    "\n",
    "# Create a line plot\n",
    "sns.lineplot(data=fmri_data, x=\"timepoint\", y=\"signal\", hue=\"event\", style=\"region\")\n",
    "\n",
    "plt.title(\"FMRI Data: Signal over Time\")\n",
    "plt.show()"
   ]
  },
  {
   "cell_type": "code",
   "execution_count": null,
   "id": "a934df78-b893-4f46-8d20-8ac67e5291b8",
   "metadata": {},
   "outputs": [],
   "source": [
    "#**Q3: Load the \"titanic\" dataset using the load_dataset function of seaborn. Plot two box plots using x = 'pclass', y = 'age' and y = 'fare'.**\n",
    "\n",
    "\n",
    "titanic_data = sns.load_dataset(\"titanic\")\n",
    "\n",
    "# Create two box plots\n",
    "plt.figure(figsize=(12, 6))\n",
    "plt.subplot(1, 2, 1)\n",
    "sns.boxplot(data=titanic_data, x='pclass', y='age')\n",
    "plt.title(\"Box Plot of Age by Passenger Class\")\n",
    "plt.subplot(1, 2, 2)\n",
    "sns.boxplot(data=titanic_data, x='pclass', y='fare')\n",
    "plt.title(\"Box Plot of Fare by Passenger Class\")\n",
    "\n",
    "plt.show()"
   ]
  },
  {
   "cell_type": "code",
   "execution_count": null,
   "id": "c5649a6a-49b0-4942-b8f0-a99d92cd8884",
   "metadata": {},
   "outputs": [],
   "source": [
    "#**Q4: Use the \"diamonds\" dataset from seaborn to plot a histogram for the 'price' column. Use the hue parameter for the 'cut' column of the diamonds dataset.**\n",
    "\n",
    "# Load the \"diamonds\" dataset\n",
    "diamonds_data = sns.load_dataset(\"diamonds\")\n",
    "\n",
    "# Create a histogram with hue\n",
    "sns.histplot(data=diamonds_data, x='price', hue='cut', kde=True)\n",
    "plt.title(\"Histogram of Diamond Prices by Cut\")\n",
    "plt.show()"
   ]
  },
  {
   "cell_type": "code",
   "execution_count": null,
   "id": "fc379cba-c06e-41a2-9fd9-fd565e89f469",
   "metadata": {},
   "outputs": [],
   "source": [
    "#*Q5: Use the \"iris\" dataset from seaborn to plot a pair plot. Use the hue parameter for the \"species\" column of the iris dataset.**\n",
    "\n",
    "```python\n",
    "# Load the \"iris\" dataset\n",
    "iris_data = sns.load_dataset(\"iris\")\n",
    "\n",
    "# Create a pair plot with hue\n",
    "sns.pairplot(iris_data, hue=\"species\")\n",
    "plt.title(\"Pair Plot of Iris Dataset\")\n",
    "plt.show()"
   ]
  },
  {
   "cell_type": "code",
   "execution_count": null,
   "id": "b9e12937-3bbb-405b-8404-ed6238551777",
   "metadata": {},
   "outputs": [],
   "source": [
    "#**Q6: Use the \"flights\" dataset from seaborn to plot a heatmap.**\n",
    "\n",
    "```python\n",
    "# Load the \"flights\" dataset\n",
    "flights_data = sns.load_dataset(\"flights\")\n",
    "\n",
    "# Reshape the data to be suitable for a heatmap\n",
    "flights_pivot = flights_data.pivot_table(index='month', columns='year', values='passengers')\n",
    "\n",
    "# Create a heatmap\n",
    "plt.figure(figsize=(10, 6))\n",
    "sns.heatmap(flights_pivot, annot=True, fmt=\"d\", cmap=\"YlGnBu\")\n",
    "plt.title(\"Flights Dataset: Heatmap of Passengers\")\n",
    "plt.show()"
   ]
  },
  {
   "cell_type": "code",
   "execution_count": null,
   "id": "1c5c2040-046f-42b4-92c5-c5bf79f15b48",
   "metadata": {},
   "outputs": [],
   "source": []
  }
 ],
 "metadata": {
  "kernelspec": {
   "display_name": "Python 3 (ipykernel)",
   "language": "python",
   "name": "python3"
  },
  "language_info": {
   "codemirror_mode": {
    "name": "ipython",
    "version": 3
   },
   "file_extension": ".py",
   "mimetype": "text/x-python",
   "name": "python",
   "nbconvert_exporter": "python",
   "pygments_lexer": "ipython3",
   "version": "3.10.8"
  }
 },
 "nbformat": 4,
 "nbformat_minor": 5
}
