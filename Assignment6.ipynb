{
 "cells": [
  {
   "cell_type": "markdown",
   "id": "7663a96d-0040-4fd3-89c9-8440dde35db9",
   "metadata": {},
   "source": [
    "A class is a user-defined blueprint or prototype from which objects are created. Classes provide a means of bundling data and functionality together. "
   ]
  },
  {
   "cell_type": "code",
   "execution_count": 1,
   "id": "94b0a2d9-d1d7-4f28-96c1-6c46b2571fe0",
   "metadata": {},
   "outputs": [],
   "source": [
    "class car:\n",
    "    def show(self):\n",
    "        print(\"This is a car\")\n",
    "a1 = car()"
   ]
  },
  {
   "cell_type": "code",
   "execution_count": 2,
   "id": "d078e640-c590-4801-80e2-7c0b250d07fe",
   "metadata": {},
   "outputs": [
    {
     "name": "stdout",
     "output_type": "stream",
     "text": [
      "This is a car\n"
     ]
    }
   ],
   "source": [
    "a1.show()"
   ]
  },
  {
   "cell_type": "markdown",
   "id": "864b0dda-75d1-4f65-ae00-c3310187a904",
   "metadata": {},
   "source": [
    "The four Pillars of OOP's are:\n",
    "1. Polymorphism \n",
    "2. Inheritance\n",
    "3. Encapsulation\n",
    "4. Data Abstraction"
   ]
  },
  {
   "cell_type": "markdown",
   "id": "ef4134ad-5dbe-4250-8fd8-8769beac3912",
   "metadata": {},
   "source": [
    "The __init__() function is used as a Constructor. Constructors are used to initializing the object’s state. The task of constructors is to initialize(assign values) to the data members of the class when an object of the class is created."
   ]
  },
  {
   "cell_type": "code",
   "execution_count": 4,
   "id": "0b71bc26-c53e-4dc9-95bd-288b130ea93e",
   "metadata": {},
   "outputs": [
    {
     "name": "stdout",
     "output_type": "stream",
     "text": [
      "aditya aditya@gmail.com\n"
     ]
    }
   ],
   "source": [
    "class student:\n",
    "    def __init__(self, name, email):\n",
    "        self.name = name\n",
    "        self.email = email\n",
    "    def show(self):\n",
    "        print(self.name, self.email)\n",
    "        \n",
    "obj = student('aditya','aditya@gmail.com')\n",
    "obj.show()"
   ]
  },
  {
   "cell_type": "markdown",
   "id": "107b47a2-52ef-4a85-96b5-802d24ed2a17",
   "metadata": {},
   "source": [
    "Q.4) self represents the instance of the class. By using the “self”  we can access the attributes and methods of the class in python. It binds the attributes with the given arguments.\n",
    "\n",
    "The reason you need to use self. is because Python does not use the @ syntax to refer to instance attributes. "
   ]
  },
  {
   "cell_type": "markdown",
   "id": "2e1c6629-3e2e-4c20-a78e-5ae1574cd0cb",
   "metadata": {},
   "source": [
    "Q.5)\n",
    "Inheritance allows us to define a class that inherits all the methods and properties from another class. Parent class is the class being inherited from, also called base class. Child class is the class that inherits from another class, also called derived class."
   ]
  },
  {
   "cell_type": "code",
   "execution_count": 7,
   "id": "f73e3a43-8c54-473e-a532-807e4406d078",
   "metadata": {},
   "outputs": [
    {
     "name": "stdout",
     "output_type": "stream",
     "text": [
      "This is vehicle class\n"
     ]
    }
   ],
   "source": [
    "class vehicle:\n",
    "    def show(self):\n",
    "        print(\"This is vehicle class\")\n",
    "class car(vehicle):\n",
    "    pass\n",
    "obj1 = car()\n",
    "obj1.show()"
   ]
  },
  {
   "cell_type": "code",
   "execution_count": null,
   "id": "6bdaa01c-81f9-49cd-a9ec-9c534025607c",
   "metadata": {},
   "outputs": [],
   "source": []
  }
 ],
 "metadata": {
  "kernelspec": {
   "display_name": "Python 3 (ipykernel)",
   "language": "python",
   "name": "python3"
  },
  "language_info": {
   "codemirror_mode": {
    "name": "ipython",
    "version": 3
   },
   "file_extension": ".py",
   "mimetype": "text/x-python",
   "name": "python",
   "nbconvert_exporter": "python",
   "pygments_lexer": "ipython3",
   "version": "3.10.8"
  }
 },
 "nbformat": 4,
 "nbformat_minor": 5
}
