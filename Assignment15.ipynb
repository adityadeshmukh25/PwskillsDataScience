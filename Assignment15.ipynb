{
 "cells": [
  {
   "cell_type": "markdown",
   "id": "72da53bb-4596-4da2-8f2f-82e7d5f83a29",
   "metadata": {},
   "source": [
    "A1. Flask is a lightweight web framework for Python that provides a minimal and flexible way to create web applications. Flask is based on the Werkzeug toolkit and the Jinja2 template engine, and supports extensions that can add additional features and functionalities. Some advantages of Flask are:\n",
    "\n",
    "- It is easy to use and learn, requiring only a few lines of code to get started.\n",
    "- It is modular and adaptable, allowing developers to customize their applications according to their needs and preferences.\n",
    "- It is fast and efficient, offering high performance and low overhead.\n",
    "- It is compatible and integrable, supporting various databases, libraries, and tools."
   ]
  },
  {
   "cell_type": "code",
   "execution_count": null,
   "id": "791beb73-99f2-42ee-b537-67fa2bcfd734",
   "metadata": {},
   "outputs": [],
   "source": [
    "\n",
    "#A2. To create a simple Flask application to display 'Hello World!!', you can use the following code in Jupyter Notebook:\n",
    "\n",
    "```python\n",
    "# Import Flask module\n",
    "from flask import Flask\n",
    "\n",
    "# Create an instance of the Flask class\n",
    "app = Flask(__name__)\n",
    "\n",
    "# Define a route for the root URL using the route() decorator\n",
    "@app.route(\"/\")\n",
    "def hello():\n",
    "    # Return the response as a string\n",
    "    return \"Hello World!!\"\n",
    "\n",
    "# Run the application on the local server\n",
    "app.run()"
   ]
  },
  {
   "cell_type": "markdown",
   "id": "961367fc-a2c6-4f55-9bcc-0226f43ffd01",
   "metadata": {},
   "source": [
    "\n",
    "A3. App routing in Flask is the process of mapping URLs to functions that handle requests for those URLs. App routes are defined using the route() decorator, which takes one or more arguments that specify the URL rule and optionally the HTTP methods that are allowed for that rule. App routes are used to create user-friendly and meaningful URLs for web applications, and to associate different functions with different URLs."
   ]
  },
  {
   "cell_type": "code",
   "execution_count": null,
   "id": "7046b970-68d3-4662-8df2-43ea3ea2145e",
   "metadata": {},
   "outputs": [],
   "source": [
    "\n",
    "\n",
    "# A4. To create a \"/welcome\" route to display the welcome message \"Welcome to ABC Corporation\" and a \"/\" route to show the company details, you can use the following code in Jupyter Notebook:python\n",
    "# Import Flask module\n",
    "from flask import Flask\n",
    "\n",
    "# Create an instance of the Flask class\n",
    "app = Flask(__name__)\n",
    "\n",
    "# Define a route for the root URL using the route() decorator\n",
    "@app.route(\"/\")\n",
    "def index():\n",
    "    # Return the response as an HTML string\n",
    "    return \"\"\"\n",
    "    <h1>Company Name: ABC Corporation</h1>\n",
    "    <p>Location: India</p>\n",
    "    <p>Contact Detail: 999-999-9999</p>\n",
    "    \"\"\"\n",
    "\n",
    "# Define a route for the /welcome URL using the route() decorator\n",
    "@app.route(\"/welcome\")\n",
    "def welcome():\n",
    "    # Return the response as a string\n",
    "    return \"Welcome to ABC Corporation\"\n",
    "\n",
    "# Run the application on the local server\n",
    "app.run()"
   ]
  },
  {
   "cell_type": "markdown",
   "id": "68be926c-3ba1-4827-a9a1-4d18b98edefb",
   "metadata": {},
   "source": [
    "\n",
    "A5. The function used in Flask for URL building is url_for(). This function takes the name of a function as an argument and returns the URL that corresponds to that function. The url_for() function can also take additional arguments that are passed as query parameters or dynamic segments in the URL. The url_for() function is useful for creating dynamic and consistent URLs for web applications.\n",
    "\n",
    "For example, to demonstrate the working of the url_for() function, you can use the following code in Jupyter Notebook\n"
   ]
  },
  {
   "cell_type": "code",
   "execution_count": null,
   "id": "e21795e5-ffaa-4300-9b57-a532baa11845",
   "metadata": {},
   "outputs": [],
   "source": [
    "\n",
    "# Import Flask and url_for modules\n",
    "from flask import Flask, url_for\n",
    "\n",
    "# Create an instance of the Flask class\n",
    "app = Flask(__name__)\n",
    "\n",
    "# Define a route for the root URL using the route() decorator\n",
    "@app.route(\"/\")\n",
    "def index():\n",
    "    # Return the response as an HTML string with links to other routes\n",
    "    return \"\"\"\n",
    "    <ul>\n",
    "      <li><a href=\"{}\">Home</a></li>\n",
    "      <li><a href=\"{}\">About</a></li>\n",
    "      <li><a href=\"{}\">Contact</a></li>\n",
    "      <li><a href=\"{}\">User</a></li>\n",
    "      <li><a href=\"{}\">Product</a></li>\n",
    "    </ul>\n",
    "    \"\"\".format(\n",
    "        url_for(\"index\"), # Use url_for() with index function name\n",
    "        url_for(\"about\"), # Use url_for() with about function name\n",
    "        url_for(\"contact\"), # Use url_for() with contact function name\n",
    "        url_for(\"user\", username=\"Alice\"), # Use url_for() with user function name and username argument\n",
    "        url_for(\"product\", id=123) # Use url_for() with product function name and id argument\n",
    "    )\n",
    "\n",
    "# Define a route for the /about URL using the route() decorator\n",
    "@app.route(\"/about\")\n",
    "def about():\n",
    "    # Return the response as a string\n",
    "    return \"This is the about page\"\n",
    "\n",
    "# Define a route for the /contact URL using the route() decorator\n",
    "@app.route(\"/contact\")\n",
    "def contact():\n",
    "    # Return the response as a string\n",
    "    return \"This is the contact page\"\n",
    "\n",
    "# Define a route for the /user/<username> URL using the route() decorator with a dynamic segment\n",
    "@app.route(\"/user/<username>\")\n",
    "def user(username):\n",
    "    # Return the response as a string with the username\n",
    "    return \"This is the user page for {}\".format(username)\n",
    "\n",
    "# Define a route for the /product?id=<id> URL using the route() decorator with a query parameter\n",
    "@app.route(\"/product\")\n",
    "def product():\n",
    "    # Get the id value from the request object\n",
    "    id = request.args.get(\"id\")\n",
    "    # Return the response as a string with the id\n",
    "    return \"This is the product page for id {}\".format(id)\n",
    "\n",
    "# Run the application on the local server\n",
    "app.run()"
   ]
  }
 ],
 "metadata": {
  "kernelspec": {
   "display_name": "Python 3 (ipykernel)",
   "language": "python",
   "name": "python3"
  },
  "language_info": {
   "codemirror_mode": {
    "name": "ipython",
    "version": 3
   },
   "file_extension": ".py",
   "mimetype": "text/x-python",
   "name": "python",
   "nbconvert_exporter": "python",
   "pygments_lexer": "ipython3",
   "version": "3.10.8"
  }
 },
 "nbformat": 4,
 "nbformat_minor": 5
}
