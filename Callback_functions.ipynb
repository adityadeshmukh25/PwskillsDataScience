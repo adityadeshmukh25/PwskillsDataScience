{
  "nbformat": 4,
  "nbformat_minor": 0,
  "metadata": {
    "colab": {
      "provenance": []
    },
    "kernelspec": {
      "name": "python3",
      "display_name": "Python 3"
    },
    "language_info": {
      "name": "python"
    }
  },
  "cells": [
    {
      "cell_type": "code",
      "source": [
        "# Load TensorFlow and Keras\n",
        "import tensorflow as tf\n",
        "from tensorflow import keras\n",
        "\n",
        "# Print versions\n",
        "print(\"TensorFlow version:\", tf.__version__)\n"
      ],
      "metadata": {
        "colab": {
          "base_uri": "https://localhost:8080/"
        },
        "id": "aGDGBY_-hVEn",
        "outputId": "58c1cdf8-14c2-43df-804f-ad1d23dfc126"
      },
      "execution_count": 31,
      "outputs": [
        {
          "output_type": "stream",
          "name": "stdout",
          "text": [
            "TensorFlow version: 2.15.0\n"
          ]
        }
      ]
    },
    {
      "cell_type": "code",
      "source": [
        "import pandas as pd\n",
        "wine_data = pd.read_csv('wine.csv')\n",
        "\n",
        "# Display dimensions of the dataset\n",
        "print(\"Dimensions of the dataset:\", wine_data.shape)\n"
      ],
      "metadata": {
        "colab": {
          "base_uri": "https://localhost:8080/"
        },
        "id": "C6QJvje7hXA0",
        "outputId": "7460d6f7-1efc-46a3-d653-eaaa0a49ce5f"
      },
      "execution_count": 32,
      "outputs": [
        {
          "output_type": "stream",
          "name": "stdout",
          "text": [
            "Dimensions of the dataset: (1599, 12)\n"
          ]
        }
      ]
    },
    {
      "cell_type": "code",
      "source": [
        "# Check for null values\n",
        "print(\"Null values in the dataset:\")\n",
        "print(wine_data.isnull().sum())\n",
        "\n",
        "# Identify categorical variables (assuming 'quality' is categorical)\n",
        "categorical_cols = ['quality']\n",
        "\n",
        "# Encode categorical variables (if necessary, assuming 'quality' as categorical)\n",
        "wine_data_encoded = pd.get_dummies(wine_data, columns=categorical_cols, drop_first=True)\n",
        "\n",
        "# Display first few rows of encoded dataset\n",
        "print(\"Encoded dataset preview:\")\n",
        "print(wine_data_encoded.head())\n"
      ],
      "metadata": {
        "colab": {
          "base_uri": "https://localhost:8080/"
        },
        "id": "ammVpCEzhhLn",
        "outputId": "314fd1b1-9532-4e30-c978-de8d3f751170"
      },
      "execution_count": 33,
      "outputs": [
        {
          "output_type": "stream",
          "name": "stdout",
          "text": [
            "Null values in the dataset:\n",
            "fixed acidity           0\n",
            "volatile acidity        0\n",
            "citric acid             0\n",
            "residual sugar          0\n",
            "chlorides               0\n",
            "free sulfur dioxide     0\n",
            "total sulfur dioxide    0\n",
            "density                 0\n",
            "pH                      0\n",
            "sulphates               0\n",
            "alcohol                 0\n",
            "quality                 0\n",
            "dtype: int64\n",
            "Encoded dataset preview:\n",
            "   fixed acidity  volatile acidity  citric acid  ...  sulphates  alcohol  quality_good\n",
            "0            7.4              0.70         0.00  ...       0.56      9.4         False\n",
            "1            7.8              0.88         0.00  ...       0.68      9.8         False\n",
            "2            7.8              0.76         0.04  ...       0.65      9.8         False\n",
            "3           11.2              0.28         0.56  ...       0.58      9.8          True\n",
            "4            7.4              0.70         0.00  ...       0.56      9.4         False\n",
            "\n",
            "[5 rows x 12 columns]\n"
          ]
        }
      ]
    },
    {
      "cell_type": "code",
      "source": [
        "# Separate features (X) and target (y)\n",
        "X = wine_data_encoded.drop(columns=['quality_good'])\n",
        "y = wine_data_encoded['quality_good']\n",
        "\n",
        "# Assuming 'quality' is binary (1 for good quality, 0 for not good)\n",
        "# If 'quality' is not binary, you may need different handling for the output layer.\n"
      ],
      "metadata": {
        "id": "XWTGrJ5bhsRl"
      },
      "execution_count": 36,
      "outputs": []
    },
    {
      "cell_type": "code",
      "source": [
        "from sklearn.model_selection import train_test_split\n",
        "\n",
        "# Perform train-test split\n",
        "X_train, X_test, y_train, y_test = train_test_split(X, y, test_size=0.2, random_state=42)\n",
        "\n",
        "# Further split into training and validation sets\n",
        "X_train, X_val, y_train, y_val = train_test_split(X_train, y_train, test_size=0.25, random_state=42)\n",
        "\n",
        "print(\"Training set:\", X_train.shape, y_train.shape)\n",
        "print(\"Validation set:\", X_val.shape, y_val.shape)\n",
        "print(\"Test set:\", X_test.shape, y_test.shape)\n"
      ],
      "metadata": {
        "colab": {
          "base_uri": "https://localhost:8080/"
        },
        "id": "_qw9lC1bht5P",
        "outputId": "422f11ec-6388-4a74-f5e8-a149c1275857"
      },
      "execution_count": 37,
      "outputs": [
        {
          "output_type": "stream",
          "name": "stdout",
          "text": [
            "Training set: (959, 11) (959,)\n",
            "Validation set: (320, 11) (320,)\n",
            "Test set: (320, 11) (320,)\n"
          ]
        }
      ]
    },
    {
      "cell_type": "code",
      "source": [
        "from sklearn.preprocessing import StandardScaler\n",
        "\n",
        "# Initialize a scaler\n",
        "scaler = StandardScaler()\n",
        "\n",
        "# Fit on training data\n",
        "X_train_scaled = scaler.fit_transform(X_train)\n",
        "\n",
        "# Apply the scaler to validation and test sets\n",
        "X_val_scaled = scaler.transform(X_val)\n",
        "X_test_scaled = scaler.transform(X_test)\n"
      ],
      "metadata": {
        "id": "xUBmrGdYi2_Q"
      },
      "execution_count": 38,
      "outputs": []
    },
    {
      "cell_type": "code",
      "source": [
        "from tensorflow.keras.models import Sequential\n",
        "from tensorflow.keras.layers import Dense\n",
        "\n",
        "# Initialize the model\n",
        "model = Sequential()\n",
        "\n",
        "# Add hidden layers\n",
        "model.add(Dense(128, activation='relu', input_shape=(X_train.shape[1],)))\n",
        "model.add(Dense(64, activation='relu'))\n",
        "\n",
        "# Add output layer (assuming binary classification)\n",
        "model.add(Dense(1, activation='sigmoid'))\n",
        "\n",
        "# Print model summary\n",
        "model.summary()\n"
      ],
      "metadata": {
        "colab": {
          "base_uri": "https://localhost:8080/"
        },
        "id": "2TRF9vV2i5Ld",
        "outputId": "a1c9291f-ace5-4286-a4a5-7c332ba30f4a"
      },
      "execution_count": 39,
      "outputs": [
        {
          "output_type": "stream",
          "name": "stdout",
          "text": [
            "Model: \"sequential_2\"\n",
            "_________________________________________________________________\n",
            " Layer (type)                Output Shape              Param #   \n",
            "=================================================================\n",
            " dense_6 (Dense)             (None, 128)               1536      \n",
            "                                                                 \n",
            " dense_7 (Dense)             (None, 64)                8256      \n",
            "                                                                 \n",
            " dense_8 (Dense)             (None, 1)                 65        \n",
            "                                                                 \n",
            "=================================================================\n",
            "Total params: 9857 (38.50 KB)\n",
            "Trainable params: 9857 (38.50 KB)\n",
            "Non-trainable params: 0 (0.00 Byte)\n",
            "_________________________________________________________________\n"
          ]
        }
      ]
    },
    {
      "cell_type": "code",
      "source": [
        "from tensorflow.keras.callbacks import TensorBoard, EarlyStopping, ModelCheckpoint\n",
        "import datetime\n",
        "\n",
        "# Define callbacks\n",
        "log_dir = \"logs/fit/\" + datetime.datetime.now().strftime(\"%Y%m%d-%H%M%S\")\n",
        "tensorboard_callback = TensorBoard(log_dir=log_dir, histogram_freq=1)\n",
        "early_stopping = EarlyStopping(monitor='val_loss', patience=5, restore_best_weights=True)\n",
        "model_checkpoint = ModelCheckpoint('best_model.h5', monitor='val_accuracy', save_best_only=True)\n",
        "\n",
        "# Compile the model\n",
        "model.compile(optimizer='adam',\n",
        "              loss='binary_crossentropy',\n",
        "              metrics=['accuracy'])\n",
        "\n",
        "# Fit the model\n",
        "history = model.fit(X_train_scaled, y_train,\n",
        "                    epochs=50,\n",
        "                    batch_size=32,\n",
        "                    validation_data=(X_val_scaled, y_val),\n",
        "                    callbacks=[tensorboard_callback, early_stopping, model_checkpoint])\n",
        "\n",
        "# Q16. Get the model's parameters\n",
        "model_parameters = model.count_params()\n",
        "print(\"Model parameters:\", model_parameters)\n",
        "\n",
        "# Q17. Store the model's training history as a Pandas DataFrame\n",
        "history_df = pd.DataFrame(history.history)\n",
        "\n",
        "# Q18. Plot the model's training history\n",
        "import matplotlib.pyplot as plt\n",
        "\n",
        "plt.figure(figsize=(12, 6))\n",
        "plt.plot(history_df['accuracy'], label='Training Accuracy')\n",
        "plt.plot(history_df['val_accuracy'], label='Validation Accuracy')\n",
        "plt.xlabel('Epoch')\n",
        "plt.ylabel('Accuracy')\n",
        "plt.legend()\n",
        "plt.title('Training and Validation Accuracy over Epochs')\n",
        "plt.show()\n",
        "\n",
        "# Q19. Evaluate the model's performance using the test data\n",
        "test_loss, test_accuracy = model.evaluate(X_test_scaled, y_test)\n",
        "print(f\"Test Accuracy: {test_accuracy:.4f}\")\n"
      ],
      "metadata": {
        "colab": {
          "base_uri": "https://localhost:8080/",
          "height": 1000
        },
        "id": "Z40hSFkfi7HA",
        "outputId": "c04d10bb-5613-4256-fa20-d3f179808ea6"
      },
      "execution_count": 40,
      "outputs": [
        {
          "output_type": "stream",
          "name": "stdout",
          "text": [
            "Epoch 1/50\n",
            "30/30 [==============================] - 1s 13ms/step - loss: 0.5805 - accuracy: 0.7153 - val_loss: 0.5497 - val_accuracy: 0.7563\n",
            "Epoch 2/50\n",
            "30/30 [==============================] - 0s 6ms/step - loss: 0.5121 - accuracy: 0.7393 - val_loss: 0.5373 - val_accuracy: 0.7594\n",
            "Epoch 3/50\n",
            " 1/30 [>.............................] - ETA: 0s - loss: 0.5818 - accuracy: 0.6562"
          ]
        },
        {
          "output_type": "stream",
          "name": "stderr",
          "text": [
            "/usr/local/lib/python3.10/dist-packages/keras/src/engine/training.py:3103: UserWarning: You are saving your model as an HDF5 file via `model.save()`. This file format is considered legacy. We recommend using instead the native Keras format, e.g. `model.save('my_model.keras')`.\n",
            "  saving_api.save_model(\n"
          ]
        },
        {
          "output_type": "stream",
          "name": "stdout",
          "text": [
            "30/30 [==============================] - 0s 5ms/step - loss: 0.4948 - accuracy: 0.7529 - val_loss: 0.5329 - val_accuracy: 0.7719\n",
            "Epoch 4/50\n",
            "30/30 [==============================] - 0s 4ms/step - loss: 0.4855 - accuracy: 0.7716 - val_loss: 0.5278 - val_accuracy: 0.7688\n",
            "Epoch 5/50\n",
            "30/30 [==============================] - 0s 5ms/step - loss: 0.4763 - accuracy: 0.7685 - val_loss: 0.5188 - val_accuracy: 0.7688\n",
            "Epoch 6/50\n",
            "30/30 [==============================] - 0s 5ms/step - loss: 0.4702 - accuracy: 0.7758 - val_loss: 0.5188 - val_accuracy: 0.7625\n",
            "Epoch 7/50\n",
            "30/30 [==============================] - 0s 4ms/step - loss: 0.4622 - accuracy: 0.7727 - val_loss: 0.5373 - val_accuracy: 0.7656\n",
            "Epoch 8/50\n",
            "30/30 [==============================] - 0s 5ms/step - loss: 0.4559 - accuracy: 0.7904 - val_loss: 0.5289 - val_accuracy: 0.7719\n",
            "Epoch 9/50\n",
            "30/30 [==============================] - 0s 5ms/step - loss: 0.4505 - accuracy: 0.7852 - val_loss: 0.5241 - val_accuracy: 0.7719\n",
            "Epoch 10/50\n",
            "30/30 [==============================] - 0s 5ms/step - loss: 0.4473 - accuracy: 0.7852 - val_loss: 0.5242 - val_accuracy: 0.7719\n",
            "Epoch 11/50\n",
            "30/30 [==============================] - 0s 5ms/step - loss: 0.4412 - accuracy: 0.7873 - val_loss: 0.5357 - val_accuracy: 0.7594\n",
            "Model parameters: 9857\n"
          ]
        },
        {
          "output_type": "display_data",
          "data": {
            "text/plain": [
              "<Figure size 1200x600 with 1 Axes>"
            ],
            "image/png": "[encoded data removed]"
          },
          "metadata": {}
        },
        {
          "output_type": "stream",
          "name": "stdout",
          "text": [
            "10/10 [==============================] - 0s 2ms/step - loss: 0.4957 - accuracy: 0.7312\n",
            "Test Accuracy: 0.7312\n"
          ]
        }
      ]
    },
    {
      "cell_type": "code",
      "source": [],
      "metadata": {
        "id": "WwHBz6pEi-aQ"
      },
      "execution_count": null,
      "outputs": []
    }
  ]
}