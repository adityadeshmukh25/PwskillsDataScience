{
 "cells": [
  {
   "cell_type": "code",
   "execution_count": 7,
   "id": "f385c1c3-3230-4549-be88-e14ac142c9c1",
   "metadata": {},
   "outputs": [],
   "source": [
    "# The def keyword is used to create a function\n",
    "def odd():\n",
    "    l1 = []\n",
    "    for i in range(1,26):\n",
    "        if i % 2 !=0:\n",
    "            l1.append(i)\n",
    "    return l1\n"
   ]
  },
  {
   "cell_type": "code",
   "execution_count": 8,
   "id": "5af264a9-6c0c-4f2a-af2c-c565eeefd1ef",
   "metadata": {},
   "outputs": [
    {
     "data": {
      "text/plain": [
       "[1, 3, 5, 7, 9, 11, 13, 15, 17, 19, 21, 23, 25]"
      ]
     },
     "execution_count": 8,
     "metadata": {},
     "output_type": "execute_result"
    }
   ],
   "source": [
    "odd()"
   ]
  },
  {
   "cell_type": "code",
   "execution_count": 9,
   "id": "ee704018-7942-4788-87ec-0c2794963857",
   "metadata": {},
   "outputs": [
    {
     "name": "stdout",
     "output_type": "stream",
     "text": [
      "Hello\n",
      "Welcome\n",
      "to\n",
      "pwskills\n"
     ]
    }
   ],
   "source": [
    "#*args (Non-Keyword Arguments)\n",
    "#**kwargs (Keyword Arguments)\n",
    "def myFun(*argv):\n",
    "    for arg in argv:\n",
    "        print(arg)\n",
    " \n",
    " \n",
    "myFun('Hello', 'Welcome', 'to', 'pwskills')"
   ]
  },
  {
   "cell_type": "code",
   "execution_count": 10,
   "id": "026d1692-ae03-4e00-a3ff-385b2322930d",
   "metadata": {},
   "outputs": [
    {
     "name": "stdout",
     "output_type": "stream",
     "text": [
      "first == pw\n",
      "mid == skills\n",
      "last == academy\n"
     ]
    }
   ],
   "source": [
    "def myFun(**kwargs):\n",
    "    for key, value in kwargs.items():\n",
    "        print(\"%s == %s\" % (key, value))\n",
    " \n",
    " \n",
    "# Driver code\n",
    "myFun(first='pw', mid='skills', last='academy')"
   ]
  },
  {
   "cell_type": "code",
   "execution_count": 12,
   "id": "3d59a5fb-3a51-45a5-af8e-48e3977120bc",
   "metadata": {},
   "outputs": [],
   "source": [
    "a = [2,4,6,8,10,12,14,16,18,20]\n",
    "a = iter(a)"
   ]
  },
  {
   "cell_type": "code",
   "execution_count": 14,
   "id": "9cb32012-9661-4a60-9008-78c4a3f8acde",
   "metadata": {},
   "outputs": [
    {
     "name": "stdout",
     "output_type": "stream",
     "text": [
      "12\n",
      "14\n",
      "16\n",
      "18\n",
      "20\n"
     ]
    }
   ],
   "source": [
    "for i in range(0,5):\n",
    "    print(next(a))"
   ]
  },
  {
   "cell_type": "code",
   "execution_count": 21,
   "id": "2e1e445c-4b5d-4051-a764-d1c6aa41312b",
   "metadata": {},
   "outputs": [],
   "source": [
    "def all_even(n):\n",
    "    while True:\n",
    "        yield n\n",
    "        n += 2"
   ]
  },
  {
   "cell_type": "code",
   "execution_count": 22,
   "id": "79f5dfea-49f6-4176-b1c5-502123c7cb14",
   "metadata": {},
   "outputs": [
    {
     "data": {
      "text/plain": [
       "<generator object all_even at 0x7f2bf00d5380>"
      ]
     },
     "execution_count": 22,
     "metadata": {},
     "output_type": "execute_result"
    }
   ],
   "source": [
    "all_even(8)"
   ]
  },
  {
   "cell_type": "code",
   "execution_count": 23,
   "id": "06d176f1-143c-4345-b253-9c82a586963d",
   "metadata": {},
   "outputs": [],
   "source": [
    "def prime_generator():\n",
    "  n = 2 \n",
    "  while n < 1000:\n",
    "    if is_prime(n): \n",
    "      yield n \n",
    "    n += 1"
   ]
  },
  {
   "cell_type": "code",
   "execution_count": 24,
   "id": "54d6ea08-ad5e-46be-bb32-bb4464a8591d",
   "metadata": {},
   "outputs": [],
   "source": [
    "prime_gen = prime_generator()"
   ]
  },
  {
   "cell_type": "code",
   "execution_count": 26,
   "id": "9ba31b2e-c146-498f-82b4-6f1cf34ae919",
   "metadata": {},
   "outputs": [
    {
     "name": "stdout",
     "output_type": "stream",
     "text": [
      "0\n",
      "1\n",
      "1\n",
      "2\n",
      "3\n",
      "5\n",
      "8\n",
      "13\n",
      "21\n",
      "34\n"
     ]
    }
   ],
   "source": [
    "\n",
    "a = 0 \n",
    "b = 1 \n",
    "\n",
    "count = 0\n",
    "\n",
    "while count < 10:\n",
    "  print(a) \n",
    "  c = a + b\n",
    "  a = b \n",
    "  b = c \n",
    "  count += 1 \n"
   ]
  },
  {
   "cell_type": "code",
   "execution_count": 27,
   "id": "989c693c-3365-4694-93c2-5278e628dd0f",
   "metadata": {},
   "outputs": [
    {
     "name": "stdout",
     "output_type": "stream",
     "text": [
      "['p', 'w', 's', 'k', 'i', 'l', 'l', 's']\n"
     ]
    }
   ],
   "source": [
    "\n",
    "s = 'pwskills'\n",
    "lst = [c for c in s]\n",
    "print(lst)\n"
   ]
  },
  {
   "cell_type": "code",
   "execution_count": 28,
   "id": "a139aea3-8f11-491f-abb8-9a3434ac9752",
   "metadata": {},
   "outputs": [
    {
     "name": "stdin",
     "output_type": "stream",
     "text": [
      "Enter a number:  57\n"
     ]
    },
    {
     "name": "stdout",
     "output_type": "stream",
     "text": [
      "57 is not palindrome\n"
     ]
    }
   ],
   "source": [
    "def is_palindrome(n):\n",
    "  s = str(n)\n",
    "  i = 0\n",
    "  j = len(s) - 1\n",
    "  while i < j:\n",
    "    if s[i] != s[j]:\n",
    "      return False\n",
    "    i += 1\n",
    "    j -= 1\n",
    "  return True\n",
    "n = int(input(\"Enter a number: \"))\n",
    "if is_palindrome(n):\n",
    "  print(n, \"is palindrome\")\n",
    "else:\n",
    "  print(n, \"is not palindrome\")"
   ]
  },
  {
   "cell_type": "code",
   "execution_count": 29,
   "id": "ec77af55-af09-47aa-8010-0529c8453ccd",
   "metadata": {},
   "outputs": [
    {
     "name": "stdout",
     "output_type": "stream",
     "text": [
      "[1, 3, 5, 7, 9, 11, 13, 15, 17, 19, 21, 23, 25, 27, 29, 31, 33, 35, 37, 39, 41, 43, 45, 47, 49, 51, 53, 55, 57, 59, 61, 63, 65, 67, 69, 71, 73, 75, 77, 79, 81, 83, 85, 87, 89, 91, 93, 95, 97, 99]\n"
     ]
    }
   ],
   "source": [
    "\n",
    "lst = [i for i in range(1, 101)]\n",
    "odd = [n for n in lst if n % 2 == 1]\n",
    "print(odd)\n"
   ]
  },
  {
   "cell_type": "code",
   "execution_count": null,
   "id": "6d187cdc-5051-4827-a9c8-1cf18ec6c676",
   "metadata": {},
   "outputs": [],
   "source": []
  }
 ],
 "metadata": {
  "kernelspec": {
   "display_name": "Python 3 (ipykernel)",
   "language": "python",
   "name": "python3"
  },
  "language_info": {
   "codemirror_mode": {
    "name": "ipython",
    "version": 3
   },
   "file_extension": ".py",
   "mimetype": "text/x-python",
   "name": "python",
   "nbconvert_exporter": "python",
   "pygments_lexer": "ipython3",
   "version": "3.10.8"
  }
 },
 "nbformat": 4,
 "nbformat_minor": 5
}
