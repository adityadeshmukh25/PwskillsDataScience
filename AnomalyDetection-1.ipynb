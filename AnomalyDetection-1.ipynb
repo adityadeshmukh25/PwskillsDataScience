{
 "cells": [
  {
   "cell_type": "markdown",
   "id": "7c2466a5-a533-4d85-b768-24893668d421",
   "metadata": {},
   "source": [
    "Q1. Anomaly detection, also known as outlier detection, is the process of identifying patterns or instances in data that deviate significantly from the norm or expected behavior. Its purpose is to detect unusual or suspicious events, patterns, or outliers that may indicate potential anomalies or fraud.\n",
    "\n",
    "Q2. Key challenges in anomaly detection include:\n",
    "   - Identifying anomalies accurately without misclassifying normal data.\n",
    "   - Dealing with imbalanced datasets where anomalies are rare compared to normal data.\n",
    "   - Handling high-dimensional data where traditional distance metrics may become less effective.\n",
    "   - Adapting to evolving data patterns and concept drift.\n",
    "   - Interpreting and explaining detected anomalies to stakeholders.\n",
    "\n",
    "Q3. Unsupervised anomaly detection does not require labeled data and aims to detect outliers based solely on the characteristics of the data itself. In contrast, supervised anomaly detection requires labeled data with examples of both normal and anomalous instances to train a model to distinguish between them.\n",
    "\n",
    "Q4. The main categories of anomaly detection algorithms are:\n",
    "   - Statistical methods: Based on probability distributions and statistical properties of data.\n",
    "   - Machine learning-based methods: Utilize algorithms such as clustering, classification, or density estimation to identify anomalies.\n",
    "   - Distance-based methods: Measure distances or similarities between data points to detect outliers.\n",
    "   - Domain-specific methods: Tailored to specific domains or applications, such as network intrusion detection or fraud detection.\n",
    "\n",
    "Q5. Distance-based anomaly detection methods typically make the assumption that anomalies are located far away from normal data points in the feature space. They measure the distance or similarity between data points and consider instances that are significantly distant from their neighbors as anomalies.\n",
    "\n",
    "Q6. The LOF (Local Outlier Factor) algorithm computes anomaly scores by comparing the density of a data point's neighborhood to the densities of its neighbors. A data point with a significantly lower density compared to its neighbors is considered an outlier and assigned a higher anomaly score.\n",
    "\n",
    "Q7. The key parameters of the Isolation Forest algorithm include:\n",
    "   - Number of trees: The number of decision trees in the ensemble.\n",
    "   - Maximum depth of trees: The maximum depth of each decision tree.\n",
    "   - Subsampling size: The size of the random subset of data used to train each tree.\n",
    "   - Contamination parameter: The expected proportion of outliers in the dataset.\n",
    "\n",
    "Q8. Anomaly score using KNN with K=10 would depend on the distance to the 10th nearest neighbor. If a data point has only 2 neighbors of the same class within a radius of 0.5, it suggests that it is located in a sparse region of the feature space, indicating a higher likelihood of being an anomaly.\n",
    "\n",
    "Q9. In the Isolation Forest algorithm, the anomaly score for a data point is inversely proportional to its average path length in the trees. A lower average path length indicates that the data point is easier to isolate and is therefore more likely to be an anomaly. With an average path length of 5.0 compared to the average path length of the trees, the data point would likely have a higher anomaly score, indicating a higher likelihood of being an outlier."
   ]
  },
  {
   "cell_type": "code",
   "execution_count": null,
   "id": "6c175c99-6719-4b30-93cb-ebb44e8532e3",
   "metadata": {},
   "outputs": [],
   "source": []
  }
 ],
 "metadata": {
  "kernelspec": {
   "display_name": "Python 3 (ipykernel)",
   "language": "python",
   "name": "python3"
  },
  "language_info": {
   "codemirror_mode": {
    "name": "ipython",
    "version": 3
   },
   "file_extension": ".py",
   "mimetype": "text/x-python",
   "name": "python",
   "nbconvert_exporter": "python",
   "pygments_lexer": "ipython3",
   "version": "3.10.8"
  }
 },
 "nbformat": 4,
 "nbformat_minor": 5
}
