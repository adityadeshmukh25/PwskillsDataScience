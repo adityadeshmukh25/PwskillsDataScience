{
 "cells": [
  {
   "cell_type": "markdown",
   "id": "5be62c50-097a-4564-8306-34b771fa9b28",
   "metadata": {},
   "source": [
    "Q.1) \n",
    "An exception in Python is an event that occurs when something goes wrong in the code, and disrupts the normal flow of execution. Exceptions are different from syntax errors, which are mistakes in the code that prevent the program from running. For example, a syntax error would be writing prin instead of print, while an exception would be trying to divide a number by zero, which is not allowed in mathematics.\n"
   ]
  },
  {
   "cell_type": "code",
   "execution_count": null,
   "id": "76335f8e-cd5c-4273-9637-25a2f1d2155f",
   "metadata": {},
   "outputs": [],
   "source": [
    "# A syntax error example\n",
    "print(\"Hello, world!\") # This will cause a SyntaxError: invalid syntax\n",
    "\n",
    "# An exception example\n",
    "print(10 / 0) # This will cause a ZeroDivisionError: division by zero\n"
   ]
  },
  {
   "cell_type": "markdown",
   "id": "1e1d4bc1-9c1b-4939-a1c0-18a8337a2421",
   "metadata": {},
   "source": [
    "Q.2) When an exception is not handled in Python, it means that the program does not have any code to deal with the error that occurred during the execution. This will cause the program to stop and display a traceback message, which shows the type of exception, the line of code where it occurred, and the call stack. The program will not continue to run after the exception, unless it is caught by a higher-level function or module."
   ]
  },
  {
   "cell_type": "code",
   "execution_count": 4,
   "id": "f5004415-e23f-4dba-a1cf-bd4f5ea21c51",
   "metadata": {},
   "outputs": [
    {
     "name": "stdout",
     "output_type": "stream",
     "text": [
      "division by zero\n"
     ]
    }
   ],
   "source": [
    "a = 4\n",
    "b = 0\n",
    "try:\n",
    "    c = a/b\n",
    "    print(\"result: \",c)\n",
    "except Exception as e:\n",
    "    print(e)"
   ]
  },
  {
   "cell_type": "markdown",
   "id": "de02d919-d0f8-4095-bb36-cb4bc6d3bb48",
   "metadata": {},
   "source": [
    "Q.4) The try and else, finally, raise keywords are used to handle exceptions in Python. Exceptions are errors that occur during the execution of a program, and can cause it to terminate unexpectedly. The try block contains the code that may raise an exception, the except block contains the code that handles the exception, the else block contains the code that executes if no exception occurs, and the finally block contains the code that always executes regardless of the exception. The raise keyword is used to manually trigger an exception."
   ]
  },
  {
   "cell_type": "code",
   "execution_count": 5,
   "id": "7d6c40db-f9b0-485a-9161-dc02d9e3797c",
   "metadata": {},
   "outputs": [
    {
     "name": "stdout",
     "output_type": "stream",
     "text": [
      "The result is 5.0\n",
      "The division is done\n",
      "You can't divide by zero!\n",
      "The division is done\n"
     ]
    },
    {
     "ename": "ZeroDivisionError",
     "evalue": "division by zero",
     "output_type": "error",
     "traceback": [
      "\u001b[0;31m---------------------------------------------------------------------------\u001b[0m",
      "\u001b[0;31mZeroDivisionError\u001b[0m                         Traceback (most recent call last)",
      "Cell \u001b[0;32mIn[5], line 13\u001b[0m\n\u001b[1;32m     10\u001b[0m         \u001b[38;5;28mprint\u001b[39m(\u001b[38;5;124m\"\u001b[39m\u001b[38;5;124mThe division is done\u001b[39m\u001b[38;5;124m\"\u001b[39m)\n\u001b[1;32m     12\u001b[0m divide(\u001b[38;5;241m10\u001b[39m, \u001b[38;5;241m2\u001b[39m)\n\u001b[0;32m---> 13\u001b[0m \u001b[43mdivide\u001b[49m\u001b[43m(\u001b[49m\u001b[38;5;241;43m10\u001b[39;49m\u001b[43m,\u001b[49m\u001b[43m \u001b[49m\u001b[38;5;241;43m0\u001b[39;49m\u001b[43m)\u001b[49m\n",
      "Cell \u001b[0;32mIn[5], line 3\u001b[0m, in \u001b[0;36mdivide\u001b[0;34m(a, b)\u001b[0m\n\u001b[1;32m      1\u001b[0m \u001b[38;5;28;01mdef\u001b[39;00m \u001b[38;5;21mdivide\u001b[39m(a, b):\n\u001b[1;32m      2\u001b[0m     \u001b[38;5;28;01mtry\u001b[39;00m:\n\u001b[0;32m----> 3\u001b[0m         result \u001b[38;5;241m=\u001b[39m \u001b[43ma\u001b[49m\u001b[43m \u001b[49m\u001b[38;5;241;43m/\u001b[39;49m\u001b[43m \u001b[49m\u001b[43mb\u001b[49m\n\u001b[1;32m      4\u001b[0m     \u001b[38;5;28;01mexcept\u001b[39;00m \u001b[38;5;167;01mZeroDivisionError\u001b[39;00m:\n\u001b[1;32m      5\u001b[0m         \u001b[38;5;28mprint\u001b[39m(\u001b[38;5;124m\"\u001b[39m\u001b[38;5;124mYou can\u001b[39m\u001b[38;5;124m'\u001b[39m\u001b[38;5;124mt divide by zero!\u001b[39m\u001b[38;5;124m\"\u001b[39m)\n",
      "\u001b[0;31mZeroDivisionError\u001b[0m: division by zero"
     ]
    }
   ],
   "source": [
    "def divide(a, b):\n",
    "    try:\n",
    "        result = a / b\n",
    "    except ZeroDivisionError:\n",
    "        print(\"You can't divide by zero!\")\n",
    "        raise\n",
    "    else:\n",
    "        print(f\"The result is {result}\")\n",
    "    finally:\n",
    "        print(\"The division is done\")\n",
    "\n",
    "divide(10, 2)\n",
    "divide(10, 0)\n"
   ]
  },
  {
   "cell_type": "markdown",
   "id": "9a02b25a-f503-41f1-97d8-ebfc8aa8584e",
   "metadata": {},
   "source": [
    "Q.5) Custom exceptions are user-defined exceptions that allow you to raise errors specific to your application’s requirements. You can create your own exception classes by inheriting from the base exception class provided by Python. Custom exceptions can provide additional information about the error and improve code readability.\n",
    "\n",
    "You may need custom exceptions when the built-in exceptions are not sufficient to describe the problem that occurred in your program. For example, suppose you are writing a program that reads data from a file. If the file does not exist, Python will raise a FileNotFoundError exception. However, you may want to handle this exception differently than the way it is handled by default. You can create a custom exception class that inherits from FileNotFoundError and add some extra attributes or methods to it. "
   ]
  },
  {
   "cell_type": "code",
   "execution_count": 7,
   "id": "90313528-5815-4b53-8dfc-f0c6ac36eb05",
   "metadata": {},
   "outputs": [
    {
     "name": "stdin",
     "output_type": "stream",
     "text": [
      "Enter Your Password:  212\n"
     ]
    },
    {
     "ename": "ValueError",
     "evalue": "",
     "output_type": "error",
     "traceback": [
      "\u001b[0;31m---------------------------------------------------------------------------\u001b[0m",
      "\u001b[0;31mValueError\u001b[0m                                Traceback (most recent call last)",
      "Cell \u001b[0;32mIn[7], line 5\u001b[0m\n\u001b[1;32m      3\u001b[0m     \u001b[38;5;28mprint\u001b[39m(\u001b[38;5;124m\"\u001b[39m\u001b[38;5;124mCorrect!\u001b[39m\u001b[38;5;124m\"\u001b[39m)\n\u001b[1;32m      4\u001b[0m \u001b[38;5;28;01melse\u001b[39;00m:\n\u001b[0;32m----> 5\u001b[0m     \u001b[38;5;28;01mraise\u001b[39;00m \u001b[38;5;167;01mValueError\u001b[39;00m\n",
      "\u001b[0;31mValueError\u001b[0m: "
     ]
    }
   ],
   "source": [
    "a = input(\"Enter Your Password: \")\n",
    "if a == '2004':\n",
    "    print(\"Correct!\")\n",
    "else:\n",
    "    raise ValueError"
   ]
  },
  {
   "cell_type": "code",
   "execution_count": null,
   "id": "e70ed6d1-7e17-4522-b70a-83270df41e92",
   "metadata": {},
   "outputs": [],
   "source": [
    "# Define a custom exception class\n",
    "class NegativeNumberError(Exception):\n",
    "    # Initialize the class with a number and a message\n",
    "    def __init__(self, number, message=\"Number is negative\"):\n",
    "        self.number = number\n",
    "        self.message = message\n",
    "        # Call the base class constructor\n",
    "        super().__init__(self.message)\n",
    "\n",
    "    # Define a method to return the number\n",
    "    def get_number(self):\n",
    "        return self.number\n",
    "\n",
    "# Define an expression that may raise an exception\n",
    "def square_root(number):\n",
    "    # If the number is negative, raise the custom exception\n",
    "    if number < 0:\n",
    "        raise NegativeNumberError(number)\n",
    "    # Otherwise, return the square root of the number\n",
    "    else:\n",
    "        return number ** 0.5\n",
    "\n",
    "# Try to evaluate the expression with different values\n",
    "try:\n",
    "    print(square_root"
   ]
  }
 ],
 "metadata": {
  "kernelspec": {
   "display_name": "Python 3 (ipykernel)",
   "language": "python",
   "name": "python3"
  },
  "language_info": {
   "codemirror_mode": {
    "name": "ipython",
    "version": 3
   },
   "file_extension": ".py",
   "mimetype": "text/x-python",
   "name": "python",
   "nbconvert_exporter": "python",
   "pygments_lexer": "ipython3",
   "version": "3.10.8"
  }
 },
 "nbformat": 4,
 "nbformat_minor": 5
}
