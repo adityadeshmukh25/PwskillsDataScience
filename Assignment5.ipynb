{
 "cells": [
  {
   "cell_type": "code",
   "execution_count": 1,
   "id": "bad26226-aaa0-4ac0-bb5b-7765388969e7",
   "metadata": {},
   "outputs": [],
   "source": [
    "class vehicle:\n",
    "    def __init__(self, name_of_vehicle, vehicle_max_speed, average_vehicle):\n",
    "        self.name_of_vehicle = name_of_vehicle\n",
    "        self.vehicle_max_speed = vehicle_max_speed\n",
    "        self.average_vehicle = average_vehicle"
   ]
  },
  {
   "cell_type": "code",
   "execution_count": 10,
   "id": "51ee0061-51a5-462d-aed8-064fe29fe488",
   "metadata": {},
   "outputs": [],
   "source": [
    "class car(vehicle):\n",
    "    def seating_capacity(self, capacity):\n",
    "        seating_capacity = capacity\n",
    "        return self.name_of_vehicle, seating_capacity"
   ]
  },
  {
   "cell_type": "code",
   "execution_count": 11,
   "id": "4d108842-d040-4612-a05e-d4ac410b13d1",
   "metadata": {},
   "outputs": [],
   "source": [
    "objcar = car('bmw',300,80)"
   ]
  },
  {
   "cell_type": "code",
   "execution_count": 12,
   "id": "47733854-7321-4f08-8c0b-c7862e1df6cd",
   "metadata": {},
   "outputs": [
    {
     "data": {
      "text/plain": [
       "('bmw', 4)"
      ]
     },
     "execution_count": 12,
     "metadata": {},
     "output_type": "execute_result"
    }
   ],
   "source": [
    "objcar.seating_capacity(4)"
   ]
  },
  {
   "cell_type": "code",
   "execution_count": 13,
   "id": "8f6914ae-7e87-4b7a-8224-220a8becb1cf",
   "metadata": {},
   "outputs": [],
   "source": [
    "class dog:\n",
    "    def sound(self):\n",
    "        return 'bhow bhow'\n"
   ]
  },
  {
   "cell_type": "code",
   "execution_count": 14,
   "id": "619068fb-8bca-4781-a129-6c165bb8966e",
   "metadata": {},
   "outputs": [],
   "source": [
    "class cat:\n",
    "    def sound(self):\n",
    "        return 'meow meow'"
   ]
  },
  {
   "cell_type": "code",
   "execution_count": 15,
   "id": "a9b6218c-de63-44fc-9e29-52f116dd77ee",
   "metadata": {},
   "outputs": [],
   "source": [
    "class animal(dog, cat):\n",
    "    pass"
   ]
  },
  {
   "cell_type": "code",
   "execution_count": 21,
   "id": "c6ea59cc-240e-470e-9b7d-4719f5becce7",
   "metadata": {},
   "outputs": [
    {
     "data": {
      "text/plain": [
       "'bhow bhow'"
      ]
     },
     "execution_count": 21,
     "metadata": {},
     "output_type": "execute_result"
    }
   ],
   "source": [
    "user = animal()\n",
    "user.sound()"
   ]
  },
  {
   "cell_type": "code",
   "execution_count": 23,
   "id": "f6794cc4-91f0-4a7c-8dd3-f4df094e0eee",
   "metadata": {},
   "outputs": [],
   "source": [
    "class student:\n",
    "    def __init__(self, name, email):\n",
    "        self.__name = name\n",
    "        self.__email = email\n",
    "    def set_name(self, name):\n",
    "        self.__name = 'aditya'\n",
    "    def get_name(self):\n",
    "        return self.__name\n",
    "        "
   ]
  },
  {
   "cell_type": "code",
   "execution_count": 29,
   "id": "d26c12e1-3bda-4923-9d5a-801362dc9880",
   "metadata": {},
   "outputs": [],
   "source": [
    "user = student('aman', 'aditya25.com')"
   ]
  },
  {
   "cell_type": "code",
   "execution_count": 30,
   "id": "3e63b71e-f588-446a-a3fe-8c205ae2f6bf",
   "metadata": {},
   "outputs": [],
   "source": [
    "#Method overriding is an ability of any object-oriented programming language that allows a subclass or child class to provide a specific \n",
    "# implementation of a method that is already provided by one of its super-classes or parent classes."
   ]
  },
  {
   "cell_type": "code",
   "execution_count": 32,
   "id": "aa3c6142-ff79-4a8f-89ce-2347f37f38a5",
   "metadata": {},
   "outputs": [],
   "source": [
    "class Parent():\n",
    "      \n",
    "    # Constructor\n",
    "    def __init__(self):\n",
    "        self.value = \"Inside Parent\"\n",
    "          \n",
    "    # Parent's show method\n",
    "    def show(self):\n",
    "        print(self.value)\n",
    "          \n",
    "# Defining child class\n",
    "class Child(Parent):\n",
    "      \n",
    "    # Constructor\n",
    "    def __init__(self):\n",
    "        self.value = \"Inside Child\"\n",
    "          \n",
    "    # Child's show method\n",
    "    def show(self):\n",
    "        print(self.value)\n",
    "  "
   ]
  },
  {
   "cell_type": "code",
   "execution_count": 33,
   "id": "68bf1ed2-247b-4e85-b2e4-13736f983fad",
   "metadata": {},
   "outputs": [
    {
     "name": "stdout",
     "output_type": "stream",
     "text": [
      "Inside Parent\n",
      "Inside Child\n"
     ]
    }
   ],
   "source": [
    "# Driver's code\n",
    "obj1 = Parent()\n",
    "obj2 = Child()\n",
    "obj1.show()\n",
    "obj2.show()"
   ]
  },
  {
   "cell_type": "code",
   "execution_count": null,
   "id": "ab89215f-5da2-4455-8ece-6d8c59cc2e26",
   "metadata": {},
   "outputs": [],
   "source": []
  }
 ],
 "metadata": {
  "kernelspec": {
   "display_name": "Python 3 (ipykernel)",
   "language": "python",
   "name": "python3"
  },
  "language_info": {
   "codemirror_mode": {
    "name": "ipython",
    "version": 3
   },
   "file_extension": ".py",
   "mimetype": "text/x-python",
   "name": "python",
   "nbconvert_exporter": "python",
   "pygments_lexer": "ipython3",
   "version": "3.10.8"
  }
 },
 "nbformat": 4,
 "nbformat_minor": 5
}
