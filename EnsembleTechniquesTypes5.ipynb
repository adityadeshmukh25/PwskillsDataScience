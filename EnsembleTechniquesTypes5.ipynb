{
 "cells": [
  {
   "cell_type": "markdown",
   "id": "2d1abb9e-8927-4feb-a173-f7d5bda96dd5",
   "metadata": {},
   "source": [
    "# Random Forest Assignment"
   ]
  },
  {
   "cell_type": "code",
   "execution_count": 1,
   "id": "1488edaa-fc09-4a97-9008-02afc396490a",
   "metadata": {},
   "outputs": [],
   "source": [
    "from sklearn.pipeline import Pipeline\n",
    "from sklearn.compose import ColumnTransformer\n",
    "from sklearn.impute import SimpleImputer\n",
    "from sklearn.preprocessing import StandardScaler, OneHotEncoder\n",
    "from sklearn.feature_selection import SelectFromModel\n",
    "from sklearn.ensemble import RandomForestClassifier\n",
    "from sklearn.linear_model import LogisticRegression\n",
    "from sklearn.ensemble import VotingClassifier\n",
    "from sklearn.model_selection import train_test_split\n",
    "from sklearn.metrics import accuracy_score\n",
    "\n",
    "# Assuming X_train, X_test, y_train, y_test are your training and testing data and labels respectively"
   ]
  },
  {
   "cell_type": "code",
   "execution_count": 2,
   "id": "a917c5fd-23d1-40df-83c1-648fea54c089",
   "metadata": {},
   "outputs": [],
   "source": [
    "# Step 1: Automated feature selection\n",
    "feature_selection = SelectFromModel(RandomForestClassifier(n_estimators=100))\n"
   ]
  },
  {
   "cell_type": "code",
   "execution_count": 3,
   "id": "85186be7-5a94-42ee-8ffb-d201d59f8f66",
   "metadata": {},
   "outputs": [],
   "source": [
    "# Step 2: Numerical pipeline\n",
    "numerical_pipeline = Pipeline([\n",
    "    ('imputer', SimpleImputer(strategy='mean')),\n",
    "    ('scaler', StandardScaler())\n",
    "])"
   ]
  },
  {
   "cell_type": "code",
   "execution_count": 4,
   "id": "0c6531dc-fbb5-4960-a0ca-3901ad879f61",
   "metadata": {},
   "outputs": [],
   "source": [
    "# Step 3: Categorical pipeline\n",
    "categorical_pipeline = Pipeline([\n",
    "    ('imputer', SimpleImputer(strategy='most_frequent')),\n",
    "    ('onehot', OneHotEncoder(handle_unknown='ignore'))\n",
    "])"
   ]
  },
  {
   "cell_type": "code",
   "execution_count": null,
   "id": "7d7c29ae-1527-40a6-b6d3-cc1224f26a95",
   "metadata": {},
   "outputs": [],
   "source": [
    "# Step 4: Combining numerical and categorical pipelines\n",
    "preprocessor = ColumnTransformer([\n",
    "    ('num', numerical_pipeline, numerical_features),\n",
    "    ('cat', categorical_pipeline, categorical_features)\n",
    "])\n"
   ]
  },
  {
   "cell_type": "code",
   "execution_count": null,
   "id": "631efcf6-8acd-4dde-827d-32d65313a883",
   "metadata": {},
   "outputs": [],
   "source": [
    "# Step 5: Final pipeline with Random Forest Classifier and Logistc Regression Classifier\n",
    "final_pipeline = Pipeline([\n",
    "    ('feature_selection', feature_selection),\n",
    "    ('preprocessor', preprocessor),\n",
    "    ('voting_classifier', VotingClassifier(estimators=[\n",
    "        ('rf', RandomForestClassifier(n_estimators=100)),\n",
    "        ('lr', LogisticRegression())\n",
    "    ]))\n",
    "])"
   ]
  },
  {
   "cell_type": "code",
   "execution_count": null,
   "id": "87e28a5f-605a-4285-a9f0-447370f0f625",
   "metadata": {},
   "outputs": [],
   "source": [
    "# Step 6: Train the pipeline\n",
    "final_pipeline.fit(X_train, y_train)\n"
   ]
  },
  {
   "cell_type": "code",
   "execution_count": null,
   "id": "96fc79b9-db0f-47c8-a847-ce0cda9f5d77",
   "metadata": {},
   "outputs": [],
   "source": [
    "# Step 7: Evaluate accuracy on the test dataset\n",
    "y_pred = final_pipeline.predict(X_test)\n",
    "accuracy = accuracy_score(y_test, y_pred)\n",
    "print(\"Accuracy:\", accuracy)\n"
   ]
  },
  {
   "cell_type": "code",
   "execution_count": null,
   "id": "a8bcdc29-e472-4add-823f-62234a04d45a",
   "metadata": {},
   "outputs": [],
   "source": [
    "EnsembleTechniquesTypes5"
   ]
  }
 ],
 "metadata": {
  "kernelspec": {
   "display_name": "Python 3 (ipykernel)",
   "language": "python",
   "name": "python3"
  },
  "language_info": {
   "codemirror_mode": {
    "name": "ipython",
    "version": 3
   },
   "file_extension": ".py",
   "mimetype": "text/x-python",
   "name": "python",
   "nbconvert_exporter": "python",
   "pygments_lexer": "ipython3",
   "version": "3.10.8"
  }
 },
 "nbformat": 4,
 "nbformat_minor": 5
}
