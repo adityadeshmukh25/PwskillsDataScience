{
 "cells": [
  {
   "cell_type": "markdown",
   "id": "594f994d-9696-4f06-908e-19b13b3ae988",
   "metadata": {},
   "source": [
    "### Q1. Difference between Ordinal Encoding and Label Encoding\n",
    "- **Label Encoding:** It's a method where each unique category in a column is assigned a different integer number. For instance, in a \"Size\" column: small = 0, medium = 1, large = 2.\n",
    "- **Ordinal Encoding:** Similar to Label Encoding, but here, the categories are assigned values based on the order or rank among the categories. For example, low = 0, medium = 1, high = 2.\n",
    "\n",
    "**Example:** For a column representing T-shirt sizes, if there is no inherent order, Label Encoding can be used. But if there's an order (like XS < S < M < L < XL), then Ordinal Encoding would be more appropriate.\n",
    "\n",
    "### Q2. Target Guided Ordinal Encoding\n",
    "- **Target Guided Ordinal Encoding:** This method involves encoding categorical variables based on the target variable's mean or some statistical measure for each category. It can help create ordinal relationships in categorical data based on their relationship with the target variable.\n",
    "\n",
    "**Example:** In a dataset with \"Education Level\" as a categorical feature, encoding it based on the average salary associated with each education level.\n",
    "\n",
    "### Q3. Covariance\n",
    "- **Covariance:** It's a measure of how much two random variables change together. It indicates the direction of the linear relationship between variables.\n",
    "- **Importance:** Covariance helps understand the relationship between variables in a dataset. A positive covariance suggests that as one variable increases, the other also tends to increase, while a negative covariance implies an inverse relationship. However, covariance doesn't provide the strength of the relationship."
   ]
  },
  {
   "cell_type": "code",
   "execution_count": 2,
   "id": "5709ed9f-25a8-41a5-aaae-2d453a154d5c",
   "metadata": {},
   "outputs": [
    {
     "name": "stdout",
     "output_type": "stream",
     "text": [
      "   Color  Size  Material\n",
      "0      2     2         2\n",
      "1      1     1         0\n",
      "2      0     0         1\n"
     ]
    }
   ],
   "source": [
    "### Q4. Label Encoding using scikit-learn\n",
    "\n",
    "from sklearn.preprocessing import LabelEncoder\n",
    "import pandas as pd\n",
    "\n",
    "data = {\n",
    "    'Color': ['red', 'green', 'blue'],\n",
    "    'Size': ['small', 'medium', 'large'],\n",
    "    'Material': ['wood', 'metal', 'plastic']\n",
    "}\n",
    "\n",
    "df = pd.DataFrame(data)\n",
    "\n",
    "label_encoder = LabelEncoder()\n",
    "df_encoded = df.apply(label_encoder.fit_transform)\n",
    "print(df_encoded)"
   ]
  },
  {
   "cell_type": "code",
   "execution_count": 5,
   "id": "a85f4386-f85f-4f68-abbb-945149db155a",
   "metadata": {},
   "outputs": [
    {
     "name": "stdout",
     "output_type": "stream",
     "text": [
      "[[1.66666667e+02 2.25000000e+05 4.33333333e+01]\n",
      " [2.25000000e+05 3.06250000e+08 5.75000000e+04]\n",
      " [4.33333333e+01 5.75000000e+04 1.16666667e+01]]\n"
     ]
    }
   ],
   "source": [
    "### Q5. Covariance Matrix Calculation\n",
    "#The covariance matrix provides covariances and variances between variables.\n",
    "import numpy as np\n",
    "\n",
    "# Assuming arrays for Age, Income, and Education Level\n",
    "# Replace these arrays with your actual dataset columns\n",
    "age = np.array([30, 40, 50, 60])\n",
    "income = np.array([50000, 60000, 75000, 90000])\n",
    "education_level = np.array([12, 16, 18, 20])\n",
    "\n",
    "cov_matrix = np.cov([age, income, education_level])\n",
    "print(cov_matrix)\n",
    "\n",
    "#**Interpretation:** The diagonal elements represent the variances of each variable. Off-diagonal elements show the covariances between pairs of variables.\n"
   ]
  },
  {
   "cell_type": "markdown",
   "id": "10e2d5ac-7045-440f-9b84-bde9fd41ef29",
   "metadata": {},
   "source": [
    "\n",
    "### Q6. Encoding Methods for Categorical Variables\n",
    "- **Gender:** Binary encoding (1 for Male, 0 for Female) as there are only two categories.\n",
    "- **Education Level:** Ordinal Encoding based on the level of education achieved.\n",
    "- **Employment Status:** One-Hot Encoding to create binary columns for each category as there's no ordinal relationship.\n",
    "\n",
    "### Q7. Covariance Calculation between Variables\n",
    "Calculate covariance using statistical libraries like NumPy or Pandas to understand the relationship between continuous variables and interpret their results similarly to question 5, interpreting the direction and magnitude of relationships."
   ]
  },
  {
   "cell_type": "code",
   "execution_count": null,
   "id": "cb7a806e-8596-4b6a-976d-f754b6389549",
   "metadata": {},
   "outputs": [],
   "source": []
  }
 ],
 "metadata": {
  "kernelspec": {
   "display_name": "Python 3 (ipykernel)",
   "language": "python",
   "name": "python3"
  },
  "language_info": {
   "codemirror_mode": {
    "name": "ipython",
    "version": 3
   },
   "file_extension": ".py",
   "mimetype": "text/x-python",
   "name": "python",
   "nbconvert_exporter": "python",
   "pygments_lexer": "ipython3",
   "version": "3.10.8"
  }
 },
 "nbformat": 4,
 "nbformat_minor": 5
}
