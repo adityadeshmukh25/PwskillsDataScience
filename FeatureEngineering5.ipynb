{
 "cells": [
  {
   "cell_type": "markdown",
   "id": "d4046d86-2265-47e5-8599-31ea1734c7f9",
   "metadata": {},
   "source": [
    "### Q1: Pearson Correlation Coefficient between study time and exam scores\n",
    "\n",
    "The Pearson correlation coefficient measures the strength and direction of the linear relationship between two continuous variables. Let's say you've collected data on study time (in hours) and exam scores for a group of students.\n",
    "\n",
    "Let's assume you've calculated the Pearson correlation coefficient and found it to be r = 0.75.\n",
    "\n",
    "Interpretation: \n",
    "- A correlation coefficient of 0.75 indicates a strong positive linear relationship between the amount of time students spend studying for an exam and their final exam scores.\n",
    "- This means that as study time increases, the exam scores tend to increase as well.\n",
    "- However, correlation does not imply causation, so spending more time studying doesn't necessarily cause higher scores, but there's a strong association between these variables in a positive direction.\n",
    "\n",
    "### Q2: Spearman's Rank Correlation between sleep and job satisfaction\n",
    "\n",
    "Spearman's rank correlation assesses the strength and direction of association between two variables measured on an ordinal or ranked scale. Let's assume you have data on the amount of sleep (in hours) and job satisfaction levels (ranked from 1 to 10) for a group of individuals.\n",
    "\n",
    "After calculations, let's assume you found the Spearman's rank correlation coefficient to be rs = 0.68.\n",
    "\n",
    "Interpretation:\n",
    "- A Spearman's rank correlation coefficient of 0.68 suggests a moderately strong positive monotonic relationship between the amount of sleep individuals get each night and their overall job satisfaction.\n",
    "- This means that as the amount of sleep increases, job satisfaction tends to be higher, although this doesn't imply a linear relationship.\n",
    "\n",
    "### Q3: Pearson and Spearman's Rank Correlation between exercise hours and BMI\n",
    "\n",
    "For this scenario, let's assume you've gathered data on the number of hours of exercise per week and the BMI of 50 participants.\n",
    "\n",
    "After calculations:\n",
    "- If the Pearson correlation coefficient (r) between exercise hours and BMI is 0.6, it indicates a moderate positive linear relationship between exercise hours and BMI.\n",
    "- If the Spearman's rank correlation coefficient (rs) between exercise hours and BMI is 0.55, it suggests a moderate positive monotonic relationship between these variables.\n",
    "\n",
    "Comparing Pearson and Spearman:\n",
    "- Both coefficients show a positive relationship, but Pearson measures linear relationships, while Spearman measures monotonic relationships.\n",
    "- The similarity in the strength and direction of both coefficients indicates that the relationship between exercise hours and BMI is consistent, whether linear or monotonic.\n",
    "\n",
    "### Q4: Pearson Correlation between TV watching and physical activity\n",
    "\n",
    "Assuming you've collected data on the number of hours individuals spend watching TV per day and their level of physical activity for 50 participants.\n",
    "\n",
    "After calculations, let's say the Pearson correlation coefficient between these variables is r = -0.45.\n",
    "\n",
    "Interpretation:\n",
    "- A Pearson correlation coefficient of -0.45 indicates a moderate negative linear relationship between the number of hours spent watching TV per day and the level of physical activity.\n",
    "- This means that as TV watching time increases, the level of physical activity tends to decrease, showing an inverse association.\n",
    "\n",
    "These interpretations are based on hypothetical correlation coefficient values. Actual interpretations may vary depending on the specific data and context of the study."
   ]
  },
  {
   "cell_type": "code",
   "execution_count": 1,
   "id": "a312f566-dc18-49e4-9991-a5735004291b",
   "metadata": {},
   "outputs": [],
   "source": [
    "#Q.5 \n",
    "import pandas as pd"
   ]
  },
  {
   "cell_type": "code",
   "execution_count": 2,
   "id": "6f2e586a-fc3a-4495-a29b-0b2eee91a681",
   "metadata": {},
   "outputs": [],
   "source": [
    "df = pd.DataFrame({'Age':[25,42,37,19,31,28],\n",
    "                   'Soft_drink_preferance': ['coke','Pepsi','Mountain Dew','coke','Pepsi','coke']})"
   ]
  },
  {
   "cell_type": "code",
   "execution_count": 3,
   "id": "cac31f5b-b5c1-4026-aa21-84caafc6bcca",
   "metadata": {},
   "outputs": [
    {
     "data": {
      "text/html": [
       "<div>\n",
       "<style scoped>\n",
       "    .dataframe tbody tr th:only-of-type {\n",
       "        vertical-align: middle;\n",
       "    }\n",
       "\n",
       "    .dataframe tbody tr th {\n",
       "        vertical-align: top;\n",
       "    }\n",
       "\n",
       "    .dataframe thead th {\n",
       "        text-align: right;\n",
       "    }\n",
       "</style>\n",
       "<table border=\"1\" class=\"dataframe\">\n",
       "  <thead>\n",
       "    <tr style=\"text-align: right;\">\n",
       "      <th></th>\n",
       "      <th>Age</th>\n",
       "      <th>Soft_drink_preferance</th>\n",
       "    </tr>\n",
       "  </thead>\n",
       "  <tbody>\n",
       "    <tr>\n",
       "      <th>0</th>\n",
       "      <td>25</td>\n",
       "      <td>coke</td>\n",
       "    </tr>\n",
       "    <tr>\n",
       "      <th>1</th>\n",
       "      <td>42</td>\n",
       "      <td>Pepsi</td>\n",
       "    </tr>\n",
       "    <tr>\n",
       "      <th>2</th>\n",
       "      <td>37</td>\n",
       "      <td>Mountain Dew</td>\n",
       "    </tr>\n",
       "    <tr>\n",
       "      <th>3</th>\n",
       "      <td>19</td>\n",
       "      <td>coke</td>\n",
       "    </tr>\n",
       "    <tr>\n",
       "      <th>4</th>\n",
       "      <td>31</td>\n",
       "      <td>Pepsi</td>\n",
       "    </tr>\n",
       "    <tr>\n",
       "      <th>5</th>\n",
       "      <td>28</td>\n",
       "      <td>coke</td>\n",
       "    </tr>\n",
       "  </tbody>\n",
       "</table>\n",
       "</div>"
      ],
      "text/plain": [
       "   Age Soft_drink_preferance\n",
       "0   25                  coke\n",
       "1   42                 Pepsi\n",
       "2   37          Mountain Dew\n",
       "3   19                  coke\n",
       "4   31                 Pepsi\n",
       "5   28                  coke"
      ]
     },
     "execution_count": 3,
     "metadata": {},
     "output_type": "execute_result"
    }
   ],
   "source": [
    "df"
   ]
  },
  {
   "cell_type": "code",
   "execution_count": 4,
   "id": "abea9f77-ac85-4aea-8a26-b020d8b12e1d",
   "metadata": {},
   "outputs": [
    {
     "name": "stderr",
     "output_type": "stream",
     "text": [
      "/tmp/ipykernel_782/1545644723.py:1: FutureWarning: The default value of numeric_only in DataFrame.cov is deprecated. In a future version, it will default to False. Select only valid columns or specify the value of numeric_only to silence this warning.\n",
      "  df.cov()\n"
     ]
    },
    {
     "data": {
      "text/html": [
       "<div>\n",
       "<style scoped>\n",
       "    .dataframe tbody tr th:only-of-type {\n",
       "        vertical-align: middle;\n",
       "    }\n",
       "\n",
       "    .dataframe tbody tr th {\n",
       "        vertical-align: top;\n",
       "    }\n",
       "\n",
       "    .dataframe thead th {\n",
       "        text-align: right;\n",
       "    }\n",
       "</style>\n",
       "<table border=\"1\" class=\"dataframe\">\n",
       "  <thead>\n",
       "    <tr style=\"text-align: right;\">\n",
       "      <th></th>\n",
       "      <th>Age</th>\n",
       "    </tr>\n",
       "  </thead>\n",
       "  <tbody>\n",
       "    <tr>\n",
       "      <th>Age</th>\n",
       "      <td>68.666667</td>\n",
       "    </tr>\n",
       "  </tbody>\n",
       "</table>\n",
       "</div>"
      ],
      "text/plain": [
       "           Age\n",
       "Age  68.666667"
      ]
     },
     "execution_count": 4,
     "metadata": {},
     "output_type": "execute_result"
    }
   ],
   "source": [
    "df.cov()"
   ]
  },
  {
   "cell_type": "code",
   "execution_count": 5,
   "id": "b80289ca-fcd6-4c23-bec5-ded9612efc80",
   "metadata": {},
   "outputs": [
    {
     "name": "stderr",
     "output_type": "stream",
     "text": [
      "/tmp/ipykernel_782/1134722465.py:1: FutureWarning: The default value of numeric_only in DataFrame.corr is deprecated. In a future version, it will default to False. Select only valid columns or specify the value of numeric_only to silence this warning.\n",
      "  df.corr()\n"
     ]
    },
    {
     "data": {
      "text/html": [
       "<div>\n",
       "<style scoped>\n",
       "    .dataframe tbody tr th:only-of-type {\n",
       "        vertical-align: middle;\n",
       "    }\n",
       "\n",
       "    .dataframe tbody tr th {\n",
       "        vertical-align: top;\n",
       "    }\n",
       "\n",
       "    .dataframe thead th {\n",
       "        text-align: right;\n",
       "    }\n",
       "</style>\n",
       "<table border=\"1\" class=\"dataframe\">\n",
       "  <thead>\n",
       "    <tr style=\"text-align: right;\">\n",
       "      <th></th>\n",
       "      <th>Age</th>\n",
       "    </tr>\n",
       "  </thead>\n",
       "  <tbody>\n",
       "    <tr>\n",
       "      <th>Age</th>\n",
       "      <td>1.0</td>\n",
       "    </tr>\n",
       "  </tbody>\n",
       "</table>\n",
       "</div>"
      ],
      "text/plain": [
       "     Age\n",
       "Age  1.0"
      ]
     },
     "execution_count": 5,
     "metadata": {},
     "output_type": "execute_result"
    }
   ],
   "source": [
    "df.corr()"
   ]
  },
  {
   "cell_type": "markdown",
   "id": "9c246306-c3d8-4cd0-8e34-7dfaeb40f3a2",
   "metadata": {},
   "source": [
    "###Q6: Calculation of Pearson Correlation Coefficient between sales calls and sales made\n",
    "\n",
    "Let's assume you have data on the number of sales calls made per day and the corresponding number of sales made per week for 30 sales representatives.\n",
    "\n",
    "After performing the calculations, let's say you've found a Pearson correlation coefficient of r = 0.75.\n",
    "\n",
    "Interpretation:\n",
    "- A Pearson correlation coefficient of 0.75 suggests a strong positive linear relationship between the number of sales calls made per day and the number of sales made per week by the sales representatives.\n",
    "- This indicates that there's a notable positive association between the two variables: as the number of sales calls increases, the number of sales made tends to increase as well.\n",
    "  \n",
    "This implies that there might be a strong correlation between the effort (number of calls made) and the outcome (number of sales) within this particular dataset. However, causation cannot be inferred solely from correlation.\n",
    "\n",
    "If you have the specific data or further details, I can assist in performing the calculations or interpretations accordingly."
   ]
  },
  {
   "cell_type": "code",
   "execution_count": null,
   "id": "2444ff14-2cf0-461a-b8d2-3624e4440bee",
   "metadata": {},
   "outputs": [],
   "source": []
  }
 ],
 "metadata": {
  "kernelspec": {
   "display_name": "Python 3 (ipykernel)",
   "language": "python",
   "name": "python3"
  },
  "language_info": {
   "codemirror_mode": {
    "name": "ipython",
    "version": 3
   },
   "file_extension": ".py",
   "mimetype": "text/x-python",
   "name": "python",
   "nbconvert_exporter": "python",
   "pygments_lexer": "ipython3",
   "version": "3.10.8"
  }
 },
 "nbformat": 4,
 "nbformat_minor": 5
}
