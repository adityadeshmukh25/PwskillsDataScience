{
 "cells": [
  {
   "cell_type": "code",
   "execution_count": 1,
   "id": "f6adb9c4-693b-4b80-8e1c-bc5eff342d25",
   "metadata": {},
   "outputs": [],
   "source": [
    "import pandas as pd"
   ]
  },
  {
   "cell_type": "code",
   "execution_count": 2,
   "id": "ff0bb5b4-0854-4e69-ab41-5111e4486ede",
   "metadata": {},
   "outputs": [],
   "source": [
    "course_name = ['Data Science','Machine Learning','Big Data', 'Data Engineer']"
   ]
  },
  {
   "cell_type": "code",
   "execution_count": 3,
   "id": "feb21846-beb8-48d6-ad55-676c5d8eb5e2",
   "metadata": {},
   "outputs": [],
   "source": [
    "duration = [2,3,6,4]"
   ]
  },
  {
   "cell_type": "code",
   "execution_count": 4,
   "id": "91cf1a5b-493f-4814-8745-be9dd3745a9d",
   "metadata": {},
   "outputs": [],
   "source": [
    "df = pd.DataFrame(data= {'course_name':course_name,\n",
    "                          'duration': duration})"
   ]
  },
  {
   "cell_type": "code",
   "execution_count": 5,
   "id": "7b2dacd3-5391-4bef-a060-369c0297d7c5",
   "metadata": {},
   "outputs": [
    {
     "data": {
      "text/plain": [
       "0    2\n",
       "1    3\n",
       "2    6\n",
       "3    4\n",
       "Name: duration, dtype: int64"
      ]
     },
     "execution_count": 5,
     "metadata": {},
     "output_type": "execute_result"
    }
   ],
   "source": [
    "df['duration']"
   ]
  },
  {
   "cell_type": "markdown",
   "id": "bae3ee3e-87c5-40cc-8693-0095cc29e7fe",
   "metadata": {},
   "source": [
    "Q.2) The functions loc and iloc are used to select rows and columns from a pandas.DataFrame object in Python. They have some similarities and differences in their functionality and syntax.\n",
    "\n",
    "1) loc is a label-based indexing method, which means it selects data by the names or labels of the rows and columns. It can also accept boolean arrays as inputs. It includes the last element of the range passed to it.\n",
    "2) iloc is an integer-based indexing method, which means it selects data by the positions or indices of the rows and columns. It does not accept boolean arrays as inputs. It excludes the last element of the range passed to it"
   ]
  },
  {
   "cell_type": "markdown",
   "id": "72fa052f-de1a-42e4-9d7b-219f24483806",
   "metadata": {},
   "source": [
    "Q.3) To reindex the given dataframe using a variable, reindex = [3,0,1,2], you can use the reindex() method of pandas.DataFrame and pass the variable as the argument. This will create a new dataframe with the rows rearranged according to the new index. You can assign this new dataframe to the variable new_df.<br><br>\n",
    "Yes, I observed some differences in the outputs of new_df.loc2 and new_df.iloc2. The reason is that loc and iloc are different methods of selecting data from a pandas.DataFrame.\n",
    "\n",
    "loc is a label-based indexing method, which means it selects data by the names or labels of the rows and columns. It includes the last element of the range passed to it.\n",
    "iloc is an integer-based indexing method, which means it selects data by the positions or indices of the rows and columns. It excludes the last element of the range passed to it.\n",
    "In your example, new_df is a DataFrame that has been reindexed using a variable reindex = [3,0,1,2]. This means that the rows have been rearranged according to the new index. The original index labels are still preserved, but their locations have changed. For example, the row with index label 2 is now at location 3 in new_df.\n",
    "\n",
    "Therefore, when you use new_df.loc2, you are selecting the row with index label 2, which is the same as the original DataFrame data. However, when you use new_df.iloc2, you are selecting the row at location 2 in new_df, which is actually the row with index label 1 in data."
   ]
  },
  {
   "cell_type": "code",
   "execution_count": 6,
   "id": "74809edf-dea3-4261-9dc3-139b03f3d7f3",
   "metadata": {},
   "outputs": [
    {
     "data": {
      "text/html": [
       "<div>\n",
       "<style scoped>\n",
       "    .dataframe tbody tr th:only-of-type {\n",
       "        vertical-align: middle;\n",
       "    }\n",
       "\n",
       "    .dataframe tbody tr th {\n",
       "        vertical-align: top;\n",
       "    }\n",
       "\n",
       "    .dataframe thead th {\n",
       "        text-align: right;\n",
       "    }\n",
       "</style>\n",
       "<table border=\"1\" class=\"dataframe\">\n",
       "  <thead>\n",
       "    <tr style=\"text-align: right;\">\n",
       "      <th></th>\n",
       "      <th>column_1</th>\n",
       "      <th>column_2</th>\n",
       "      <th>column_3</th>\n",
       "      <th>column_4</th>\n",
       "      <th>column_5</th>\n",
       "      <th>column_6</th>\n",
       "    </tr>\n",
       "  </thead>\n",
       "  <tbody>\n",
       "    <tr>\n",
       "      <th>1</th>\n",
       "      <td>0.004042</td>\n",
       "      <td>0.602193</td>\n",
       "      <td>0.770045</td>\n",
       "      <td>0.684032</td>\n",
       "      <td>0.727255</td>\n",
       "      <td>0.464959</td>\n",
       "    </tr>\n",
       "    <tr>\n",
       "      <th>2</th>\n",
       "      <td>0.280973</td>\n",
       "      <td>0.076701</td>\n",
       "      <td>0.921460</td>\n",
       "      <td>0.441503</td>\n",
       "      <td>0.148577</td>\n",
       "      <td>0.453308</td>\n",
       "    </tr>\n",
       "    <tr>\n",
       "      <th>3</th>\n",
       "      <td>0.358041</td>\n",
       "      <td>0.094468</td>\n",
       "      <td>0.371778</td>\n",
       "      <td>0.025691</td>\n",
       "      <td>0.402535</td>\n",
       "      <td>0.222212</td>\n",
       "    </tr>\n",
       "    <tr>\n",
       "      <th>4</th>\n",
       "      <td>0.465653</td>\n",
       "      <td>0.839728</td>\n",
       "      <td>0.634674</td>\n",
       "      <td>0.027692</td>\n",
       "      <td>0.057351</td>\n",
       "      <td>0.847059</td>\n",
       "    </tr>\n",
       "    <tr>\n",
       "      <th>5</th>\n",
       "      <td>0.384867</td>\n",
       "      <td>0.665687</td>\n",
       "      <td>0.722411</td>\n",
       "      <td>0.952852</td>\n",
       "      <td>0.507690</td>\n",
       "      <td>0.201721</td>\n",
       "    </tr>\n",
       "    <tr>\n",
       "      <th>6</th>\n",
       "      <td>0.178876</td>\n",
       "      <td>0.819222</td>\n",
       "      <td>0.447251</td>\n",
       "      <td>0.718907</td>\n",
       "      <td>0.814570</td>\n",
       "      <td>0.568089</td>\n",
       "    </tr>\n",
       "  </tbody>\n",
       "</table>\n",
       "</div>"
      ],
      "text/plain": [
       "   column_1  column_2  column_3  column_4  column_5  column_6\n",
       "1  0.004042  0.602193  0.770045  0.684032  0.727255  0.464959\n",
       "2  0.280973  0.076701  0.921460  0.441503  0.148577  0.453308\n",
       "3  0.358041  0.094468  0.371778  0.025691  0.402535  0.222212\n",
       "4  0.465653  0.839728  0.634674  0.027692  0.057351  0.847059\n",
       "5  0.384867  0.665687  0.722411  0.952852  0.507690  0.201721\n",
       "6  0.178876  0.819222  0.447251  0.718907  0.814570  0.568089"
      ]
     },
     "metadata": {},
     "output_type": "display_data"
    }
   ],
   "source": [
    "# Import pandas library\n",
    "import pandas as pd\n",
    "\n",
    "# Import numpy library\n",
    "import numpy as np\n",
    "\n",
    "# Define the columns and indices\n",
    "columns = ['column_1', 'column_2', 'column_3', 'column_4', 'column_5', 'column_6']\n",
    "indices = [1,2,3,4,5,6]\n",
    "\n",
    "# Create a dataframe with random values\n",
    "df1 = pd.DataFrame(np.random.rand(6,6), columns = columns, index = indices)\n",
    "\n",
    "# Display the dataframe\n",
    "display(df1)\n"
   ]
  },
  {
   "cell_type": "code",
   "execution_count": 7,
   "id": "f7e6f0e9-327e-4116-840b-427d70ccd2d0",
   "metadata": {},
   "outputs": [
    {
     "data": {
      "text/plain": [
       "column_1    0.278742\n",
       "column_2    0.516333\n",
       "column_3    0.644603\n",
       "column_4    0.475113\n",
       "column_5    0.442996\n",
       "column_6    0.459558\n",
       "dtype: float64"
      ]
     },
     "execution_count": 7,
     "metadata": {},
     "output_type": "execute_result"
    }
   ],
   "source": [
    "# Find the mean of each and every column in the dataframe\n",
    "df1.mean()\n"
   ]
  },
  {
   "cell_type": "code",
   "execution_count": 8,
   "id": "deee8064-c3cc-49c4-9907-b009691f31b9",
   "metadata": {},
   "outputs": [
    {
     "data": {
      "text/plain": [
       "0.3456155436078941"
      ]
     },
     "execution_count": 8,
     "metadata": {},
     "output_type": "execute_result"
    }
   ],
   "source": [
    "# Find the standard deviation of column 'column_2'\n",
    "df1['column_2'].std()\n"
   ]
  },
  {
   "cell_type": "markdown",
   "id": "096a6add-1870-478e-b724-9cda914582fe",
   "metadata": {},
   "source": [
    "Q.5) To replace the data present in the second row of column, ‘column_2’ by a string variable, you can use the loc method of pandas.DataFrame and assign the string value to the specified row and column. For example, if you want to replace the value 0.409253 in the second row of column, ‘column_2’ by the string ‘Hello’, you can write:\n",
    "\n",
    " Replace the data in the second row of column, 'column_2' by a string variable\n",
    "<br><br>df1.loc[2, 'column_2'] = 'Hello'<br><br>\n",
    "Copy\n",
    "However, if you try to find the mean of column, ‘column_2’ after this operation, you will get an error. The reason is that the mean method of pandas.DataFrame can only operate on numeric data types, such as int or float. If you have a mixed data type column, such as a column that contains both numbers and strings, the mean method will raise a TypeError: could not convert string to float.\n",
    "\n",
    "To avoid this error, you need to make sure that your column has a consistent data type that is compatible with the mean method. You can either convert your column to a numeric data type using the to_numeric function of pandas, or remove the non-numeric values from your column using the dropna method of pandas.DataFrame."
   ]
  },
  {
   "cell_type": "markdown",
   "id": "fe0cd45d-7da3-4c03-bf42-8e229f7a978c",
   "metadata": {},
   "source": [
    "Q.6) Window functions in pandas are methods that allow you to perform some kind of calculations over a sliding or expanding partition of values in a pandas.Series or pandas.DataFrame object. They are useful for analyzing time series data, smoothing noisy data, calculating moving averages, finding trends, and more1.\n",
    "\n",
    "There are four types of window functions in pandas:\n",
    "\n",
    "Rolling window: This is a generic fixed or variable sliding window over the values. It can be specified by a number of observations or a time offset. It allows you to apply various aggregation functions such as sum, mean, median, min, max, etc. over the windowed values2.\n",
    "Weighted window: This is a weighted, non-rectangular window supplied by the scipy.signal library. It allows you to apply different types of weights to the windowed values, such as triangular, hamming, blackman, etc. It also supports various aggregation functions3.\n",
    "Expanding window: This is an accumulating window over the values. It starts from the first observation and expands until it covers the whole series or dataframe. It allows you to apply various aggregation functions over the expanding values.\n",
    "Exponentially weighted window: This is an accumulating and exponentially weighted window over the values. It assigns more weight to recent observations and less weight to older ones. It allows you to apply various aggregation functions over the weighted values."
   ]
  },
  {
   "cell_type": "code",
   "execution_count": 9,
   "id": "56ec80ae-4c7d-4eab-81ff-143b81f0acc5",
   "metadata": {},
   "outputs": [
    {
     "name": "stdout",
     "output_type": "stream",
     "text": [
      "September 2023\n"
     ]
    },
    {
     "name": "stderr",
     "output_type": "stream",
     "text": [
      "/tmp/ipykernel_231/3851014411.py:5: FutureWarning: The pandas.datetime class is deprecated and will be removed from pandas in a future version. Import from datetime module instead.\n",
      "  now = pd.datetime.now()\n"
     ]
    }
   ],
   "source": [
    "# Import pandas library\n",
    "import pandas as pd\n",
    "\n",
    "# Get the current date and time\n",
    "now = pd.datetime.now()\n",
    "\n",
    "# Print only the current month and year\n",
    "print(now.strftime(\"%B %Y\"))\n"
   ]
  },
  {
   "cell_type": "code",
   "execution_count": null,
   "id": "4c43e137-fd9b-4bf2-9afd-2785ea4b52ec",
   "metadata": {},
   "outputs": [],
   "source": [
    "# Import pandas library\n",
    "import pandas as pd\n",
    "\n",
    "# Prompt the user to enter the first date\n",
    "date1 = input(\"Enter the first date (YYYY-MM-DD): \")\n",
    "\n",
    "# Prompt the user to enter the second date\n",
    "date2 = input(\"Enter the second date (YYYY-MM-DD): \")\n",
    "\n",
    "# Convert both dates to pandas.Timedelta objects\n",
    "date1 = pd.to_timedelta(date1)\n",
    "date2 = pd.to_timedelta(date2)\n",
    "\n",
    "# Subtract the second date from the first date\n",
    "diff = date1 - date2\n",
    "\n",
    "# Access the components attribute of the difference\n",
    "days = diff.components.days\n",
    "hours = diff.components.hours\n",
    "minutes = diff.components.minutes\n",
    "\n",
    "# Print the result in a formatted string\n",
    "print(f\"The difference between {date1} and {date2} is {days} days, {hours} hours, and {minutes} minutes.\")\n"
   ]
  },
  {
   "cell_type": "code",
   "execution_count": null,
   "id": "1bcfa2ea-b56c-4a1a-998c-7de506d9e3a4",
   "metadata": {},
   "outputs": [],
   "source": [
    "#import pandas library\n",
    "import pandas as pd\n",
    "\n",
    "#prompt the user to enter the file path\n",
    "file_path = input(\"Enter the file path of the CSV file: \")\n",
    "\n",
    "#read the CSV file into a pandas DataFrame\n",
    "df = pd.read_csv(file_path)\n",
    "\n",
    "#prompt the user to enter the column name\n",
    "column_name = input(\"Enter the column name to convert to categorical: \")\n",
    "\n",
    "#prompt the user to enter the category order as a comma-separated list\n",
    "category_order = input(\"Enter the category order as a comma-separated list: \")\n",
    "\n",
    "#convert the category order string to a list\n",
    "category_order = category_order.split(\",\")\n",
    "\n",
    "#create a categorical dtype with the specified order\n",
    "cat_dtype = pd.CategoricalDtype(categories=category_order, ordered=True)\n",
    "\n",
    "#convert the column to categorical dtype using astype() method\n",
    "df[column_name] = df[column_name].astype(cat_dtype)\n",
    "\n",
    "#sort the DataFrame by the categorical column using sort_values() method\n",
    "df = df.sort_values(by=column_name)\n",
    "\n",
    "#display the sorted DataFrame\n",
    "print(df)\n"
   ]
  },
  {
   "cell_type": "code",
   "execution_count": null,
   "id": "289796df-729d-47c1-99ef-7cd18bf83ba0",
   "metadata": {},
   "outputs": [],
   "source": [
    "#import pandas and matplotlib libraries\n",
    "import pandas as pd\n",
    "import matplotlib.pyplot as plt\n",
    "\n",
    "#prompt the user to enter the file path\n",
    "file_path = input(\"Enter the file path of the CSV file: \")\n",
    "\n",
    "#read the CSV file into a pandas DataFrame\n",
    "df = pd.read_csv(file_path)\n",
    "\n",
    "#pivot the DataFrame to get sales by product category and date\n",
    "df = df.pivot(index=\"Date\", columns=\"Product Category\", values=\"Sales\")\n",
    "\n",
    "#plot a stacked bar chart using plot() method with kind='bar' and stacked=True arguments\n",
    "df.plot(kind='bar', stacked=True)\n",
    "\n",
    "#add a title and labels to the chart using plt.title(), plt.xlabel(), and plt.ylabel() functions\n",
    "plt.title(\"Sales by Product Category over Time\")\n",
    "plt.xlabel(\"Date\")\n",
    "plt.ylabel(\"Sales\")\n",
    "\n",
    "#show the chart using plt.show() function\n",
    "plt.show()\n"
   ]
  },
  {
   "cell_type": "code",
   "execution_count": null,
   "id": "f0020288-385a-4cd0-bd62-d287dd465de7",
   "metadata": {},
   "outputs": [],
   "source": [
    "#import pandas library\n",
    "import pandas as pd\n",
    "\n",
    "#prompt the user to enter the file path\n",
    "file_path = input(\"Enter the file path of the CSV file containing the student data: \")\n",
    "\n",
    "#read the CSV file into a pandas DataFrame\n",
    "df = pd.read_csv(file_path)\n",
    "\n",
    "#get the test score column as a pandas Series\n",
    "test_score = df[\"Test Score\"]\n",
    "\n",
    "#calculate the mean, median, and mode of test scores using mean(), median(), and mode() methods\n",
    "mean = test_score.mean()\n",
    "median = test_score.median()\n",
    "mode = test_score.mode()\n",
    "\n",
    "#create a new DataFrame with statistic and value columns using pd.DataFrame() constructor\n",
    "result = pd.DataFrame({\"Statistic\": [\"Mean\", \"Median\", \"Mode\"], \"Value\": [mean, median, mode]})\n",
    "\n",
    "#display the result DataFrame as a table using tabulate() method with tablefmt='psql' argument\n",
    "print(result.tabulate(tablefmt='psql'))\n"
   ]
  },
  {
   "cell_type": "code",
   "execution_count": null,
   "id": "7ea62e9e-e15f-4852-9d10-16c015cf94e0",
   "metadata": {},
   "outputs": [],
   "source": []
  }
 ],
 "metadata": {
  "kernelspec": {
   "display_name": "Python 3 (ipykernel)",
   "language": "python",
   "name": "python3"
  },
  "language_info": {
   "codemirror_mode": {
    "name": "ipython",
    "version": 3
   },
   "file_extension": ".py",
   "mimetype": "text/x-python",
   "name": "python",
   "nbconvert_exporter": "python",
   "pygments_lexer": "ipython3",
   "version": "3.10.8"
  }
 },
 "nbformat": 4,
 "nbformat_minor": 5
}
