{
 "cells": [
  {
   "cell_type": "markdown",
   "id": "beb6272c-6c4f-4111-872c-f184e9268be0",
   "metadata": {},
   "source": [
    "1. A time series is a sequence of data points collected or recorded at successive, equally spaced intervals over time. Time series analysis involves analyzing these data points to extract meaningful insights or make predictions. Common applications include financial forecasting, sales forecasting, stock market analysis, weather forecasting, and economic trend analysis.\n",
    "\n",
    "2. Common time series patterns include trend, seasonality, cyclicality, and irregularity. Trends depict the long-term movement of the data, seasonality represents periodic fluctuations, cyclicality shows repetitive but non-seasonal patterns, and irregularity captures random variations. These patterns can be identified visually through plots or statistically using various decomposition techniques.\n",
    "\n",
    "3. Time series data can be preprocessed by handling missing values, removing outliers, smoothing noisy data, and transforming non-stationary data into stationary data. Stationarity is often a prerequisite for many time series analysis techniques, so preprocessing steps like differencing or transformation are applied to achieve it.\n",
    "\n",
    "4. Time series forecasting aids business decision-making by providing insights into future trends and patterns, enabling better resource allocation, inventory management, and risk mitigation strategies. However, challenges such as data quality issues, unexpected events, and model uncertainty can limit the accuracy of forecasts.\n",
    "\n",
    "5. ARIMA (AutoRegressive Integrated Moving Average) modeling is a popular approach for forecasting time series data. It combines autoregression (AR), differencing (I), and moving average (MA) components to capture different aspects of the data's behavior. ARIMA models are effective for stationary or nearly stationary time series data.\n",
    "\n",
    "6. ACF and PACF plots are tools used to identify the order of ARIMA models. ACF shows the autocorrelation at different lags, while PACF indicates the correlation at each lag after removing the effects of shorter lags. The decay in ACF and significant spikes in PACF help determine the appropriate orders for the AR and MA components of the ARIMA model.\n",
    "\n",
    "7. The assumptions of ARIMA models include stationarity, independence, and normality of residuals. These assumptions can be tested using statistical tests such as the Augmented Dickey-Fuller test for stationarity and residual analysis for independence and normality.\n",
    "\n",
    "8. For monthly sales data, a seasonal ARIMA (SARIMA) model might be recommended since it can capture both the seasonality and trend present in the data. This model would be appropriate if the sales data exhibit significant seasonal patterns along with other temporal dynamics.\n",
    "\n",
    "9. Limitations of time series analysis include its reliance on historical data, sensitivity to outliers, and difficulty in capturing complex patterns or sudden changes. For example, during times of economic crisis or significant market shifts, traditional time series models may struggle to accurately forecast future trends due to unprecedented events.\n",
    "\n",
    "10. Stationary time series have constant mean, variance, and autocovariance over time, making them easier to model and forecast. Non-stationary time series exhibit trends, seasonality, or other patterns that change over time, making it challenging to apply traditional time series techniques directly. Preprocessing techniques such as differencing or transformation are often used to convert non-stationary data into stationary form for analysis."
   ]
  },
  {
   "cell_type": "code",
   "execution_count": null,
   "id": "50bb9851-33ea-4ddf-85f6-978ec08b52ed",
   "metadata": {},
   "outputs": [],
   "source": []
  }
 ],
 "metadata": {
  "kernelspec": {
   "display_name": "Python 3 (ipykernel)",
   "language": "python",
   "name": "python3"
  },
  "language_info": {
   "codemirror_mode": {
    "name": "ipython",
    "version": 3
   },
   "file_extension": ".py",
   "mimetype": "text/x-python",
   "name": "python",
   "nbconvert_exporter": "python",
   "pygments_lexer": "ipython3",
   "version": "3.10.8"
  }
 },
 "nbformat": 4,
 "nbformat_minor": 5
}
