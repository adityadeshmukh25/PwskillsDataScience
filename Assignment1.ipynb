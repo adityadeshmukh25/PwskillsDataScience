{
 "cells": [
  {
   "cell_type": "code",
   "execution_count": 3,
   "id": "1cb7e369-c936-451d-9624-56ebec5c9f30",
   "metadata": {},
   "outputs": [],
   "source": [
    "String1 = \"Aditya\"\n",
    "lst1 = [1,2,3,4,5]\n",
    "flt1 = 2.14\n",
    "tup1 = (1,2,3,4,5)"
   ]
  },
  {
   "cell_type": "code",
   "execution_count": 7,
   "id": "c08e3be6-a71d-444d-a6b5-5ffcadc36863",
   "metadata": {},
   "outputs": [
    {
     "name": "stdout",
     "output_type": "stream",
     "text": [
      "<class 'str'>\n",
      "<class 'str'>\n",
      "<class 'list'>\n",
      "<class 'float'>\n"
     ]
    }
   ],
   "source": [
    "var1 = ' '\n",
    "var2 = '[ DS , ML , Python]'\n",
    "var3 = [ 'DS' , 'ML' , 'Python' ]\n",
    "var4 = 1.0\n",
    "print(type(var1))\n",
    "print(type(var2))\n",
    "print(type(var3))\n",
    "print(type(var4))"
   ]
  },
  {
   "cell_type": "code",
   "execution_count": 9,
   "id": "aa118f77-493a-4f50-9db3-6e3ef39d0385",
   "metadata": {},
   "outputs": [
    {
     "name": "stdout",
     "output_type": "stream",
     "text": [
      "1\n",
      "a\n",
      "2\n",
      "b\n",
      "X\n",
      "4\n",
      "2.4\n",
      "True\n",
      "3.1\n",
      "False\n"
     ]
    }
   ],
   "source": [
    "c2 = 4\n",
    "lst2 = [1,'a',2,'b','X',c2,2.4,True,3.1,False]\n",
    "for i in lst2:\n",
    "    print(i)"
   ]
  },
  {
   "cell_type": "code",
   "execution_count": 1,
   "id": "1def02a6-b1e7-47a8-87af-536f28771cab",
   "metadata": {},
   "outputs": [
    {
     "name": "stdout",
     "output_type": "stream",
     "text": [
      "Not Divisible\n"
     ]
    }
   ],
   "source": [
    "a = 81\n",
    "b = 3\n",
    "while(b<=a):\n",
    "    if b % a == 0:\n",
    "        print('Is Divisible')\n",
    "        break\n",
    "    else:\n",
    "        print(\"Not Divisible\")\n",
    "        break"
   ]
  },
  {
   "cell_type": "code",
   "execution_count": 2,
   "id": "9aa8786c-ecce-4522-bcb7-9e44acca85d1",
   "metadata": {},
   "outputs": [
    {
     "name": "stdout",
     "output_type": "stream",
     "text": [
      "Not Divisible\n",
      "Completely Divisible\n",
      "Not Divisible\n",
      "Not Divisible\n",
      "Completely Divisible\n",
      "Not Divisible\n",
      "Not Divisible\n",
      "Completely Divisible\n",
      "Not Divisible\n",
      "Not Divisible\n",
      "Not Divisible\n",
      "Completely Divisible\n",
      "Not Divisible\n",
      "Not Divisible\n",
      "Completely Divisible\n",
      "Completely Divisible\n",
      "Not Divisible\n",
      "Not Divisible\n",
      "Completely Divisible\n",
      "Completely Divisible\n",
      "Not Divisible\n",
      "Completely Divisible\n",
      "Not Divisible\n",
      "Not Divisible\n",
      "Not Divisible\n"
     ]
    }
   ],
   "source": [
    "lst3 = [20,21,22,23,27,28,29,30,34,35,44,45,49,52,57,60,67,65,123,24,56,87,94,95,98]\n",
    "for i in lst3:\n",
    "    if i % 3 == 0:\n",
    "        print('Completely Divisible')\n",
    "    else:\n",
    "        print('Not Divisible')"
   ]
  },
  {
   "cell_type": "code",
   "execution_count": 3,
   "id": "befd72c9-bb74-435b-88f0-3594e411e564",
   "metadata": {},
   "outputs": [
    {
     "ename": "TypeError",
     "evalue": "'tuple' object does not support item assignment",
     "output_type": "error",
     "traceback": [
      "\u001b[0;31m---------------------------------------------------------------------------\u001b[0m",
      "\u001b[0;31mTypeError\u001b[0m                                 Traceback (most recent call last)",
      "Cell \u001b[0;32mIn[3], line 4\u001b[0m\n\u001b[1;32m      1\u001b[0m \u001b[38;5;66;03m# tuples are immutable\u001b[39;00m\n\u001b[1;32m      3\u001b[0m tuple1 \u001b[38;5;241m=\u001b[39m (\u001b[38;5;241m0\u001b[39m, \u001b[38;5;241m1\u001b[39m, \u001b[38;5;241m2\u001b[39m, \u001b[38;5;241m3\u001b[39m)\n\u001b[0;32m----> 4\u001b[0m \u001b[43mtuple1\u001b[49m\u001b[43m[\u001b[49m\u001b[38;5;241;43m0\u001b[39;49m\u001b[43m]\u001b[49m \u001b[38;5;241m=\u001b[39m \u001b[38;5;241m4\u001b[39m\n\u001b[1;32m      5\u001b[0m \u001b[38;5;28mprint\u001b[39m(tuple1)\n",
      "\u001b[0;31mTypeError\u001b[0m: 'tuple' object does not support item assignment"
     ]
    }
   ],
   "source": [
    "# tuples are immutable\n",
    "   \n",
    "tuple1 = (0, 1, 2, 3)\n",
    "tuple1[0] = 4\n",
    "print(tuple1)"
   ]
  },
  {
   "cell_type": "code",
   "execution_count": 4,
   "id": "046ae1c6-e952-4d83-a9c1-013060012ecb",
   "metadata": {},
   "outputs": [
    {
     "ename": "TypeError",
     "evalue": "'str' object does not support item assignment",
     "output_type": "error",
     "traceback": [
      "\u001b[0;31m---------------------------------------------------------------------------\u001b[0m",
      "\u001b[0;31mTypeError\u001b[0m                                 Traceback (most recent call last)",
      "Cell \u001b[0;32mIn[4], line 4\u001b[0m\n\u001b[1;32m      1\u001b[0m \u001b[38;5;66;03m# strings are immutable\u001b[39;00m\n\u001b[1;32m      3\u001b[0m message \u001b[38;5;241m=\u001b[39m \u001b[38;5;124m\"\u001b[39m\u001b[38;5;124mWelcome to GeeksforGeeks\u001b[39m\u001b[38;5;124m\"\u001b[39m\n\u001b[0;32m----> 4\u001b[0m \u001b[43mmessage\u001b[49m\u001b[43m[\u001b[49m\u001b[38;5;241;43m0\u001b[39;49m\u001b[43m]\u001b[49m \u001b[38;5;241m=\u001b[39m \u001b[38;5;124m'\u001b[39m\u001b[38;5;124mp\u001b[39m\u001b[38;5;124m'\u001b[39m\n\u001b[1;32m      5\u001b[0m \u001b[38;5;28mprint\u001b[39m(message)\n",
      "\u001b[0;31mTypeError\u001b[0m: 'str' object does not support item assignment"
     ]
    }
   ],
   "source": [
    "# strings are immutable\n",
    "\n",
    "message = \"Welcome to GeeksforGeeks\"\n",
    "message[0] = 'p'\n",
    "print(message)\n"
   ]
  },
  {
   "cell_type": "code",
   "execution_count": 5,
   "id": "66c86c91-ddc4-407a-9bfb-2cee06927240",
   "metadata": {},
   "outputs": [
    {
     "name": "stdout",
     "output_type": "stream",
     "text": [
      "[1, 2, 3, 4]\n"
     ]
    }
   ],
   "source": [
    "#lists are mutable\n",
    "my_list = [1, 2, 3]\n",
    "my_list.append(4)\n",
    "print(my_list)"
   ]
  },
  {
   "cell_type": "code",
   "execution_count": null,
   "id": "f5760ce5-f64c-4d6b-8d23-d10454f4029b",
   "metadata": {},
   "outputs": [],
   "source": []
  }
 ],
 "metadata": {
  "kernelspec": {
   "display_name": "Python 3 (ipykernel)",
   "language": "python",
   "name": "python3"
  },
  "language_info": {
   "codemirror_mode": {
    "name": "ipython",
    "version": 3
   },
   "file_extension": ".py",
   "mimetype": "text/x-python",
   "name": "python",
   "nbconvert_exporter": "python",
   "pygments_lexer": "ipython3",
   "version": "3.10.8"
  }
 },
 "nbformat": 4,
 "nbformat_minor": 5
}
