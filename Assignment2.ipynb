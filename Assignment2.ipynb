{
 "cells": [
  {
   "cell_type": "code",
   "execution_count": 1,
   "id": "58991bc9-1bd1-4822-9ddb-00654a2d9431",
   "metadata": {},
   "outputs": [
    {
     "data": {
      "text/plain": [
       "' We also use a \\n  multi line comment to \\n  comment multiple lines of code'"
      ]
     },
     "execution_count": 1,
     "metadata": {},
     "output_type": "execute_result"
    }
   ],
   "source": [
    "#we use a single line comment to comment a single line of code\n",
    "\"\"\" We also use a \n",
    "  multi line comment to \n",
    "  comment multiple lines of code\"\"\""
   ]
  },
  {
   "cell_type": "code",
   "execution_count": 2,
   "id": "d9a8ddc5-d870-4cb0-bbd5-d81e705df4a7",
   "metadata": {},
   "outputs": [],
   "source": [
    "#variables are the identifiers which are used to store values.\n",
    "variable_1 = 224"
   ]
  },
  {
   "cell_type": "code",
   "execution_count": 4,
   "id": "ed3583f6-fc80-42a3-91ee-898ddba8f962",
   "metadata": {},
   "outputs": [
    {
     "name": "stdout",
     "output_type": "stream",
     "text": [
      "<class 'int'>\n"
     ]
    }
   ],
   "source": [
    "var_1 = '124'\n",
    "var_2 = int(var_1)\n",
    "print(type(var_2))"
   ]
  },
  {
   "cell_type": "code",
   "execution_count": null,
   "id": "beb93bcc-bd0d-4641-9ccd-49b9d17be957",
   "metadata": {},
   "outputs": [],
   "source": [
    "\"\"\"The most basic and easy way to run a Python script is by using the python command. \n",
    "You need to open a command line and type the word python followed by the path to your script\n",
    "file like this: python first_script.py Hello World! Then you hit the ENTER button \n",
    "from the keyboard, and that's it. \"\"\""
   ]
  },
  {
   "cell_type": "code",
   "execution_count": 6,
   "id": "254f6c92-5068-4fd0-8c60-7909c28e052b",
   "metadata": {},
   "outputs": [
    {
     "name": "stdout",
     "output_type": "stream",
     "text": [
      "[2, 3]\n"
     ]
    }
   ],
   "source": [
    "my_list = [1, 2, 3, 4, 5]\n",
    "print(my_list[1:3])"
   ]
  },
  {
   "cell_type": "code",
   "execution_count": 7,
   "id": "543fc0d3-4fed-4dbc-8200-63818a7636a5",
   "metadata": {},
   "outputs": [
    {
     "name": "stdout",
     "output_type": "stream",
     "text": [
      "<class 'complex'>\n"
     ]
    }
   ],
   "source": [
    "#complex number\n",
    "a = 2 + 3j\n",
    "print(type(a))"
   ]
  },
  {
   "cell_type": "code",
   "execution_count": 8,
   "id": "704e5a77-86b1-4811-ac8f-73715805c652",
   "metadata": {},
   "outputs": [
    {
     "name": "stdout",
     "output_type": "stream",
     "text": [
      "25\n"
     ]
    }
   ],
   "source": [
    "age = 25\n",
    "print(age)"
   ]
  },
  {
   "cell_type": "code",
   "execution_count": 9,
   "id": "7136deca-d6d6-4c8f-9e4c-831db4924f88",
   "metadata": {},
   "outputs": [
    {
     "name": "stdout",
     "output_type": "stream",
     "text": [
      "<class 'float'>\n"
     ]
    }
   ],
   "source": [
    "price = 9.99\n",
    "print(type(price))"
   ]
  },
  {
   "cell_type": "code",
   "execution_count": 10,
   "id": "7cd20715-b10b-45b9-8518-3e9f006876ef",
   "metadata": {},
   "outputs": [
    {
     "name": "stdout",
     "output_type": "stream",
     "text": [
      "Aditya Deshmukh\n"
     ]
    }
   ],
   "source": [
    "name = 'Aditya Deshmukh'\n",
    "print(name)"
   ]
  },
  {
   "cell_type": "code",
   "execution_count": 13,
   "id": "37e6ef89-969e-46a3-82bd-613ae1797f79",
   "metadata": {},
   "outputs": [
    {
     "name": "stdout",
     "output_type": "stream",
     "text": [
      "World\n"
     ]
    }
   ],
   "source": [
    "str1 = \"Hello World!\"\n",
    "print(str1[6:11])"
   ]
  },
  {
   "cell_type": "code",
   "execution_count": 14,
   "id": "c00f40a4-c07a-4ece-aefa-1ac23321bae9",
   "metadata": {},
   "outputs": [
    {
     "name": "stdout",
     "output_type": "stream",
     "text": [
      "True\n"
     ]
    }
   ],
   "source": [
    "is_student = True\n",
    "print(is_student)"
   ]
  },
  {
   "cell_type": "code",
   "execution_count": null,
   "id": "76f46e9b-05ea-461e-ac57-4e58f5aef341",
   "metadata": {},
   "outputs": [],
   "source": []
  }
 ],
 "metadata": {
  "kernelspec": {
   "display_name": "Python 3 (ipykernel)",
   "language": "python",
   "name": "python3"
  },
  "language_info": {
   "codemirror_mode": {
    "name": "ipython",
    "version": 3
   },
   "file_extension": ".py",
   "mimetype": "text/x-python",
   "name": "python",
   "nbconvert_exporter": "python",
   "pygments_lexer": "ipython3",
   "version": "3.10.8"
  }
 },
 "nbformat": 4,
 "nbformat_minor": 5
}
