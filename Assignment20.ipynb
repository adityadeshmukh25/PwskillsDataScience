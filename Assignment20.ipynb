{
 "cells": [
  {
   "cell_type": "markdown",
   "id": "7ead5dfb-783d-45ee-a07c-6e1a04c2c4ca",
   "metadata": {},
   "source": [
    "Q1. List any five functions of the pandas library with execution.\n",
    "- melt(): Unpivot a DataFrame from wide to long format.\n",
    "- pivot(): Return reshaped DataFrame organized by given index / column values.\n",
    "- pivot_table(): Create a spreadsheet-style pivot table as a DataFrame.\n",
    "- crosstab(): Compute a simple cross tabulation of two (or more) factors.\n",
    "- cut(): Bin values into discrete intervals."
   ]
  },
  {
   "cell_type": "markdown",
   "id": "67a313e7-ad18-41c7-a616-34defdc25334",
   "metadata": {},
   "source": [
    "Q2. Given a Pandas DataFrame df with columns 'A', 'B', and 'C', write a Python function to re-index the DataFrame with a new index that starts from 1 and increments by 2 for each row.\n",
    "```python\n",
    "df.index = pd.RangeIndex(start=1, stop=2*len(df), step=2)\n",
    "```"
   ]
  },
  {
   "cell_type": "markdown",
   "id": "5bd884b8-edca-4962-a998-395130e08830",
   "metadata": {},
   "source": [
    "Q3. You have a Pandas DataFrame df with a column named 'Values'. Write a Python function that iterates over the DataFrame and calculates the sum of the first three values in the 'Values' column. The function should print the sum to the console.\n",
    "```python\n",
    "def sum_first_three(df):\n",
    "    total = df['Values'].iloc[:3].sum()\n",
    "    print(total)\n",
    "```"
   ]
  },
  {
   "cell_type": "markdown",
   "id": "00ee19f6-7137-4edb-b923-26aa8d00b799",
   "metadata": {},
   "source": [
    "Q4. Given a Pandas DataFrame df with a column 'Text', write a Python function to create a new column 'Word_Count' that contains the number of words in each row of the 'Text' column.\n",
    "```python\n",
    "df['Word_Count'] = df['Text'].apply(lambda x: len(str(x).split(\" \")))\n",
    "```"
   ]
  },
  {
   "cell_type": "markdown",
   "id": "8d89ce64-a369-4826-ab1e-441fa88bddc9",
   "metadata": {},
   "source": [
    "Q5. How are DataFrame.size() and DataFrame.shape() different?\n",
    "- size() returns the number of elements in the DataFrame.\n",
    "- shape() returns the dimensions of the DataFrame.\n"
   ]
  },
  {
   "cell_type": "markdown",
   "id": "5fd6650d-842e-4c86-8570-13db562c9770",
   "metadata": {},
   "source": [
    "Q6. Which function of pandas do we use to read an excel file?\n",
    "- read_excel()"
   ]
  },
  {
   "cell_type": "markdown",
   "id": "42950ad6-66fd-4646-af96-fa5d492bffe2",
   "metadata": {},
   "source": [
    "Q7. You have a Pandas DataFrame df that contains a column named 'Email' that contains email addresses in the format 'username@domain.com'. Write a Python function that creates a new column 'Username' in df that contains only the username part of each email address.\n",
    "```python\n",
    "df['Username'] = df['Email'].apply(lambda x: x.split('@')[0])\n",
    "```"
   ]
  }
 ],
 "metadata": {
  "kernelspec": {
   "display_name": "Python 3 (ipykernel)",
   "language": "python",
   "name": "python3"
  },
  "language_info": {
   "codemirror_mode": {
    "name": "ipython",
    "version": 3
   },
   "file_extension": ".py",
   "mimetype": "text/x-python",
   "name": "python",
   "nbconvert_exporter": "python",
   "pygments_lexer": "ipython3",
   "version": "3.10.8"
  }
 },
 "nbformat": 4,
 "nbformat_minor": 5
}
