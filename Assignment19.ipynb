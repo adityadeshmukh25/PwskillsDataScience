{
 "cells": [
  {
   "cell_type": "code",
   "execution_count": 1,
   "id": "d5d205d0-fdc4-49fd-80e4-d8ad5bb04f10",
   "metadata": {},
   "outputs": [],
   "source": [
    "import pandas as pd"
   ]
  },
  {
   "cell_type": "code",
   "execution_count": 2,
   "id": "ea9d7799-36be-4a8f-b1ae-b017c7bffd12",
   "metadata": {},
   "outputs": [],
   "source": [
    "roll_no = [1,2,3,4,5,6,7]"
   ]
  },
  {
   "cell_type": "code",
   "execution_count": 7,
   "id": "e4e37f32-f0d2-4574-89a7-98783185b328",
   "metadata": {},
   "outputs": [],
   "source": [
    "series = pd.Series(roll_no)"
   ]
  },
  {
   "cell_type": "code",
   "execution_count": 8,
   "id": "b440bb80-e77f-4a9b-b3db-0ee32a5b994a",
   "metadata": {},
   "outputs": [
    {
     "data": {
      "text/plain": [
       "0    1\n",
       "1    2\n",
       "2    3\n",
       "3    4\n",
       "4    5\n",
       "5    6\n",
       "6    7\n",
       "dtype: int64"
      ]
     },
     "execution_count": 8,
     "metadata": {},
     "output_type": "execute_result"
    }
   ],
   "source": [
    "series"
   ]
  },
  {
   "cell_type": "code",
   "execution_count": 9,
   "id": "de687c89-0457-4ef3-ba58-02aebe62bdfa",
   "metadata": {},
   "outputs": [],
   "source": [
    "var1 = [1,2,3,4,5,6,7,8,9,10]"
   ]
  },
  {
   "cell_type": "code",
   "execution_count": 10,
   "id": "12b173ed-8893-483b-b5f3-b30d637efee8",
   "metadata": {},
   "outputs": [
    {
     "name": "stdout",
     "output_type": "stream",
     "text": [
      "0     1\n",
      "1     2\n",
      "2     3\n",
      "3     4\n",
      "4     5\n",
      "5     6\n",
      "6     7\n",
      "7     8\n",
      "8     9\n",
      "9    10\n",
      "dtype: int64\n"
     ]
    }
   ],
   "source": [
    "print(pd.Series(var1))"
   ]
  },
  {
   "cell_type": "code",
   "execution_count": 12,
   "id": "69e44eb0-8dcb-4554-9179-083f8e3667de",
   "metadata": {},
   "outputs": [],
   "source": [
    "data = {\n",
    "    'Name':['Alice','Bob','Claire'],\n",
    "    'Age': [25,30,27],\n",
    "    'Gender':['Female','Male',\"Female\"]\n",
    "}"
   ]
  },
  {
   "cell_type": "code",
   "execution_count": 17,
   "id": "2f7d9359-0145-4836-9738-4c8d12a04bc7",
   "metadata": {},
   "outputs": [],
   "source": [
    "df = pd.DataFrame(data)"
   ]
  },
  {
   "cell_type": "code",
   "execution_count": 18,
   "id": "0c0a3f3b-2ee4-472e-b5d7-eb4c017a00d3",
   "metadata": {},
   "outputs": [
    {
     "data": {
      "text/html": [
       "<div>\n",
       "<style scoped>\n",
       "    .dataframe tbody tr th:only-of-type {\n",
       "        vertical-align: middle;\n",
       "    }\n",
       "\n",
       "    .dataframe tbody tr th {\n",
       "        vertical-align: top;\n",
       "    }\n",
       "\n",
       "    .dataframe thead th {\n",
       "        text-align: right;\n",
       "    }\n",
       "</style>\n",
       "<table border=\"1\" class=\"dataframe\">\n",
       "  <thead>\n",
       "    <tr style=\"text-align: right;\">\n",
       "      <th></th>\n",
       "      <th>Name</th>\n",
       "      <th>Age</th>\n",
       "      <th>Gender</th>\n",
       "    </tr>\n",
       "  </thead>\n",
       "  <tbody>\n",
       "    <tr>\n",
       "      <th>0</th>\n",
       "      <td>Alice</td>\n",
       "      <td>25</td>\n",
       "      <td>Female</td>\n",
       "    </tr>\n",
       "    <tr>\n",
       "      <th>1</th>\n",
       "      <td>Bob</td>\n",
       "      <td>30</td>\n",
       "      <td>Male</td>\n",
       "    </tr>\n",
       "    <tr>\n",
       "      <th>2</th>\n",
       "      <td>Claire</td>\n",
       "      <td>27</td>\n",
       "      <td>Female</td>\n",
       "    </tr>\n",
       "  </tbody>\n",
       "</table>\n",
       "</div>"
      ],
      "text/plain": [
       "     Name  Age  Gender\n",
       "0   Alice   25  Female\n",
       "1     Bob   30    Male\n",
       "2  Claire   27  Female"
      ]
     },
     "execution_count": 18,
     "metadata": {},
     "output_type": "execute_result"
    }
   ],
   "source": [
    "df"
   ]
  },
  {
   "cell_type": "markdown",
   "id": "f12df2d6-0dad-40f3-993c-9b426000560c",
   "metadata": {},
   "source": [
    "Q4. A DataFrame is a two-dimensional data structure that can store data of different types (such as strings, integers, floats, etc.) in columns. It is similar to a spreadsheet or a SQL table. A Series is a one-dimensional data structure that can store data of a single type. It is similar to a list or an array. A DataFrame can be seen as a collection of Series that share the same index."
   ]
  },
  {
   "cell_type": "code",
   "execution_count": 19,
   "id": "cc5c5f89-f971-45bf-9d62-27830011ecee",
   "metadata": {},
   "outputs": [
    {
     "name": "stdout",
     "output_type": "stream",
     "text": [
      "      Name  Age\n",
      "0    Alice   25\n",
      "1      Bob   30\n",
      "2  Charlie   35\n",
      "3    David   40\n"
     ]
    }
   ],
   "source": [
    "# Create four series\n",
    "name = pd.Series([\"Alice\", \"Bob\", \"Charlie\", \"David\"], name=\"Name\")\n",
    "age = pd.Series([25, 30, 35, 40], name=\"Age\")\n",
    "# Create a dataframe from the series\n",
    "df = pd.concat([name, age], axis=1)\n",
    "\n",
    "# Print the dataframe\n",
    "print(df)"
   ]
  },
  {
   "cell_type": "markdown",
   "id": "bce1729e-e032-49bd-ae39-5e1828d2a5c9",
   "metadata": {},
   "source": [
    "Q.5) Some common functions that can be used to manipulate data in a Pandas DataFrame are:\n",
    "\n",
    "df.head(n) returns the first n rows of the DataFrame.<br>\n",
    "df.tail(n) returns the last n rows of the DataFrame.<br>\n",
    "df.describe() returns a summary of statistics for the numerical columns of the DataFrame.<br>\n",
    "df.sort_values(by=column) returns a sorted DataFrame by the values of the specified column.<br>\n",
    "df.dropna() returns a DataFrame with any rows containing missing values removed.<br>\n",
    "df.fillna(value) returns a DataFrame with any missing values replaced by the specified value.<br>\n",
    "df.apply(function) returns a DataFrame with the function applied to each column or row.<br>\n",
    "df.merge(other) returns a DataFrame with the columns of both DataFrames joined on common keys.<br>"
   ]
  },
  {
   "cell_type": "markdown",
   "id": "a4bc2da4-dadd-41dc-936b-8b14492613ee",
   "metadata": {},
   "source": [
    "Q6. Series, DataFrame, and Panel are all mutable in nature, meaning that they can be changed or modified after creation. However, Series is size immutable, meaning that its length cannot be changed. DataFrame and Panel are size mutable, meaning that their dimensions can be changed by adding or removing rows or columns."
   ]
  },
  {
   "cell_type": "markdown",
   "id": "d19221e2-a297-405f-8802-7c9338e0d237",
   "metadata": {},
   "source": [
    "Q7. To create a DataFrame using multiple Series, we can use the pd.concat() function with the axis=1 argument to specify that we want to concatenate the Series along the columns. For example, suppose we have the following three Series:"
   ]
  },
  {
   "cell_type": "code",
   "execution_count": 24,
   "id": "1cb3be81-cbcb-4d0e-a01e-896c2138ed3b",
   "metadata": {},
   "outputs": [
    {
     "name": "stdout",
     "output_type": "stream",
     "text": [
      "      Name  Age\n",
      "0    Alice   25\n",
      "1      Bob   30\n",
      "2  Charlie   35\n",
      "3    David   40\n"
     ]
    }
   ],
   "source": [
    "df = pd.concat([name, age], axis=1)\n",
    "\n",
    "# Print the dataframe\n",
    "print(df)"
   ]
  }
 ],
 "metadata": {
  "kernelspec": {
   "display_name": "Python 3 (ipykernel)",
   "language": "python",
   "name": "python3"
  },
  "language_info": {
   "codemirror_mode": {
    "name": "ipython",
    "version": 3
   },
   "file_extension": ".py",
   "mimetype": "text/x-python",
   "name": "python",
   "nbconvert_exporter": "python",
   "pygments_lexer": "ipython3",
   "version": "3.10.8"
  }
 },
 "nbformat": 4,
 "nbformat_minor": 5
}
