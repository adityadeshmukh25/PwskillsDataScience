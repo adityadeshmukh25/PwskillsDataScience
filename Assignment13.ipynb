{
 "cells": [
  {
   "cell_type": "markdown",
   "id": "a7e4f3ce-4555-40f2-b8cc-aea24e4743c0",
   "metadata": {},
   "source": [
    "A1. MongoDB is a document-oriented database that stores data in JSON-like format. It is a type of non-relational database, which means that it does not use tables, rows, and columns to organize data. Instead, it uses collections and documents, where each document can have a different structure and fields. Non-relational databases are also known as NoSQL databases, which stands for Not Only SQL. They are designed to handle large volumes of unstructured or semi-structured data, such as text, images, videos, social media posts, etc. They are also more flexible and scalable than relational databases, which require a fixed schema and predefined relationships between data entities. Some scenarios where MongoDB is preferred over SQL databases are:\n",
    "\n",
    "- When the data is heterogeneous and does not fit into a rigid schema.\n",
    "- When the data is dynamic and changes frequently over time.\n",
    "- When the data needs to be distributed across multiple servers or regions for high availability and performance.\n",
    "- When the data needs to support complex queries and aggregations that involve multiple fields and operators.\n",
    "\n",
    "\n",
    "\n"
   ]
  },
  {
   "cell_type": "markdown",
   "id": "00404ace-20ce-4fd0-8f5d-bd6dcc24e925",
   "metadata": {},
   "source": [
    "\n",
    "A2. Some of the features of MongoDB are:\n",
    "\n",
    "- Document Model: MongoDB stores data in BSON documents, which are binary-encoded JSON objects. Documents can have different fields and types, and can also contain arrays and nested subdocuments. This allows for a flexible and expressive data model that matches the way developers think and code.\n",
    "- Indexing: MongoDB supports indexing on any field in a document, including fields in arrays and subdocuments. Indexes improve the performance of queries by reducing the number of documents that need to be scanned. MongoDB also supports text indexes for full-text search, geospatial indexes for location-based queries, and compound indexes for sorting and filtering on multiple fields.\n",
    "- Sharding: MongoDB supports horizontal scaling by partitioning data across multiple servers or shards. Each shard holds a subset of the data based on a shard key, which determines how the data is distributed. Sharding enables MongoDB to handle large amounts of data and high throughput operations without compromising performance or availability.\n",
    "- Replication: MongoDB supports high availability by replicating data across multiple servers or replica set members. Each replica set has one primary member that receives all write operations, and one or more secondary members that apply the operations from the primary. If the primary fails, one of the secondaries is elected as the new primary automatically. Replication also allows for read scalability and data redundancy.\n",
    "- Aggregation: MongoDB provides a powerful aggregation framework that allows for complex data analysis and transformation. The aggregation framework consists of a pipeline of stages that process documents in sequence. Each stage can filter, group, sort, project, join, or modify the documents as they pass through. The aggregation framework supports various operators and expressions, including arithmetic, logical, string, array, date, conditional, and accumulator functions.\n",
    "- MapReduce: MongoDB also supports MapReduce, which is a programming model for processing large datasets in parallel. MapReduce consists of two phases: map and reduce. The map phase applies a function to each document in a collection and emits key-value pairs. The reduce phase applies another function to all the values associated with the same key and combines them into a single value. MapReduce can be used for tasks such as counting, grouping, filtering, or aggregating data.\n"
   ]
  },
  {
   "cell_type": "markdown",
   "id": "e5dd7d7b-9773-41f5-9b0a-d5a8086899cd",
   "metadata": {},
   "source": [
    "\n",
    "#A3. To connect MongoDB to Python, you need to install PyMongo, which is the official Python driver for MongoDB. You can use pip to install PyMongo as follows:\n",
    "\n",
    "pip install pymongo\n",
    "\n",
    "#Then you need to import MongoClient from PyMongo in your Python script:\n",
    "\n",
    "from pymongo import MongoClient\n",
    "\n",
    "#To create a connection to MongoDB Atlas (the cloud service for MongoDB), you need to get the connection string from your Atlas cluster. You can find it in the Connect dialog under Connect your application option. It should look something like this:\n",
    "\n",
    "mongodb+srv://<username>:<password>@<cluster-name>/<database-name>?retryWrites=true&w=majority\n",
    "\n",
    "#Replace <username>, <password>, <cluster-name>, and <database-name> with your own values.\n",
    "\n",
    "#Then you can use MongoClient to create a client object with the connection string:\n",
    "\n",
    "client = MongoClient(\"mongodb+srv://<username>:<password>@<cluster-name>/<database-name>?retryWrites=true&w=majority\")\n",
    "\n",
    "#To create a database in MongoDB, you can use the client object with the database name as an attribute:\n",
    "\n",
    "db = client.mydatabase\n",
    "\n",
    "#To create a collection in MongoDB, you can use the database object with the collection name as an attribute:\n",
    "\n",
    "collection = db.mycollection"
   ]
  },
  {
   "cell_type": "markdown",
   "id": "596ec5dc-d850-40b7-b8b3-b04665bc82f8",
   "metadata": {},
   "source": [
    "\n",
    "A4. To insert one record into a collection in MongoDB, you can use the insert_one() method with a document as an argument:\n",
    "\n",
    "document = {\"name\": \"Alice\", \"age\": 25}\n",
    "result = collection.insert_one(document)\n",
    "\n",
    "The result object contains information about the insertion operation, such as the _id value of the inserted document.\n",
    "\n",
    "To insert many records into a collection in MongoDB, you can use the insert_many() method with a list of documents as an argument:\n",
    "\n",
    "documents = [\n",
    "  {\"name\": \"Bob\", \"age\": 30},\n",
    "  {\"name\": \"Charlie\", \"age\": 35},\n",
    "  {\"name\": \"David\", \"age\": 40}\n",
    "]\n",
    "result = collection.insert_many(documents)\n",
    "\n",
    "The result object contains information about the insertion operation, such as the _id values of the inserted documents.\n",
    "\n",
    "To print the inserted record, you can use the find_one() method with the _id value as a filter:\n",
    "\n",
    "print(collection.find_one({\"_id\": result.inserted_id}))\n",
    "\n",
    "To print all the inserted records, you can use the find() method with no filter and iterate over the cursor object:\n",
    "\n",
    "for document in collection.find():\n",
    "  print(document)"
   ]
  },
  {
   "cell_type": "markdown",
   "id": "0ab841e7-7ae5-4c62-a337-68cfd34ef628",
   "metadata": {},
   "source": [
    "\n",
    "\n",
    "A5. The find() method is used to query the MongoDB database and return a cursor object that contains the matching documents. The find() method takes two optional arguments: a filter document that specifies the query criteria, and a projection document that specifies which fields to include or exclude in the result.\n",
    "\n",
    "For example, to find all the documents in the collection where the age is greater than 30, you can use the following code:\n",
    "\n",
    "cursor = collection.find({\"age\": {\"$gt\": 30}})\n",
    "\n",
    "To find only the name and age fields of the documents in the collection, you can use the following code:\n",
    "\n",
    "cursor = collection.find({}, {\"name\": 1, \"age\": 1})\n",
    "\n",
    "You can also use various query operators and expressions to specify more complex conditions, such as logical, comparison, arithmetic, array, string, or date operators. For example, to find all the documents in the collection where the name starts with \"D\" and the age is between 30 and 40, you can use the following code:\n",
    "\n",
    "cursor = collection.find({\"name\": {\"$regex\": \"^D\"}, \"age\": {\"$gte\": 30, \"$lte\": 40}})\n",
    "\n",
    "You can also use various cursor methods to modify or manipulate the result, such as sort(), limit(), skip(), count(), or aggregate(). For example, to sort the documents by age in descending order and limit the result to 2 documents, you can use the following code:\n",
    "\n",
    "cursor = collection.find().sort(\"age\", -1).limit(2)"
   ]
  },
  {
   "cell_type": "markdown",
   "id": "76afbd73-d478-4196-a15e-650d594977f6",
   "metadata": {},
   "source": [
    "\n",
    "\n",
    "A6. The sort() method is used to sort the documents in a cursor object by one or more fields. The sort() method takes one argument: a list of tuples that specify the field name and the sort order. The sort order can be either 1 for ascending or -1 for descending.\n",
    "\n",
    "For example, to sort the documents by name in ascending order and then by age in descending order, you can use the following code:\n",
    "\n",
    "cursor = collection.find().sort([(\"name\", 1), (\"age\", -1)])"
   ]
  },
  {
   "cell_type": "markdown",
   "id": "9d6dd307-6648-4bf1-a063-3c919c9dc445",
   "metadata": {},
   "source": [
    "\n",
    "A7. The delete_one(), delete_many(), and drop() methods are used to delete documents or collections from MongoDB.\n",
    "\n",
    "The delete_one() method is used to delete one document that matches a given filter from a collection. The delete_one() method takes one argument: a filter document that specifies the query criteria. The delete_one() method returns a result object that contains information about the deletion operation, such as the number of deleted documents.\n",
    "\n",
    "For example, to delete one document where the name is \"Alice\" from a collection, you can use the following code:\n",
    "\n",
    "result = collection.delete_one({\"name\": \"Alice\"})\n",
    "\n",
    "The delete_many() method is used to delete all documents that match a given filter from a collection. The delete_many() method takes one argument: a filter document that specifies the query criteria. The delete_many() method returns a result object that contains information about the deletion operation, such as the number of deleted documents.\n",
    "\n",
    "For example, to delete all documents where the age is less than 30 from a collection, you can use the following code:\n",
    "\n",
    "result = collection.delete_many({\"age\": {\"$lt\": 30}})\n",
    "\n",
    "The drop() method is used to drop or remove an entire collection from a database. The drop() method takes no arguments and returns true if successful or false if not.\n",
    "\n",
    "For example, to drop or remove a collection named mycollection from a database, you can use the following code:\n",
    "\n",
    "result = db.mycollection.drop()"
   ]
  }
 ],
 "metadata": {
  "kernelspec": {
   "display_name": "Python 3 (ipykernel)",
   "language": "python",
   "name": "python3"
  },
  "language_info": {
   "codemirror_mode": {
    "name": "ipython",
    "version": 3
   },
   "file_extension": ".py",
   "mimetype": "text/x-python",
   "name": "python",
   "nbconvert_exporter": "python",
   "pygments_lexer": "ipython3",
   "version": "3.10.8"
  }
 },
 "nbformat": 4,
 "nbformat_minor": 5
}
