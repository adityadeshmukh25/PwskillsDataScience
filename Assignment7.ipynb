{
 "cells": [
  {
   "cell_type": "markdown",
   "id": "a88711c1-f6b2-4118-86d2-8a7fef8ab65c",
   "metadata": {},
   "source": [
    "Q.1) An abstract class can be considered as a blueprint for other classes. It allows you to create a set of methods that must be created within any child classes built from the abstract class. A class which contains one or more abstract methods is called an abstract class. An abstract method is a method that has a declaration but does not have an implementation."
   ]
  },
  {
   "cell_type": "code",
   "execution_count": 1,
   "id": "01d6fe1d-8a0d-407b-914c-20084c9ec4a0",
   "metadata": {},
   "outputs": [
    {
     "name": "stdout",
     "output_type": "stream",
     "text": [
      "I can walk and run\n",
      "I can crawl\n",
      "I can bark\n",
      "I can roar\n"
     ]
    }
   ],
   "source": [
    "# Python program showing\n",
    "# abstract base class work\n",
    "\n",
    "from abc import ABC, abstractmethod\n",
    "class Animal(ABC):\n",
    "\n",
    "\tdef move(self):\n",
    "\t\tpass\n",
    "\n",
    "class Human(Animal):\n",
    "\n",
    "\tdef move(self):\n",
    "\t\tprint(\"I can walk and run\")\n",
    "\n",
    "class Snake(Animal):\n",
    "\n",
    "\tdef move(self):\n",
    "\t\tprint(\"I can crawl\")\n",
    "\n",
    "class Dog(Animal):\n",
    "\n",
    "\tdef move(self):\n",
    "\t\tprint(\"I can bark\")\n",
    "\n",
    "class Lion(Animal):\n",
    "\n",
    "\tdef move(self):\n",
    "\t\tprint(\"I can roar\")\n",
    "\t\t\n",
    "# Driver code\n",
    "R = Human()\n",
    "R.move()\n",
    "\n",
    "K = Snake()\n",
    "K.move()\n",
    "\n",
    "R = Dog()\n",
    "R.move()\n",
    "\n",
    "K = Lion()\n",
    "K.move()\n"
   ]
  },
  {
   "cell_type": "markdown",
   "id": "77588963-fcde-403e-8357-6367bc2a0d09",
   "metadata": {},
   "source": [
    "Q.2) Abstraction is the process or method of gaining the information.\n",
    "<br>\n",
    "While encapsulation is the process or method to contain the information."
   ]
  },
  {
   "cell_type": "markdown",
   "id": "c29ab41e-34a3-4165-bcdb-e9380723a599",
   "metadata": {},
   "source": [
    "Q.3)  The 'abc' module in Python library provides the infrastructure for defining custom abstract base classes.\n",
    "\n",
    "'abc' works by marking methods of the base class as abstract. This is done by @absttractmethod decorator. "
   ]
  },
  {
   "cell_type": "markdown",
   "id": "5999a632-8f27-4160-a2a8-875a02519282",
   "metadata": {},
   "source": [
    "Q.4) In Python, abstraction can be achieved by having/using abstract classes and methods in our programs. Understanding Abstract Methods and Classes: An abstract method is a method that is declared, but does not contain implementation."
   ]
  },
  {
   "cell_type": "markdown",
   "id": "9c6199b0-f44f-47fb-91e4-a068ebc8c750",
   "metadata": {},
   "source": [
    "Q.5) No, we cannot create an instance of an abstract class. This is because an abstract class is a generic class that is used as a basis for creating specific subclasses that conform to its protocol. An abstract class may have abstract methods that are not implemented, and therefore it is incomplete. If we try to create an object using an abstract class, we will get a compilation error. "
   ]
  },
  {
   "cell_type": "code",
   "execution_count": null,
   "id": "1c5cd24d-c0ac-42c0-9f76-071a5efc91b8",
   "metadata": {},
   "outputs": [],
   "source": []
  }
 ],
 "metadata": {
  "kernelspec": {
   "display_name": "Python 3 (ipykernel)",
   "language": "python",
   "name": "python3"
  },
  "language_info": {
   "codemirror_mode": {
    "name": "ipython",
    "version": 3
   },
   "file_extension": ".py",
   "mimetype": "text/x-python",
   "name": "python",
   "nbconvert_exporter": "python",
   "pygments_lexer": "ipython3",
   "version": "3.10.8"
  }
 },
 "nbformat": 4,
 "nbformat_minor": 5
}
