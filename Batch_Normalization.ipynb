{
  "nbformat": 4,
  "nbformat_minor": 0,
  "metadata": {
    "colab": {
      "provenance": []
    },
    "kernelspec": {
      "name": "python3",
      "display_name": "Python 3"
    },
    "language_info": {
      "name": "python"
    }
  },
  "cells": [
    {
      "cell_type": "markdown",
      "source": [
        "### 1. Concept of Batch Normalization in the Context of Artificial Neural Networks\n",
        "\n",
        "Batch normalization is a technique designed to improve the training of artificial neural networks by normalizing the inputs of each layer to reduce the internal covariate shift. Internal covariate shift refers to the changes in the distribution of inputs to a given layer during training, which can slow down the learning process. Batch normalization standardizes the inputs to a layer by scaling and shifting the inputs so that they have a mean of zero and a variance of one. This is done on a per-mini-batch basis, hence the name \"batch normalization.\"\n",
        "\n",
        "### 2. Benefits of Using Batch Normalization During Training\n",
        "\n",
        "1. **Accelerated Training:** Batch normalization allows for higher learning rates by mitigating the risk of gradient explosion or vanishing gradients, leading to faster convergence.\n",
        "2. **Improved Performance:** It often results in better overall performance, including higher accuracy and better generalization on unseen data.\n",
        "3. **Reduced Sensitivity to Initialization:** Neural networks become less sensitive to the initial weights, which means that the model is more robust to different weight initializations.\n",
        "4. **Regularization Effect:** It has a slight regularizing effect, which can reduce the need for other forms of regularization like dropout.\n",
        "\n",
        "### 3. Working Principle of Batch Normalization\n",
        "\n",
        "#### Normalization Step\n",
        "\n",
        "1. **Compute Mean and Variance:** For each mini-batch, calculate the mean (\\(\\mu_B\\)) and variance (\\(\\sigma_B^2\\)) of the input features.\n",
        "   \\[\n",
        "   \\mu_B = \\frac{1}{m} \\sum_{i=1}^{m} x_i\n",
        "   \\]\n",
        "   \\[\n",
        "   \\sigma_B^2 = \\frac{1}{m} \\sum_{i=1}^{m} (x_i - \\mu_B)^2\n",
        "   \\]\n",
        "   where \\(m\\) is the number of examples in the mini-batch.\n",
        "\n",
        "2. **Normalize:** Normalize the input by subtracting the mean and dividing by the standard deviation.\n",
        "   \\[\n",
        "   \\hat{x}_i = \\frac{x_i - \\mu_B}{\\sqrt{\\sigma_B^2 + \\epsilon}}\n",
        "   \\]\n",
        "   where \\(\\epsilon\\) is a small constant added for numerical stability.\n",
        "\n",
        "#### Learnable Parameters\n",
        "\n",
        "Batch normalization introduces two learnable parameters per activation: a scaling factor (\\(\\gamma\\)) and a shifting factor (\\(\\beta\\)).\n",
        "\n",
        "3. **Scale and Shift:** After normalization, the output is scaled by \\(\\gamma\\) and shifted by \\(\\beta\\).\n",
        "   \\[\n",
        "   y_i = \\gamma \\hat{x}_i + \\beta\n",
        "   \\]\n",
        "   The parameters \\(\\gamma\\) and \\(\\beta\\) are learned during the training process, allowing the network to undo the normalization if that is the optimal thing to do for the learning task.\n"
      ],
      "metadata": {
        "id": "0Uz0TZqdd6qN"
      }
    },
    {
      "cell_type": "markdown",
      "source": [
        "# Without Batch Normalization"
      ],
      "metadata": {
        "id": "w6lA_Lvyd_WU"
      }
    },
    {
      "cell_type": "code",
      "source": [
        "import numpy as np\n",
        "import pandas as pd\n",
        "from tensorflow.keras.models import Sequential\n",
        "from tensorflow.keras.layers import Dense, Flatten\n",
        "import matplotlib.pyplot as plt"
      ],
      "metadata": {
        "id": "hfafesrqd3rc"
      },
      "execution_count": 1,
      "outputs": []
    },
    {
      "cell_type": "code",
      "source": [
        "from tensorflow.keras.datasets import mnist\n",
        "(x_train, y_train), (x_test, y_test) = mnist.load_data()"
      ],
      "metadata": {
        "colab": {
          "base_uri": "https://localhost:8080/"
        },
        "id": "MNIbEYmUeSkd",
        "outputId": "ad988bb3-3c8e-47fb-e7ea-35bdfb97b204"
      },
      "execution_count": 2,
      "outputs": [
        {
          "output_type": "stream",
          "name": "stdout",
          "text": [
            "Downloading data from https://storage.googleapis.com/tensorflow/tf-keras-datasets/mnist.npz\n",
            "11490434/11490434 [==============================] - 0s 0us/step\n"
          ]
        }
      ]
    },
    {
      "cell_type": "code",
      "source": [
        "x_train.shape"
      ],
      "metadata": {
        "colab": {
          "base_uri": "https://localhost:8080/"
        },
        "id": "-dloPlgTeayV",
        "outputId": "80976dbe-d8dc-406d-f9f2-2e70631c2896"
      },
      "execution_count": 3,
      "outputs": [
        {
          "output_type": "execute_result",
          "data": {
            "text/plain": [
              "(60000, 28, 28)"
            ]
          },
          "metadata": {},
          "execution_count": 3
        }
      ]
    },
    {
      "cell_type": "code",
      "source": [
        "x_test.shape"
      ],
      "metadata": {
        "colab": {
          "base_uri": "https://localhost:8080/"
        },
        "id": "4n8G0PEWec5F",
        "outputId": "f5e35088-696e-4a31-9407-8fbda588105f"
      },
      "execution_count": 4,
      "outputs": [
        {
          "output_type": "execute_result",
          "data": {
            "text/plain": [
              "(10000, 28, 28)"
            ]
          },
          "metadata": {},
          "execution_count": 4
        }
      ]
    },
    {
      "cell_type": "code",
      "source": [
        "# Normalizing the data\n",
        "x_train = x_train.astype('float32')/255\n",
        "x_test = x_test.astype('float32') /255"
      ],
      "metadata": {
        "id": "1eGDw-sCedsd"
      },
      "execution_count": 5,
      "outputs": []
    },
    {
      "cell_type": "code",
      "source": [
        "# Visualizing the data\n",
        "plt.imshow(x_train[0],cmap='binary')\n",
        "plt.show()"
      ],
      "metadata": {
        "colab": {
          "base_uri": "https://localhost:8080/",
          "height": 430
        },
        "id": "Jizou-nGeoLc",
        "outputId": "3365baaa-4c23-41f8-f5c6-ca7be84f1372"
      },
      "execution_count": 6,
      "outputs": [
        {
          "output_type": "display_data",
          "data": {
            "text/plain": [
              "<Figure size 640x480 with 1 Axes>"
            ],
            "image/png": "[encoded data removed]"
          },
          "metadata": {}
        }
      ]
    },
    {
      "cell_type": "code",
      "source": [
        "# Creating a model\n",
        "model = Sequential()\n",
        "model.add(Flatten(input_shape=[28,28]))\n",
        "model.add(Dense(128,activation='relu'))\n",
        "model.add(Dense(64,activation='relu'))\n",
        "model.add(Dense(10,activation='softmax'))"
      ],
      "metadata": {
        "id": "hURO4OnsevEU"
      },
      "execution_count": 7,
      "outputs": []
    },
    {
      "cell_type": "code",
      "source": [
        "model.compile(loss='sparse_categorical_crossentropy',optimizer='SGD',metrics=['accuracy'])"
      ],
      "metadata": {
        "id": "UpShUaElfJ_V"
      },
      "execution_count": 8,
      "outputs": []
    },
    {
      "cell_type": "code",
      "source": [
        "model.fit(x_train,y_train,epochs=10,validation_data=(x_test,y_test))"
      ],
      "metadata": {
        "colab": {
          "base_uri": "https://localhost:8080/"
        },
        "id": "TilyIhodfOLy",
        "outputId": "1438705c-5f1f-4a99-e171-5010d2dfe168"
      },
      "execution_count": 9,
      "outputs": [
        {
          "output_type": "stream",
          "name": "stdout",
          "text": [
            "Epoch 1/10\n",
            "1875/1875 [==============================] - 7s 3ms/step - loss: 0.6573 - accuracy: 0.8235 - val_loss: 0.3157 - val_accuracy: 0.9121\n",
            "Epoch 2/10\n",
            "1875/1875 [==============================] - 5s 2ms/step - loss: 0.2945 - accuracy: 0.9162 - val_loss: 0.2507 - val_accuracy: 0.9284\n",
            "Epoch 3/10\n",
            "1875/1875 [==============================] - 5s 3ms/step - loss: 0.2416 - accuracy: 0.9320 - val_loss: 0.2141 - val_accuracy: 0.9391\n",
            "Epoch 4/10\n",
            "1875/1875 [==============================] - 5s 3ms/step - loss: 0.2070 - accuracy: 0.9413 - val_loss: 0.1860 - val_accuracy: 0.9462\n",
            "Epoch 5/10\n",
            "1875/1875 [==============================] - 7s 4ms/step - loss: 0.1815 - accuracy: 0.9482 - val_loss: 0.1652 - val_accuracy: 0.9523\n",
            "Epoch 6/10\n",
            "1875/1875 [==============================] - 5s 3ms/step - loss: 0.1614 - accuracy: 0.9542 - val_loss: 0.1519 - val_accuracy: 0.9553\n",
            "Epoch 7/10\n",
            "1875/1875 [==============================] - 4s 2ms/step - loss: 0.1456 - accuracy: 0.9588 - val_loss: 0.1379 - val_accuracy: 0.9603\n",
            "Epoch 8/10\n",
            "1875/1875 [==============================] - 6s 3ms/step - loss: 0.1323 - accuracy: 0.9625 - val_loss: 0.1320 - val_accuracy: 0.9610\n",
            "Epoch 9/10\n",
            "1875/1875 [==============================] - 4s 2ms/step - loss: 0.1213 - accuracy: 0.9656 - val_loss: 0.1249 - val_accuracy: 0.9643\n",
            "Epoch 10/10\n",
            "1875/1875 [==============================] - 7s 4ms/step - loss: 0.1121 - accuracy: 0.9686 - val_loss: 0.1145 - val_accuracy: 0.9663\n"
          ]
        },
        {
          "output_type": "execute_result",
          "data": {
            "text/plain": [
              "<keras.src.callbacks.History at 0x7c8f0b8e0f40>"
            ]
          },
          "metadata": {},
          "execution_count": 9
        }
      ]
    },
    {
      "cell_type": "code",
      "source": [
        "val_loss,val_acc = model.evaluate(x_test,y_test)\n",
        "print(val_loss)\n",
        "print(val_acc)"
      ],
      "metadata": {
        "colab": {
          "base_uri": "https://localhost:8080/"
        },
        "id": "qc5iTr4ZfkIX",
        "outputId": "fdf5e1c6-7554-41b2-9003-0a1fd6694e0a"
      },
      "execution_count": 11,
      "outputs": [
        {
          "output_type": "stream",
          "name": "stdout",
          "text": [
            "313/313 [==============================] - 1s 2ms/step - loss: 0.1145 - accuracy: 0.9663\n",
            "0.11449050158262253\n",
            "0.9663000106811523\n"
          ]
        }
      ]
    },
    {
      "cell_type": "code",
      "source": [
        "import tensorflow as tf\n",
        "\n",
        "# Example neural network model\n",
        "model = tf.keras.Sequential([\n",
        "    tf.keras.layers.Dense(128, input_shape=(784,), activation='relu'),\n",
        "    tf.keras.layers.Dense(64, activation='relu'),\n",
        "    tf.keras.layers.Dense(10, activation='softmax')\n",
        "])\n",
        "\n",
        "# Adding batch normalization layers\n",
        "model.add(tf.keras.layers.BatchNormalization())  # Batch normalization after the first dense layer\n",
        "model.add(tf.keras.layers.BatchNormalization())  # Batch normalization after the second dense layer\n",
        "\n",
        "# Compile the model\n",
        "model.compile(optimizer='SGD',\n",
        "              loss='sparse_categorical_crossentropy',\n",
        "              metrics=['accuracy'])\n",
        "\n",
        "# Example of training the model\n",
        "# Replace with your dataset and training code\n",
        "(x_train, y_train), (x_test, y_test) = tf.keras.datasets.mnist.load_data()\n",
        "x_train = x_train.reshape((-1, 784)) / 255.0\n",
        "x_test = x_test.reshape((-1, 784)) / 255.0\n",
        "\n",
        "model.fit(x_train, y_train, epochs=10, batch_size=32, validation_data=(x_test, y_test))\n"
      ],
      "metadata": {
        "colab": {
          "base_uri": "https://localhost:8080/"
        },
        "id": "lHsYUKU2fURF",
        "outputId": "619f833a-65e7-4c25-f239-62095d768f8f"
      },
      "execution_count": 12,
      "outputs": [
        {
          "output_type": "stream",
          "name": "stdout",
          "text": [
            "Epoch 1/10\n",
            "1875/1875 [==============================] - 6s 3ms/step - loss: 1.5243 - accuracy: 0.7258 - val_loss: 3.0261 - val_accuracy: 0.6472\n",
            "Epoch 2/10\n",
            "1875/1875 [==============================] - 6s 3ms/step - loss: 5.1103 - accuracy: 0.2679 - val_loss: 6.4085 - val_accuracy: 0.1032\n",
            "Epoch 3/10\n",
            "1875/1875 [==============================] - 5s 3ms/step - loss: 6.4107 - accuracy: 0.0993 - val_loss: 6.4034 - val_accuracy: 0.1032\n",
            "Epoch 4/10\n",
            "1875/1875 [==============================] - 6s 3ms/step - loss: 6.4105 - accuracy: 0.0993 - val_loss: 6.4031 - val_accuracy: 0.1032\n",
            "Epoch 5/10\n",
            "1875/1875 [==============================] - 5s 3ms/step - loss: 6.4104 - accuracy: 0.0993 - val_loss: 6.4032 - val_accuracy: 0.1032\n",
            "Epoch 6/10\n",
            "1875/1875 [==============================] - 5s 3ms/step - loss: 6.4105 - accuracy: 0.0993 - val_loss: 6.4027 - val_accuracy: 0.1032\n",
            "Epoch 7/10\n",
            "1875/1875 [==============================] - 6s 3ms/step - loss: 6.4104 - accuracy: 0.0993 - val_loss: 6.4033 - val_accuracy: 0.1032\n",
            "Epoch 8/10\n",
            "1875/1875 [==============================] - 5s 3ms/step - loss: 6.4104 - accuracy: 0.0993 - val_loss: 6.4033 - val_accuracy: 0.1032\n",
            "Epoch 9/10\n",
            "1875/1875 [==============================] - 6s 3ms/step - loss: 6.4104 - accuracy: 0.0993 - val_loss: 6.4038 - val_accuracy: 0.1032\n",
            "Epoch 10/10\n",
            "1875/1875 [==============================] - 5s 3ms/step - loss: 6.4106 - accuracy: 0.0993 - val_loss: 6.4034 - val_accuracy: 0.1032\n"
          ]
        },
        {
          "output_type": "execute_result",
          "data": {
            "text/plain": [
              "<keras.src.callbacks.History at 0x7c8f0b6e8580>"
            ]
          },
          "metadata": {},
          "execution_count": 12
        }
      ]
    },
    {
      "cell_type": "code",
      "source": [
        "val_loss, val_acc = model.evaluate(x_test,y_test)\n",
        "print(val_loss)\n",
        "print(val_acc)"
      ],
      "metadata": {
        "colab": {
          "base_uri": "https://localhost:8080/"
        },
        "id": "Xp8F43QKfu6K",
        "outputId": "e202caf3-ca50-4fee-d234-c05012494f65"
      },
      "execution_count": 13,
      "outputs": [
        {
          "output_type": "stream",
          "name": "stdout",
          "text": [
            "313/313 [==============================] - 1s 3ms/step - loss: 6.4034 - accuracy: 0.1032\n",
            "6.403357982635498\n",
            "0.10320000350475311\n"
          ]
        }
      ]
    },
    {
      "cell_type": "markdown",
      "source": [
        "After looking at the above result we can say that we got less accuracy after introducing Batch Normalization this could have happened due to various reasons."
      ],
      "metadata": {
        "id": "on_OEaHagJd-"
      }
    },
    {
      "cell_type": "markdown",
      "source": [
        "### 1. Experimenting with Different Batch Sizes\n",
        "\n",
        "Batch size is an important hyperparameter in training neural networks, and it can significantly impact the training dynamics and model performance when using batch normalization. Here’s how different batch sizes can affect training:\n",
        "\n",
        "- **Effect on Training Dynamics:**\n",
        "  - **Smaller Batch Sizes (e.g., 32)**: Training with smaller batches tends to introduce more noise into the gradient estimation because the gradients computed from each mini-batch are noisier due to smaller sample sizes. This noise can sometimes act as a regularization effect, preventing overfitting but might lead to slower convergence.\n",
        "  - **Larger Batch Sizes (e.g., 128, 256)**: Larger batches provide a more accurate estimate of the gradient because they average out the noise from individual examples. This can lead to faster convergence and more stable training dynamics.\n",
        "\n",
        "- **Effect on Model Performance:**\n",
        "  - **Accuracy and Generalization:** In general, larger batch sizes can lead to slightly better generalization performance because they provide a smoother gradient estimate, allowing the model to learn more effectively from each mini-batch.\n",
        "  - **Training Speed:** Larger batch sizes often lead to faster training per epoch since more computations are done in parallel. However, this depends on the hardware capabilities and the specific neural network architecture.\n",
        "\n",
        "### 2. Advantages and Potential Limitations of Batch Normalization\n",
        "\n",
        "#### Advantages:\n",
        "\n",
        "- **Accelerated Training:** Batch normalization allows for faster convergence during training by stabilizing and normalizing the inputs to each layer.\n",
        "- **Improved Gradient Flow:** It helps in mitigating issues like vanishing or exploding gradients, allowing for the use of higher learning rates.\n",
        "- **Regularization:** Batch normalization has a slight regularization effect, reducing the need for dropout and other regularization techniques.\n",
        "- **Stable Training:** It reduces internal covariate shift, making the training process more stable and less sensitive to weight initialization.\n",
        "\n",
        "#### Potential Limitations:\n",
        "\n",
        "- **Batch Size Dependency:** Batch normalization performance can depend on batch size. Very small batch sizes may lead to inaccurate batch statistics, affecting performance.\n",
        "- **Computation Overhead:** During inference, batch normalization requires computing and maintaining running averages of mean and variance, which adds computational overhead.\n",
        "- **Performance in Small Batches:** In some cases, batch normalization might not perform optimally with very small batch sizes due to noisy estimates of mean and variance.\n",
        "- **Domain Specific Tuning:** The effectiveness of batch normalization can vary across different types of networks and datasets, requiring specific tuning for optimal performance.\n",
        "\n"
      ],
      "metadata": {
        "id": "jWTvjRX7gf00"
      }
    },
    {
      "cell_type": "code",
      "source": [],
      "metadata": {
        "id": "NMwptQTVgGgO"
      },
      "execution_count": null,
      "outputs": []
    }
  ]
}