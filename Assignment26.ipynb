{
 "cells": [
  {
   "cell_type": "markdown",
   "id": "23109378-c2de-451c-8617-fc7821d6184f",
   "metadata": {},
   "source": [
    "**Q1: How can you create a Bokeh plot using Python code?**\n",
    "\n",
    "To create a Bokeh plot using Python code, follow these steps:\n",
    "\n",
    "1. Import the necessary modules from Bokeh.\n",
    "2. Create a Bokeh figure using the `figure()` function. This figure serves as the canvas for your plot.\n",
    "3. Add glyphs (shapes or markers, like circles or lines) to the figure to represent your data.\n",
    "4. Customize the appearance of the plot, including the title, axes, and legend.\n",
    "5. Show or save the plot.\n",
    "\n",
    "\n"
   ]
  },
  {
   "cell_type": "code",
   "execution_count": null,
   "id": "10535000-86e3-41d9-8aeb-ca1fa44c094c",
   "metadata": {},
   "outputs": [],
   "source": [
    "from bokeh.plotting import figure, show\n",
    "\n",
    "# Create a Bokeh figure\n",
    "p = figure(title=\"My Bokeh Plot\", x_axis_label=\"X-axis\", y_axis_label=\"Y-axis\")\n",
    "\n",
    "# Add a circle glyph to the plot\n",
    "p.circle([1, 2, 3, 4, 5], [3, 4, 2, 5, 1], size=10, color=\"blue\", alpha=0.6, legend_label=\"Data Points\")\n",
    "\n",
    "# Customize the appearance\n",
    "p.title.text_font_size = \"18px\"\n",
    "p.xaxis.major_label_text_font_size = \"12px\"\n",
    "p.yaxis.major_label_text_font_size = \"12px\"\n",
    "\n",
    "# Show the plot\n",
    "show(p)"
   ]
  },
  {
   "cell_type": "markdown",
   "id": "85eea333-a7fb-4513-8d39-0e382267469f",
   "metadata": {},
   "source": [
    "\n",
    "**Q2: What are glyphs in Bokeh, and how can you add them to a Bokeh plot? Explain with an example.**\n",
    "\n",
    "Glyphs in Bokeh are visual representations of data points or shapes that can be added to a plot. They include markers (e.g., circles, squares), lines, patches, and more. Glyphs allow you to visually represent your data on a plot. You can add them to a Bokeh plot using functions like `circle()`, `line()`, `rect()`, and many others.\n",
    "\n",
    "Here's an example using the `circle()` glyph to create a simple scatter plot:"
   ]
  },
  {
   "cell_type": "code",
   "execution_count": null,
   "id": "c71edd78-b6a3-46af-8d4e-a06e7e4afb42",
   "metadata": {},
   "outputs": [],
   "source": [
    "from bokeh.plotting import figure, show\n",
    "\n",
    "# Create a Bokeh figure\n",
    "p = figure(title=\"Scatter Plot Example\", x_axis_label=\"X-axis\", y_axis_label=\"Y-axis\")\n",
    "\n",
    "# Sample data\n",
    "x = [1, 2, 3, 4, 5]\n",
    "y = [3, 4, 2, 5, 1]\n",
    "\n",
    "# Create a scatter plot with circle glyphs\n",
    "p.circle(x, y, size=10, color=\"blue\", alpha=0.6, legend_label=\"Data Points\")\n",
    "\n",
    "# Show the plot\n",
    "show(p)"
   ]
  },
  {
   "cell_type": "markdown",
   "id": "94094c87-2ce7-442f-b88e-55821dc66269",
   "metadata": {},
   "source": [
    "**Q3: How can you customize the appearance of a Bokeh plot, including the axes, title, and legend?**\n",
    "\n",
    "You can customize the appearance of a Bokeh plot by setting various attributes and properties of the plot, including the following:\n",
    "\n",
    "- Title: Customize the title of the plot using `p.title.text` and related attributes.\n",
    "- Axes: Customize the appearance of the x-axis and y-axis labels and ticks using `p.xaxis` and `p.yaxis`.\n",
    "- Legend: Customize the legend using the `p.legend` attribute.\n",
    "\n",
    "Here's an example:"
   ]
  },
  {
   "cell_type": "code",
   "execution_count": null,
   "id": "0693e798-3096-40cc-b908-faa12571a614",
   "metadata": {},
   "outputs": [],
   "source": [
    "# Customize the title\n",
    "p.title.text = \"Customized Title\"\n",
    "p.title.text_font_size = \"18px\"\n",
    "\n",
    "# Customize the x-axis\n",
    "p.xaxis.axis_label = \"Custom X-axis Label\"\n",
    "p.xaxis.major_label_text_font_size = \"12px\"\n",
    "\n",
    "# Customize the y-axis\n",
    "p.yaxis.axis_label = \"Custom Y-axis Label\"\n",
    "p.yaxis.major_label_text_font_size = \"12px\"\n",
    "\n",
    "# Customize the legend\n",
    "p.legend.title = \"Legend Title\"\n",
    "p.legend.label_text_font_size = \"10px\""
   ]
  },
  {
   "cell_type": "markdown",
   "id": "199d97b6-ba2e-46f2-93de-2c43cb1aa44b",
   "metadata": {},
   "source": [
    "\n",
    "**Q4: What is a Bokeh server, and how can you use it to create interactive plots that can be updated in real time?**\n",
    "\n",
    "A Bokeh server is a component of Bokeh that allows you to create interactive and dynamic web applications and dashboards with Python. It enables you to build applications that can respond to user interactions, update data in real time, and provide a rich, interactive data visualization experience.\n",
    "\n",
    "To use a Bokeh server, you need to create a Python script or application that defines the layout, plots, and interactions you want to include. This script is run with the Bokeh server command, and the application can be accessed through a web browser.\n",
    "\n",
    "Here's a simplified example of a Bokeh server script:"
   ]
  },
  {
   "cell_type": "code",
   "execution_count": null,
   "id": "a1974971-a172-40b2-b28b-792ebbffb6e0",
   "metadata": {},
   "outputs": [],
   "source": [
    "from bokeh.plotting import figure, curdoc\n",
    "from bokeh.models import ColumnDataSource\n",
    "from bokeh.layouts import column\n",
    "from bokeh.io import curdoc\n",
    "import numpy as np\n",
    "\n",
    "# Create a Bokeh figure\n",
    "p = figure(title=\"Interactive Plot\", x_axis_label=\"X-axis\", y_axis_label=\"Y-axis\")\n",
    "\n",
    "# Create a ColumnDataSource to hold data\n",
    "source = ColumnDataSource(data={'x': [], 'y': []})\n",
    "\n",
    "# Create a line glyph\n",
    "line = p.line('x', 'y', source=source)\n",
    "\n",
    "# Define a callback function to update data\n",
    "def update_data():\n",
    "    new_x = np.linspace(0, 4 * np.pi, 100)\n",
    "    new_y = np.sin(new_x)\n",
    "    source.data = {'x': new_x, 'y': new_y}\n",
    "\n",
    "# Add a button widget to trigger the update\n",
    "from bokeh.models import Button\n",
    "button = Button(label=\"Update Data\")\n",
    "button.on_click(update_data)\n",
    "\n",
    "# Layout the plot and button\n",
    "layout = column(p, button)\n",
    "\n",
    "# Add the layout to the current document\n",
    "curdoc().add_root(layout)"
   ]
  },
  {
   "cell_type": "markdown",
   "id": "62a3f11d-3484-451f-98cf-8abb21eebe76",
   "metadata": {},
   "source": [
    "**Q5: How can you embed a Bokeh plot into a web page or dashboard using Flask or Django?**\n",
    "\n",
    "You can embed a Bokeh plot into a web page or dashboard using Flask or Django by integrating Bokeh server applications within your web framework. Here are the general steps for both Flask and Django:\n",
    "\n",
    "**Flask:**\n",
    "\n",
    "1. Create a Bokeh server application, as shown in the previous answer, using `bokeh serve`.\n",
    "\n",
    "2. In your Flask application, you can create a route that serves the Bokeh application. For example:\n",
    "\n",
    "```python\n",
    "\n",
    "```\n",
    "\n",
    "3. In your Flask template (e.g., `index.html`), you can use the `script` variable to include the Bokeh plot in your web page.\n",
    "\n",
    "**Django:**\n",
    "\n",
    "1. Create a Bokeh server application, as shown in the previous answer, using `bokeh serve`.\n",
    "\n",
    "2. In your Django project, you can create a view that serves the Bokeh application. For example:\n",
    "\n",
    "```python\n"
   ]
  },
  {
   "cell_type": "code",
   "execution_count": null,
   "id": "7a6ea4fd-b2b1-4d2d-bc65-bf5f5399edb1",
   "metadata": {},
   "outputs": [],
   "source": [
    "from flask import Flask, render_template\n",
    "from bokeh.embed import server_document\n",
    "\n",
    "app = Flask(__name__)\n",
    "\n",
    "@app.route('/')\n",
    "def index():\n",
    "    script = server_document(\"http://localhost:5006/your_bokeh_app_name\")\n",
    "    return render_template(\"index.html\", script=script)\n",
    "\n",
    "if __name__ == '__main__':\n",
    "    app.run()"
   ]
  },
  {
   "cell_type": "code",
   "execution_count": null,
   "id": "6402cc9a-a2e6-492d-ad3a-61853b82aebd",
   "metadata": {},
   "outputs": [],
   "source": [
    "from django.shortcuts import render\n",
    "from bokeh.embed import server_document\n",
    "\n",
    "def bokeh_plot(request):\n",
    "    script = server_document(\"http://localhost:5006/your_bokeh_app_name\")\n",
    "    return render(request, 'bokeh_template.html', {'script': script})"
   ]
  }
 ],
 "metadata": {
  "kernelspec": {
   "display_name": "Python 3 (ipykernel)",
   "language": "python",
   "name": "python3"
  },
  "language_info": {
   "codemirror_mode": {
    "name": "ipython",
    "version": 3
   },
   "file_extension": ".py",
   "mimetype": "text/x-python",
   "name": "python",
   "nbconvert_exporter": "python",
   "pygments_lexer": "ipython3",
   "version": "3.10.8"
  }
 },
 "nbformat": 4,
 "nbformat_minor": 5
}
