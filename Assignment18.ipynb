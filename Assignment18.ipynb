{
 "cells": [
  {
   "cell_type": "markdown",
   "id": "d038880f-5ffa-4648-a04f-21ecb3689eeb",
   "metadata": {},
   "source": [
    "Q1. To extract the video URL of the first five videos, we can use the requests and BeautifulSoup libraries to make a GET request to the YouTube homepage and parse the HTML response. Then, we can use the find_all method to find all the <a> tags with the class \"yt-simple-endpoint style-scope ytd-video-renderer\" and get the value of the href attribute. The video URL is the base URL of YouTube plus the href value. For example, Python3\n"
   ]
  },
  {
   "cell_type": "code",
   "execution_count": null,
   "id": "1655ce69-6ecf-4d8a-9176-db7d42d3dded",
   "metadata": {},
   "outputs": [],
   "source": [
    "\n",
    "import requests\n",
    "from bs4 import BeautifulSoup\n",
    "\n",
    "base_url = \"https://www.youtube.com\"\n",
    "response = requests.get(base_url)\n",
    "soup = BeautifulSoup(response.text, \"html.parser\")\n",
    "videos = soup.find_all(\"a\", class_=\"yt-simple-endpoint style-scope ytd-video-renderer\")\n",
    "\n",
    "for i in range(5):\n",
    "    video_url = base_url + videos[i][\"href\"]\n",
    "    print(video_url)\n"
   ]
  },
  {
   "cell_type": "markdown",
   "id": "a6a27093-0e58-464f-9faa-22dc1fb3379d",
   "metadata": {},
   "source": [
    "Q2. To extract the URL of the video thumbnails of the first five videos, we can use the same approach as Q1, but instead of finding the <a> tags, we can find the <img> tags with the class \"style-scope yt-img-shadow\" and get the value of the src attribute. The thumbnail URL is the src value. For example, Python3\n"
   ]
  },
  {
   "cell_type": "code",
   "execution_count": null,
   "id": "7cbd3435-012a-4f77-9509-53edaeec9d84",
   "metadata": {},
   "outputs": [],
   "source": [
    "\n",
    "import requests\n",
    "from bs4 import BeautifulSoup\n",
    "\n",
    "response = requests.get(\"https://www.youtube.com\")\n",
    "soup = BeautifulSoup(response.text, \"html.parser\")\n",
    "thumbnails = soup.find_all(\"img\", class_=\"style-scope yt-img-shadow\")\n",
    "\n",
    "for i in range(5):\n",
    "    thumbnail_url = thumbnails[i][\"src\"]\n",
    "    print(thumbnail_url)"
   ]
  },
  {
   "cell_type": "markdown",
   "id": "a0e6d154-431c-4855-ae60-09a71495ab51",
   "metadata": {},
   "source": [
    "\n",
    "Q3. To extract the title of the first five videos, we can use the same approach as Q1, but instead of getting the value of the href attribute, we can get the text content of the <a> tags. The title is the text content. For example, Python3\n"
   ]
  },
  {
   "cell_type": "code",
   "execution_count": null,
   "id": "024235ca-ee2d-442f-be0f-8a1e0059d8a4",
   "metadata": {},
   "outputs": [],
   "source": [
    "\n",
    "import requests\n",
    "from bs4 import BeautifulSoup\n",
    "\n",
    "response = requests.get(\"https://www.youtube.com\")\n",
    "soup = BeautifulSoup(response.text, \"html.parser\")\n",
    "videos = soup.find_all(\"a\", class_=\"yt-simple-endpoint style-scope ytd-video-renderer\")\n",
    "\n",
    "for i in range(5):\n",
    "    title = videos[i].text\n",
    "    print(title)"
   ]
  },
  {
   "cell_type": "markdown",
   "id": "0ce82e0f-697f-450a-8832-e3e6549de7ea",
   "metadata": {},
   "source": [
    "\n",
    "Q4. To extract the number of views of the first five videos, we can use the same approach as Q1, but instead of finding the <a> tags, we can find the <span> tags with the class \"style-scope ytd-video-meta-block\" and get the text content of the tags. The number of views is the text content. For example, Python3\n"
   ]
  },
  {
   "cell_type": "code",
   "execution_count": null,
   "id": "e65b5218-b3db-4b45-8adc-7d94b9799f84",
   "metadata": {},
   "outputs": [],
   "source": [
    "\n",
    "import requests\n",
    "from bs4 import BeautifulSoup\n",
    "\n",
    "response = requests.get(\"https://www.youtube.com\")\n",
    "soup = BeautifulSoup(response.text, \"html.parser\")\n",
    "views = soup.find_all(\"span\", class_=\"style-scope ytd-video-meta-block\")\n",
    "\n",
    "for i in range(5):\n",
    "    view_count = views[i].text\n",
    "    print(view_count)"
   ]
  },
  {
   "cell_type": "markdown",
   "id": "db78161e-bb71-45cc-b9c5-8a55eda47409",
   "metadata": {},
   "source": [
    "\n",
    "Q5. To extract the time of posting of video for the first five videos, we can use the same approach as Q1, but instead of finding the <a> tags, we can find the <span> tags with the class \"style-scope ytd-video-meta-block\" and get the value of the aria-label attribute. The time of posting is the value of aria-label. For example, Python3\n"
   ]
  },
  {
   "cell_type": "code",
   "execution_count": null,
   "id": "cde23ff5-2b2b-4177-bca0-d6b11d703cf8",
   "metadata": {},
   "outputs": [],
   "source": [
    "import requests\n",
    "from bs4 import BeautifulSoup\n",
    "\n",
    "response = requests.get(\"https://www.youtube.com\")\n",
    "soup = BeautifulSoup(response.text, \"html.parser\")\n",
    "times = soup.find_all(\"span\", class_=\"style-scope ytd-video-meta-block\")\n",
    "\n",
    "for i in range(5):\n",
    "    time_posted = times[i][\"aria-label\"]\n",
    "    print(time_posted)\n",
    "\n",
    "Note: To save all the data scraped in a CSV file, we can use the csv library to create a writer object and write each row of data to a file. For example, Python3\n",
    "\n",
    "import csv\n",
    "\n",
    "with open(\"youtube_data.csv\", \"w\") as file:\n",
    "    writer = csv.writer(file)\n",
    "    writer.writerow([\"Video URL\", \"Thumbnail URL\", \"Title\", \"Views\", \"Time Posted\"])\n",
    "    for i in range(5):\n",
    "        writer.writerow([video_url[i], thumbnail_url[i], title[i], view_count[i], time_posted[i]])\n"
   ]
  }
 ],
 "metadata": {
  "kernelspec": {
   "display_name": "Python 3 (ipykernel)",
   "language": "python",
   "name": "python3"
  },
  "language_info": {
   "codemirror_mode": {
    "name": "ipython",
    "version": 3
   },
   "file_extension": ".py",
   "mimetype": "text/x-python",
   "name": "python",
   "nbconvert_exporter": "python",
   "pygments_lexer": "ipython3",
   "version": "3.10.8"
  }
 },
 "nbformat": 4,
 "nbformat_minor": 5
}
