{
 "cells": [
  {
   "cell_type": "markdown",
   "id": "e8148666-20cb-42bd-8aa6-f27cc24d5abd",
   "metadata": {},
   "source": [
    "A1. GET and POST are two HTTP methods that are commonly used to send and receive data from a web server. GET is used to request data from a specified resource, such as a web page or an API endpoint. POST is used to send data to a specified resource, such as a web form or an API endpoint. Some differences between GET and POST are:\n",
    "\n",
    "- GET requests can be cached, bookmarked, or stored in browser history, while POST requests cannot.\n",
    "- GET requests have length and character limitations, while POST requests do not.\n",
    "- GET requests append the data to the URL as query parameters, while POST requests send the data in the request body.\n",
    "- GET requests are more suitable for retrieving data that does not change the state of the server, while POST requests are more suitable for submitting data that changes the state of the server.\n",
    "\n"
   ]
  },
  {
   "cell_type": "markdown",
   "id": "8debca00-af24-49a7-b25e-daaf3ea5d67a",
   "metadata": {},
   "source": [
    "\n",
    "A2. Request is a global object in Flask that contains information about the current HTTP request, such as the method, the URL, the headers, the arguments, the form data, the cookies, etc. Request is used in Flask to access and process the data sent by the client to the server. For example, request can be used to get the value of a query parameter or a form field, to check the content type or the authorization header, or to set a cookie or a session variable.\n"
   ]
  },
  {
   "cell_type": "markdown",
   "id": "87b6c462-f432-433d-9d93-fb35735e4493",
   "metadata": {},
   "source": [
    "\n",
    "A3. Redirect() is a function in Flask that returns a response object that instructs the client to redirect to another URL. Redirect() is used in Flask to handle situations where the requested URL is not available or not appropriate, and another URL should be visited instead. For example, redirect() can be used to redirect the user to a login page if they are not authenticated, to redirect the user to a success page if they have submitted a form successfully, or to redirect the user to a different version of the website based on their language or location."
   ]
  },
  {
   "cell_type": "markdown",
   "id": "99bf57af-47a2-44b2-ab62-beab0978352e",
   "metadata": {},
   "source": [
    "\n",
    "A4. Templates are files that contain HTML code with placeholders for dynamic content that can be rendered by Flask. Templates are used in Flask to separate the presentation logic from the application logic, and to create reusable and consistent web pages. The render_template() function is used to render a template with the given context variables and return it as an HTML string. The render_template() function takes the name of the template file as the first argument, and any number of keyword arguments that correspond to the variables in the template. For example, render_template(\"index.html\", name=\"Alice\") will render the index.html template with the name variable set to \"Alice\".\n"
   ]
  },
  {
   "cell_type": "markdown",
   "id": "24353dde-3a2b-4e16-8277-a04fdd371d9e",
   "metadata": {},
   "source": [
    "\n",
    "A5. To create a simple API in Flask, you can use the following code in Jupyter Notebook:\n",
    "\n",
    "```python\n",
    "# Import Flask and jsonify modules\n",
    "from flask import Flask, jsonify\n",
    "\n",
    "# Create an instance of the Flask class\n",
    "app = Flask(__name__)\n",
    "\n",
    "# Define a route for the /api URL using the route() decorator\n",
    "@app.route(\"/api\")\n",
    "def api():\n",
    "    # Create a sample data dictionary\n",
    "    data = {\n",
    "        \"name\": \"ABC Corporation\",\n",
    "        \"location\": \"India\",\n",
    "        \"contact\": \"999-999-9999\"\n",
    "    }\n",
    "    # Return the response as a JSON object using jsonify()\n",
    "    return jsonify(data)\n",
    "\n",
    "# Run the application on the local server\n",
    "app.run()\n",
    "\n",
    "\n",
    "To test the API using Postman, you can follow these steps:\n",
    "\n",
    "- Open Postman and create a new request.\n",
    "- Select GET as the method and enter http://localhost:5000/api as the URL.\n",
    "- Click Send and observe the response body and status code.\n"
   ]
  }
 ],
 "metadata": {
  "kernelspec": {
   "display_name": "Python 3 (ipykernel)",
   "language": "python",
   "name": "python3"
  },
  "language_info": {
   "codemirror_mode": {
    "name": "ipython",
    "version": 3
   },
   "file_extension": ".py",
   "mimetype": "text/x-python",
   "name": "python",
   "nbconvert_exporter": "python",
   "pygments_lexer": "ipython3",
   "version": "3.10.8"
  }
 },
 "nbformat": 4,
 "nbformat_minor": 5
}
