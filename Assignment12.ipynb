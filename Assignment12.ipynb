{
 "cells": [
  {
   "cell_type": "markdown",
   "id": "aa56e926-8851-49b6-83b9-4c6f5b6ca866",
   "metadata": {},
   "source": [
    "\n",
    "Q1. A database is a collection of organized and structured data that can be stored, accessed, and manipulated electronically. SQL and NoSQL are two types of databases that differ in how they store and query data. SQL stands for Structured Query Language and is used to communicate with relational databases that store data in tables with predefined schemas. NoSQL stands for Not only SQL and is used to communicate with non-relational databases that store data in various formats such as documents, graphs, key-value pairs, or columns without fixed schemas.\n"
   ]
  },
  {
   "cell_type": "markdown",
   "id": "aed6eeec-7aff-4688-a0fa-9a0780fe8786",
   "metadata": {},
   "source": [
    "\n",
    "Q2. DDL stands for Data Definition Language and is a subset of SQL that is used to define the structure of the database and its objects such as tables, views, indexes, etc. Some common DDL commands are:\n",
    "- CREATE: This command is used to create a new database or a new table in an existing database. For example, `CREATE DATABASE test_db;` creates a new database named test_db. `CREATE TABLE students (id INT PRIMARY KEY, name VARCHAR(50), age INT);` creates a new table named students with three columns: id, name, and age.\n",
    "- DROP: This command is used to delete an existing database or a table from the database. For example, `DROP DATABASE test_db;` deletes the database named test_db. `DROP TABLE students;` deletes the table named students.\n",
    "- ALTER: This command is used to modify the structure of an existing table by adding, deleting, or changing columns or constraints. For example, `ALTER TABLE students ADD email VARCHAR(50);` adds a new column named email to the students table. `ALTER TABLE students DROP COLUMN age;` deletes the column named age from the students table. `ALTER TABLE students MODIFY name VARCHAR(100);` changes the data type of the name column from VARCHAR(50) to VARCHAR(100).\n",
    "- TRUNCATE: This command is used to delete all the data from an existing table without affecting its structure. For example, `TRUNCATE TABLE students;` deletes all the rows from the students table but keeps the table definition."
   ]
  },
  {
   "cell_type": "markdown",
   "id": "c7f20a2e-1cd9-4f5f-a113-4e1d8fb5b6c5",
   "metadata": {},
   "source": [
    "\n",
    "Q3. DML stands for Data Manipulation Language and is a subset of SQL that is used to insert, update, or delete data from the database tables. Some common DML commands are:\n",
    "- INSERT: This command is used to add new rows of data to a table. For example, `INSERT INTO students (id, name, email) VALUES (1, 'Alice', 'alice@example.com');` inserts a new row with id 1, name Alice, and email alice@example.com into the students table.\n",
    "- UPDATE: This command is used to modify existing rows of data in a table. For example, `UPDATE students SET email = 'bob@example.com' WHERE id = 2;` updates the email column of the row with id 2 to bob@example.com in the students table.\n",
    "- DELETE: This command is used to remove existing rows of data from a table. For example, `DELETE FROM students WHERE age > 20;` deletes all the rows from the students table where the age column is greater than 2"
   ]
  },
  {
   "cell_type": "markdown",
   "id": "5d0205df-f0c2-4a7c-bdfb-67313dd83f92",
   "metadata": {},
   "source": [
    "\n",
    "Q4. DQL stands for Data Query Language and is a subset of SQL that is used to retrieve data from the database tables. The most common DQL command is SELECT, which allows users to specify what columns and rows they want to see from one or more tables. For example, `SELECT name, email FROM students WHERE age < 18;` returns the name and email columns of all the rows from the students table where the age column is less than 18."
   ]
  },
  {
   "cell_type": "markdown",
   "id": "717366a3-79e9-4a89-8e57-e5c902206cfe",
   "metadata": {},
   "source": [
    "\n",
    "\n",
    "Q5. Primary Key and Foreign Key are two types of constraints that are used to enforce relationships between tables in a relational database. A primary key is a column or a combination of columns that uniquely identifies each row in a table. A primary key cannot have null values or duplicate values. For example, in the students table, the id column can be a primary key as it uniquely identifies each student. A foreign key is a column or a combination of columns that refers to a primary key in another table. A foreign key can have null values but cannot have values that do not exist in the referenced primary key. For example, in an enrollment table that stores which courses each student has enrolled in, there can be two foreign keys: student_id and course_id, which refer to the primary keys id in the students table and id in the courses table respectively."
   ]
  },
  {
   "cell_type": "markdown",
   "id": "6b6f1c62-5135-4f49-983c-7d9dbfefa26a",
   "metadata": {},
   "source": [
    "\n",
    "\n",
    "Q6. To connect MySQL to python, we need to install a python package that can communicate with MySQL such as mysql-connector-python. Then we can use the following python code to connect MySQL to python:\n",
    "\n",
    "```python"
   ]
  },
  {
   "cell_type": "code",
   "execution_count": null,
   "id": "db1ffc4d-8a8a-4873-a326-8c0e233b17de",
   "metadata": {},
   "outputs": [],
   "source": [
    "\n",
    "# Import mysql.connector module\n",
    "import mysql.connector\n",
    "\n",
    "# Create a connection object\n",
    "conn = mysql.connector.connect(\n",
    "    host=\"localhost\", # The host name or IP address of the MySQL server\n",
    "    user=\"root\", # The user name for MySQL\n",
    "    password=\"password\", # The password for MySQL\n",
    "    database=\"test_db\" # The name of the database to use\n",
    ")\n",
    "\n",
    "# Create a cursor object\n",
    "cursor = conn.cursor()\n",
    "\n",
    "# Use the cursor object to execute SQL queries\n",
    "cursor.execute(\"SELECT * FROM students;\") # Execute a SELECT query\n",
    "\n",
    "# Fetch the results from the cursor object\n",
    "results = cursor.fetchall() # Fetch all the rows from the query result\n",
    "\n",
    "# Print the results\n",
    "for row in results:\n",
    "    print(row)\n",
    "\n",
    "# Close the cursor object\n",
    "cursor.close()\n",
    "\n",
    "# Close the connection object\n",
    "conn.close()\n",
    "#The cursor() method creates a cursor object that can execute SQL queries on the connection object. \n",
    "#The execute() method executes a given SQL query on the cursor object and returns the result."
   ]
  },
  {
   "cell_type": "markdown",
   "id": "9296c8f5-4dbf-4649-b5ba-a9d69317666d",
   "metadata": {},
   "source": [
    "\n",
    "Q7. The order of execution of SQL clauses in an SQL query is as follows:\n",
    "- FROM: This clause specifies the table or tables from which to retrieve data.\n",
    "- JOIN: This clause specifies how to join multiple tables based on a common column or condition.\n",
    "- WHERE: This clause filters the rows based on a given condition or expression.\n",
    "- GROUP BY: This clause groups the rows based on one or more columns and applies aggregate functions such as SUM, COUNT, AVG, etc.\n",
    "- HAVING: This clause filters the groups based on a given condition or expression.\n",
    "- SELECT: This clause selects the columns to display from the filtered and grouped rows.\n",
    "- DISTINCT: This clause removes duplicate rows from the selected columns.\n",
    "- ORDER BY: This clause sorts the rows based on one or more columns or expressions.\n",
    "- LIMIT: This clause limits the number of rows to return.\n"
   ]
  },
  {
   "cell_type": "code",
   "execution_count": null,
   "id": "72f62e1d-fab1-4bf1-bf80-8cfbf36c1da6",
   "metadata": {},
   "outputs": [],
   "source": []
  }
 ],
 "metadata": {
  "kernelspec": {
   "display_name": "Python 3 (ipykernel)",
   "language": "python",
   "name": "python3"
  },
  "language_info": {
   "codemirror_mode": {
    "name": "ipython",
    "version": 3
   },
   "file_extension": ".py",
   "mimetype": "text/x-python",
   "name": "python",
   "nbconvert_exporter": "python",
   "pygments_lexer": "ipython3",
   "version": "3.10.8"
  }
 },
 "nbformat": 4,
 "nbformat_minor": 5
}
