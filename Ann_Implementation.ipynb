{
  "nbformat": 4,
  "nbformat_minor": 0,
  "metadata": {
    "colab": {
      "provenance": []
    },
    "kernelspec": {
      "name": "python3",
      "display_name": "Python 3"
    },
    "language_info": {
      "name": "python"
    }
  },
  "cells": [
    {
      "cell_type": "code",
      "source": [
        "# Load TensorFlow and Keras\n",
        "import tensorflow as tf\n",
        "from tensorflow import keras\n",
        "\n",
        "# Print versions\n",
        "print(\"TensorFlow version:\", tf.__version__)\n"
      ],
      "metadata": {
        "colab": {
          "base_uri": "https://localhost:8080/"
        },
        "id": "y3_NhIB9jv4X",
        "outputId": "14111d9d-5e61-4948-e62d-083f1f1660aa"
      },
      "execution_count": 42,
      "outputs": [
        {
          "output_type": "stream",
          "name": "stdout",
          "text": [
            "TensorFlow version: 2.15.0\n"
          ]
        }
      ]
    },
    {
      "cell_type": "code",
      "source": [
        "import pandas as pd\n",
        "wine_data = pd.read_csv('wine.csv')\n",
        "\n",
        "# Display dimensions of the dataset\n",
        "print(\"Dimensions of the dataset:\", wine_data.shape)\n"
      ],
      "metadata": {
        "colab": {
          "base_uri": "https://localhost:8080/"
        },
        "id": "Yfv3SznPkZls",
        "outputId": "01615a1e-54f0-4624-cc50-51c22f77c90c"
      },
      "execution_count": 43,
      "outputs": [
        {
          "output_type": "stream",
          "name": "stdout",
          "text": [
            "Dimensions of the dataset: (1599, 12)\n"
          ]
        }
      ]
    },
    {
      "cell_type": "code",
      "source": [
        "# Check for null values\n",
        "print(\"Null values in the dataset:\")\n",
        "print(wine_data.isnull().sum())\n",
        "\n",
        "# Identify categorical variables (assuming 'quality' is categorical)\n",
        "categorical_cols = ['quality']\n",
        "\n",
        "# Encode categorical variables (if necessary, assuming 'quality' as categorical)\n",
        "wine_data_encoded = pd.get_dummies(wine_data, columns=categorical_cols, drop_first=True)\n",
        "\n",
        "# Display first few rows of encoded dataset\n",
        "print(\"Encoded dataset preview:\")\n",
        "print(wine_data_encoded.head())\n"
      ],
      "metadata": {
        "colab": {
          "base_uri": "https://localhost:8080/"
        },
        "id": "gc1eeQ4Ukht7",
        "outputId": "ddcf5830-e0d6-44fb-e2df-83dbc4ef2572"
      },
      "execution_count": 44,
      "outputs": [
        {
          "output_type": "stream",
          "name": "stdout",
          "text": [
            "Null values in the dataset:\n",
            "fixed acidity           0\n",
            "volatile acidity        0\n",
            "citric acid             0\n",
            "residual sugar          0\n",
            "chlorides               0\n",
            "free sulfur dioxide     0\n",
            "total sulfur dioxide    0\n",
            "density                 0\n",
            "pH                      0\n",
            "sulphates               0\n",
            "alcohol                 0\n",
            "quality                 0\n",
            "dtype: int64\n",
            "Encoded dataset preview:\n",
            "   fixed acidity  volatile acidity  citric acid  ...  sulphates  alcohol  quality_good\n",
            "0            7.4              0.70         0.00  ...       0.56      9.4         False\n",
            "1            7.8              0.88         0.00  ...       0.68      9.8         False\n",
            "2            7.8              0.76         0.04  ...       0.65      9.8         False\n",
            "3           11.2              0.28         0.56  ...       0.58      9.8          True\n",
            "4            7.4              0.70         0.00  ...       0.56      9.4         False\n",
            "\n",
            "[5 rows x 12 columns]\n"
          ]
        }
      ]
    },
    {
      "cell_type": "code",
      "source": [
        "# Separate features (X) and target (y)\n",
        "X = wine_data_encoded.drop(columns=['quality_good'])\n",
        "y = wine_data_encoded['quality_good']\n",
        "\n",
        "# Assuming 'quality' is binary (1 for good quality, 0 for not good)\n",
        "# If 'quality' is not binary, you may need different handling for the output layer.\n"
      ],
      "metadata": {
        "id": "wrEv7Oo1kufF"
      },
      "execution_count": 46,
      "outputs": []
    },
    {
      "cell_type": "code",
      "source": [
        "from sklearn.model_selection import train_test_split\n",
        "\n",
        "# Perform train-test split\n",
        "X_train, X_test, y_train, y_test = train_test_split(X, y, test_size=0.2, random_state=42)\n",
        "\n",
        "# Further split into training and validation sets\n",
        "X_train, X_val, y_train, y_val = train_test_split(X_train, y_train, test_size=0.25, random_state=42)\n",
        "\n",
        "print(\"Training set:\", X_train.shape, y_train.shape)\n",
        "print(\"Validation set:\", X_val.shape, y_val.shape)\n",
        "print(\"Test set:\", X_test.shape, y_test.shape)\n"
      ],
      "metadata": {
        "colab": {
          "base_uri": "https://localhost:8080/"
        },
        "id": "7s3-tULak1Xj",
        "outputId": "d768aa91-ee73-4850-cc7b-e06f3c5553a2"
      },
      "execution_count": 47,
      "outputs": [
        {
          "output_type": "stream",
          "name": "stdout",
          "text": [
            "Training set: (959, 11) (959,)\n",
            "Validation set: (320, 11) (320,)\n",
            "Test set: (320, 11) (320,)\n"
          ]
        }
      ]
    },
    {
      "cell_type": "code",
      "source": [
        "from sklearn.preprocessing import StandardScaler\n",
        "\n",
        "# Initialize a scaler\n",
        "scaler = StandardScaler()\n",
        "\n",
        "# Fit on training data\n",
        "X_train_scaled = scaler.fit_transform(X_train)\n",
        "\n",
        "# Apply the scaler to validation and test sets\n",
        "X_val_scaled = scaler.transform(X_val)\n",
        "X_test_scaled = scaler.transform(X_test)\n"
      ],
      "metadata": {
        "id": "r2VhsLCnk720"
      },
      "execution_count": 48,
      "outputs": []
    },
    {
      "cell_type": "code",
      "source": [
        "from tensorflow.keras.models import Sequential\n",
        "from tensorflow.keras.layers import Dense\n",
        "\n",
        "# Initialize the model\n",
        "model = Sequential()\n",
        "\n",
        "# Add hidden layers\n",
        "model.add(Dense(64, activation='relu',input_shape=(X_train.shape[1],)))\n",
        "model.add(Dense(32, activation='relu'))\n",
        "model.add(Dense(16, activation='relu'))\n",
        "\n",
        "# Add output layer (assuming binary classification)\n",
        "model.add(Dense(1, activation='sigmoid'))\n",
        "\n",
        "# Print model summary\n",
        "model.summary()\n"
      ],
      "metadata": {
        "colab": {
          "base_uri": "https://localhost:8080/"
        },
        "id": "r_fTIY8ik_n0",
        "outputId": "03a6b4b6-c9da-4418-8716-0d3b46a55ec9"
      },
      "execution_count": 50,
      "outputs": [
        {
          "output_type": "stream",
          "name": "stdout",
          "text": [
            "Model: \"sequential_4\"\n",
            "_________________________________________________________________\n",
            " Layer (type)                Output Shape              Param #   \n",
            "=================================================================\n",
            " dense_10 (Dense)            (None, 64)                768       \n",
            "                                                                 \n",
            " dense_11 (Dense)            (None, 32)                2080      \n",
            "                                                                 \n",
            " dense_12 (Dense)            (None, 16)                528       \n",
            "                                                                 \n",
            " dense_13 (Dense)            (None, 1)                 17        \n",
            "                                                                 \n",
            "=================================================================\n",
            "Total params: 3393 (13.25 KB)\n",
            "Trainable params: 3393 (13.25 KB)\n",
            "Non-trainable params: 0 (0.00 Byte)\n",
            "_________________________________________________________________\n"
          ]
        }
      ]
    },
    {
      "cell_type": "code",
      "source": [
        "# Compile the model\n",
        "model.compile(optimizer='adam',\n",
        "              loss='binary_crossentropy',\n",
        "              metrics=['accuracy'])\n",
        "\n",
        "# Fit the model\n",
        "history = model.fit(X_train_scaled, y_train,\n",
        "                    epochs=50,\n",
        "                    batch_size=32,\n",
        "                    validation_data=(X_val_scaled, y_val))\n",
        "\n",
        "\n",
        "\n",
        "history_df = pd.DataFrame(history.history)\n",
        "\n",
        "# Plot the model's training history\n",
        "import matplotlib.pyplot as plt\n",
        "\n",
        "plt.figure(figsize=(12, 6))\n",
        "plt.plot(history_df['accuracy'], label='Training Accuracy')\n",
        "plt.plot(history_df['val_accuracy'], label='Validation Accuracy')\n",
        "plt.xlabel('Epoch')\n",
        "plt.ylabel('Accuracy')\n",
        "plt.legend()\n",
        "plt.title('Training and Validation Accuracy over Epochs')\n",
        "plt.show()\n",
        "\n",
        "# Q19. Evaluate the model's performance using the test data\n",
        "test_loss, test_accuracy = model.evaluate(X_test_scaled, y_test)\n",
        "print(f\"Test Accuracy: {test_accuracy:.4f}\")\n"
      ],
      "metadata": {
        "colab": {
          "base_uri": "https://localhost:8080/",
          "height": 1000
        },
        "id": "LGTLOW4YlrDM",
        "outputId": "bf244c6a-b6bf-4025-eebc-a1c8a01cc5ba"
      },
      "execution_count": 51,
      "outputs": [
        {
          "output_type": "stream",
          "name": "stdout",
          "text": [
            "Epoch 1/50\n",
            "30/30 [==============================] - 1s 8ms/step - loss: 0.6775 - accuracy: 0.5558 - val_loss: 0.6276 - val_accuracy: 0.6938\n",
            "Epoch 2/50\n",
            "30/30 [==============================] - 0s 3ms/step - loss: 0.5998 - accuracy: 0.7226 - val_loss: 0.5712 - val_accuracy: 0.7531\n",
            "Epoch 3/50\n",
            "30/30 [==============================] - 0s 3ms/step - loss: 0.5385 - accuracy: 0.7466 - val_loss: 0.5523 - val_accuracy: 0.7563\n",
            "Epoch 4/50\n",
            "30/30 [==============================] - 0s 3ms/step - loss: 0.5139 - accuracy: 0.7539 - val_loss: 0.5345 - val_accuracy: 0.7594\n",
            "Epoch 5/50\n",
            "30/30 [==============================] - 0s 4ms/step - loss: 0.4995 - accuracy: 0.7664 - val_loss: 0.5398 - val_accuracy: 0.7688\n",
            "Epoch 6/50\n",
            "30/30 [==============================] - 0s 3ms/step - loss: 0.4913 - accuracy: 0.7654 - val_loss: 0.5319 - val_accuracy: 0.7688\n",
            "Epoch 7/50\n",
            "30/30 [==============================] - 0s 3ms/step - loss: 0.4820 - accuracy: 0.7727 - val_loss: 0.5279 - val_accuracy: 0.7625\n",
            "Epoch 8/50\n",
            "30/30 [==============================] - 0s 3ms/step - loss: 0.4747 - accuracy: 0.7716 - val_loss: 0.5242 - val_accuracy: 0.7656\n",
            "Epoch 9/50\n",
            "30/30 [==============================] - 0s 3ms/step - loss: 0.4675 - accuracy: 0.7779 - val_loss: 0.5246 - val_accuracy: 0.7625\n",
            "Epoch 10/50\n",
            "30/30 [==============================] - 0s 3ms/step - loss: 0.4622 - accuracy: 0.7789 - val_loss: 0.5256 - val_accuracy: 0.7719\n",
            "Epoch 11/50\n",
            "30/30 [==============================] - 0s 4ms/step - loss: 0.4549 - accuracy: 0.7769 - val_loss: 0.5189 - val_accuracy: 0.7688\n",
            "Epoch 12/50\n",
            "30/30 [==============================] - 0s 4ms/step - loss: 0.4483 - accuracy: 0.7831 - val_loss: 0.5289 - val_accuracy: 0.7625\n",
            "Epoch 13/50\n",
            "30/30 [==============================] - 0s 4ms/step - loss: 0.4425 - accuracy: 0.7883 - val_loss: 0.5262 - val_accuracy: 0.7844\n",
            "Epoch 14/50\n",
            "30/30 [==============================] - 0s 4ms/step - loss: 0.4393 - accuracy: 0.7894 - val_loss: 0.5210 - val_accuracy: 0.7812\n",
            "Epoch 15/50\n",
            "30/30 [==============================] - 0s 4ms/step - loss: 0.4353 - accuracy: 0.7904 - val_loss: 0.5317 - val_accuracy: 0.7688\n",
            "Epoch 16/50\n",
            "30/30 [==============================] - 0s 4ms/step - loss: 0.4258 - accuracy: 0.7987 - val_loss: 0.5287 - val_accuracy: 0.7781\n",
            "Epoch 17/50\n",
            "30/30 [==============================] - 0s 4ms/step - loss: 0.4214 - accuracy: 0.7946 - val_loss: 0.5388 - val_accuracy: 0.7688\n",
            "Epoch 18/50\n",
            "30/30 [==============================] - 0s 4ms/step - loss: 0.4191 - accuracy: 0.7977 - val_loss: 0.5336 - val_accuracy: 0.7812\n",
            "Epoch 19/50\n",
            "30/30 [==============================] - 0s 4ms/step - loss: 0.4140 - accuracy: 0.8019 - val_loss: 0.5300 - val_accuracy: 0.7844\n",
            "Epoch 20/50\n",
            "30/30 [==============================] - 0s 4ms/step - loss: 0.4081 - accuracy: 0.8050 - val_loss: 0.5309 - val_accuracy: 0.7750\n",
            "Epoch 21/50\n",
            "30/30 [==============================] - 0s 4ms/step - loss: 0.4055 - accuracy: 0.8060 - val_loss: 0.5326 - val_accuracy: 0.7844\n",
            "Epoch 22/50\n",
            "30/30 [==============================] - 0s 5ms/step - loss: 0.4025 - accuracy: 0.8123 - val_loss: 0.5373 - val_accuracy: 0.7812\n",
            "Epoch 23/50\n",
            "30/30 [==============================] - 0s 4ms/step - loss: 0.3939 - accuracy: 0.8102 - val_loss: 0.5486 - val_accuracy: 0.7688\n",
            "Epoch 24/50\n",
            "30/30 [==============================] - 0s 4ms/step - loss: 0.3871 - accuracy: 0.8227 - val_loss: 0.5437 - val_accuracy: 0.7812\n",
            "Epoch 25/50\n",
            "30/30 [==============================] - 0s 6ms/step - loss: 0.3789 - accuracy: 0.8227 - val_loss: 0.5531 - val_accuracy: 0.7750\n",
            "Epoch 26/50\n",
            "30/30 [==============================] - 0s 5ms/step - loss: 0.3785 - accuracy: 0.8311 - val_loss: 0.5582 - val_accuracy: 0.7625\n",
            "Epoch 27/50\n",
            "30/30 [==============================] - 0s 4ms/step - loss: 0.3708 - accuracy: 0.8279 - val_loss: 0.5537 - val_accuracy: 0.7688\n",
            "Epoch 28/50\n",
            "30/30 [==============================] - 0s 4ms/step - loss: 0.3673 - accuracy: 0.8373 - val_loss: 0.5520 - val_accuracy: 0.7750\n",
            "Epoch 29/50\n",
            "30/30 [==============================] - 0s 6ms/step - loss: 0.3623 - accuracy: 0.8342 - val_loss: 0.5495 - val_accuracy: 0.7719\n",
            "Epoch 30/50\n",
            "30/30 [==============================] - 0s 4ms/step - loss: 0.3618 - accuracy: 0.8300 - val_loss: 0.5620 - val_accuracy: 0.7656\n",
            "Epoch 31/50\n",
            "30/30 [==============================] - 0s 4ms/step - loss: 0.3516 - accuracy: 0.8467 - val_loss: 0.5599 - val_accuracy: 0.7750\n",
            "Epoch 32/50\n",
            "30/30 [==============================] - 0s 4ms/step - loss: 0.3440 - accuracy: 0.8467 - val_loss: 0.5724 - val_accuracy: 0.7656\n",
            "Epoch 33/50\n",
            "30/30 [==============================] - 0s 3ms/step - loss: 0.3450 - accuracy: 0.8436 - val_loss: 0.5614 - val_accuracy: 0.7719\n",
            "Epoch 34/50\n",
            "30/30 [==============================] - 0s 3ms/step - loss: 0.3372 - accuracy: 0.8488 - val_loss: 0.5660 - val_accuracy: 0.7750\n",
            "Epoch 35/50\n",
            "30/30 [==============================] - 0s 3ms/step - loss: 0.3365 - accuracy: 0.8540 - val_loss: 0.5740 - val_accuracy: 0.7656\n",
            "Epoch 36/50\n",
            "30/30 [==============================] - 0s 3ms/step - loss: 0.3286 - accuracy: 0.8624 - val_loss: 0.5844 - val_accuracy: 0.7781\n",
            "Epoch 37/50\n",
            "30/30 [==============================] - 0s 3ms/step - loss: 0.3280 - accuracy: 0.8592 - val_loss: 0.6038 - val_accuracy: 0.7563\n",
            "Epoch 38/50\n",
            "30/30 [==============================] - 0s 4ms/step - loss: 0.3222 - accuracy: 0.8655 - val_loss: 0.5822 - val_accuracy: 0.7719\n",
            "Epoch 39/50\n",
            "30/30 [==============================] - 0s 3ms/step - loss: 0.3144 - accuracy: 0.8665 - val_loss: 0.5842 - val_accuracy: 0.7875\n",
            "Epoch 40/50\n",
            "30/30 [==============================] - 0s 3ms/step - loss: 0.3107 - accuracy: 0.8603 - val_loss: 0.5900 - val_accuracy: 0.7812\n",
            "Epoch 41/50\n",
            "30/30 [==============================] - 0s 3ms/step - loss: 0.3067 - accuracy: 0.8665 - val_loss: 0.5965 - val_accuracy: 0.7875\n",
            "Epoch 42/50\n",
            "30/30 [==============================] - 0s 4ms/step - loss: 0.3011 - accuracy: 0.8697 - val_loss: 0.6064 - val_accuracy: 0.7781\n",
            "Epoch 43/50\n",
            "30/30 [==============================] - 0s 3ms/step - loss: 0.2974 - accuracy: 0.8697 - val_loss: 0.5975 - val_accuracy: 0.7844\n",
            "Epoch 44/50\n",
            "30/30 [==============================] - 0s 3ms/step - loss: 0.2931 - accuracy: 0.8686 - val_loss: 0.6127 - val_accuracy: 0.7875\n",
            "Epoch 45/50\n",
            "30/30 [==============================] - 0s 3ms/step - loss: 0.2894 - accuracy: 0.8728 - val_loss: 0.6182 - val_accuracy: 0.7719\n",
            "Epoch 46/50\n",
            "30/30 [==============================] - 0s 3ms/step - loss: 0.2882 - accuracy: 0.8780 - val_loss: 0.6284 - val_accuracy: 0.7719\n",
            "Epoch 47/50\n",
            "30/30 [==============================] - 0s 4ms/step - loss: 0.2828 - accuracy: 0.8717 - val_loss: 0.6215 - val_accuracy: 0.7875\n",
            "Epoch 48/50\n",
            "30/30 [==============================] - 0s 4ms/step - loss: 0.2756 - accuracy: 0.8853 - val_loss: 0.6213 - val_accuracy: 0.7969\n",
            "Epoch 49/50\n",
            "30/30 [==============================] - 0s 3ms/step - loss: 0.2808 - accuracy: 0.8811 - val_loss: 0.6319 - val_accuracy: 0.7875\n",
            "Epoch 50/50\n",
            "30/30 [==============================] - 0s 3ms/step - loss: 0.2773 - accuracy: 0.8863 - val_loss: 0.6359 - val_accuracy: 0.7875\n"
          ]
        },
        {
          "output_type": "display_data",
          "data": {
            "text/plain": [
              "<Figure size 1200x600 with 1 Axes>"
            ],
            "image/png": "[encoded data removed]"
          },
          "metadata": {}
        },
        {
          "output_type": "stream",
          "name": "stdout",
          "text": [
            "10/10 [==============================] - 0s 2ms/step - loss: 0.4993 - accuracy: 0.7969\n",
            "Test Accuracy: 0.7969\n"
          ]
        }
      ]
    },
    {
      "cell_type": "code",
      "source": [],
      "metadata": {
        "id": "LLWXQQi7mHFY"
      },
      "execution_count": null,
      "outputs": []
    }
  ]
}