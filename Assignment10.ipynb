{
 "cells": [
  {
   "cell_type": "markdown",
   "id": "0799f4ea-461f-45b9-9155-577cc5b198e9",
   "metadata": {},
   "source": [
    "Q.1)Multithreading in Python is a technique that allows multiple threads to run concurrently in a single process. A thread is a sequence of instructions that can be executed independently of other code. Multithreading can improve the performance and responsiveness of an application by utilizing the available CPU cores and reducing the waiting time for I/O operations12.\n",
    "\n",
    "The module used to handle threads in Python is the threading module. It provides a high-level interface for creating, managing, and synchronizing threads. It also offers various classes and functions to work with thread-specific data, locks, semaphores, timers, events, and more12. For example, to create a thread, we can use the threading.Thread class and pass a target function and optional arguments. To start a thread, we can use the start() method of the thread object. To wait for a thread to finish, we can use the join() method1"
   ]
  },
  {
   "cell_type": "markdown",
   "id": "908390bf-d8ba-41b5-97df-0f6499baefc7",
   "metadata": {},
   "source": [
    "Q.2)The threading module is used to create and manage multiple threads in Python. Threads are units of execution that can run concurrently within a process, and share the same memory space. Threads can improve the performance and responsiveness of an application by utilizing the available CPU cores and reducing the waiting time for I/O operations12.\n",
    "\n",
    "The following functions are defined by the threading module to work with threads:<br>\n",
    "1) activeCount() returns the number of thread objects that are currently alive. The returned count is equal to the length of the list returned by enumerate()<br>\n",
    "2) currentThread() returns the current thread object, corresponding to the caller’s thread of control. If the caller’s thread of control was not created through the threading module, a dummy thread object with limited functionality is returned<br>\n",
    "3) enumerate() returns a list of all thread objects that are currently alive. The list includes daemonic threads, dummy thread objects created by the current thread, and the main thread. Terminated threads and threads that have not yet been started are not present in this list"
   ]
  },
  {
   "cell_type": "markdown",
   "id": "816b667b-abf0-4b20-aa52-603d553a27d6",
   "metadata": {},
   "source": [
    "Q.3) <br>\n",
    "1) run(): The run() method is the entry point for a thread. It is the method that is executed when the thread is started by calling the start() method. It can be overridden in a subclass of threading.Thread to define the thread’s behavior <br>\n",
    "2) start(): The start() method starts a thread by calling the run() method. It creates a new thread of control and invokes the run() method in that thread. It can only be called once per thread object, otherwise a RuntimeError will be raised <br>\n",
    "3) join([time]): The join() method waits for a thread to terminate. It blocks the calling thread until the thread whose join() method is called either terminates or a timeout occurs, if specified. The optional argument time is a floating point number that specifies the maximum number of seconds to wait for the thread<br>\n",
    "4) isAlive(): The isAlive() method checks whether a thread is still executing. It returns True if the thread is alive and False otherwise. A thread is considered alive from when the run() method starts until just after it terminates"
   ]
  },
  {
   "cell_type": "code",
   "execution_count": 1,
   "id": "fa83a427-12d9-42c1-98c8-fcd20a8ee7c8",
   "metadata": {},
   "outputs": [
    {
     "name": "stdout",
     "output_type": "stream",
     "text": [
      "1\n",
      "4\n",
      "9\n",
      "16\n",
      "25\n",
      "36\n",
      "49\n",
      "64\n",
      "81\n",
      "100\n",
      "1\n",
      "8\n",
      "27\n",
      "64\n",
      "125\n",
      "216\n",
      "343\n",
      "512\n",
      "729\n",
      "1000\n"
     ]
    }
   ],
   "source": [
    "# Import the threading module\n",
    "import threading\n",
    "\n",
    "# Define a function to print the list of squares\n",
    "def print_squares():\n",
    "    # Loop from 1 to 10\n",
    "    for i in range(1, 11):\n",
    "        # Print the square of i\n",
    "        print(i ** 2)\n",
    "\n",
    "# Define a function to print the list of cubes\n",
    "def print_cubes():\n",
    "    # Loop from 1 to 10\n",
    "    for i in range(1, 11):\n",
    "        # Print the cube of i\n",
    "        print(i ** 3)\n",
    "\n",
    "# Create two thread objects with the target functions\n",
    "t1 = threading.Thread(target=print_squares)\n",
    "t2 = threading.Thread(target=print_cubes)\n",
    "\n",
    "# Start the threads\n",
    "t1.start()\n",
    "t2.start()\n",
    "\n",
    "# Wait for the threads to finish\n",
    "t1.join()\n",
    "t2.join()\n"
   ]
  },
  {
   "cell_type": "markdown",
   "id": "0b129227-91dc-47b4-a6c0-62f965e74f0f",
   "metadata": {},
   "source": [
    "Q.5) Some of the advantages of multithreading are:<br>\n",
    "\n",
    "- Improved performance: Multithreading can help increase the overall performance of an application, especially on systems with multiple processors or cores. It allows multiple tasks to run concurrently, utilizing the available CPU resources more efficiently¹².<br>\n",
    "- Responsiveness: In a single-threaded environment, if a long-running task blocks the main thread, the entire application becomes unresponsive. In a multithreaded environment, the main thread can delegate the long-running task to another thread, and continue to handle user input and other events¹².<br>\n",
    "- Resource sharing: Threads in the same process share the same memory space, code, and files. This makes it easier to communicate and exchange data between threads, and reduces the overhead of creating and managing processes¹².<br>\n",
    "- Simplified coding: Multithreading can simplify the coding of complex applications that involve multiple tasks or events. For example, a GUI application can use one thread to handle user input, another thread to perform computations, and another thread to update the display¹².<br>\n",
    "- Cost reduction: Multithreading can reduce the cost of maintenance and development by reusing existing code and libraries. It can also reduce the hardware cost by making better use of the available CPU resources¹².<br>\n",
    "\n",
    "Some of the disadvantages of multithreading are:<br>\n",
    "\n",
    "- Complex debugging and testing processes: Multithreading introduces concurrency issues such as race conditions, deadlocks, and synchronization problems. These issues can make it difficult to debug and test multithreaded applications, as they may produce unpredictable or non-deterministic results¹²³.<br>\n",
    "- Overhead switching of context: Multithreading requires context switching between threads, which involves saving and restoring the state of each thread. This can incur some overhead in terms of time and memory, especially if there are many threads or frequent switches¹²³.<br>\n",
    "- Increased potential for deadlock occurrence: A deadlock occurs when two or more threads are waiting for each other to release a shared resource, and none of them can proceed. Multithreading increases the possibility of deadlock situations, as more threads may compete for limited resources¹²³.<br>\n",
    "- Increased difficulty level in writing a program: Multithreading requires careful design and implementation of the program logic, as well as proper coordination and synchronization among threads. It also requires knowledge of the underlying hardware and operating system features that support multithreading. Writing a multithreaded program can be more challenging than writing a single-threaded program¹²³."
   ]
  },
  {
   "cell_type": "markdown",
   "id": "07421b53-9e2d-4438-8765-de1f56d88aa4",
   "metadata": {},
   "source": [
    "Q.6) A deadlock is a situation where two or more threads are waiting for each other to release a shared resource, and none of them can proceed. For example, if thread A holds a lock on resource X and needs resource Y, and thread B holds a lock on resource Y and needs resource X, then both threads are stuck in a deadlock1.\n",
    "<br>\n",
    "A race condition is a situation where the outcome of a program depends on the order or timing of execution of multiple threads. For example, if two threads are updating the same variable without proper synchronization, they may overwrite each other’s changes and produce an incorrect result2"
   ]
  },
  {
   "cell_type": "code",
   "execution_count": null,
   "id": "776ef0e3-a85c-49d0-94ea-9ac6a3b0387c",
   "metadata": {},
   "outputs": [],
   "source": []
  }
 ],
 "metadata": {
  "kernelspec": {
   "display_name": "Python 3 (ipykernel)",
   "language": "python",
   "name": "python3"
  },
  "language_info": {
   "codemirror_mode": {
    "name": "ipython",
    "version": 3
   },
   "file_extension": ".py",
   "mimetype": "text/x-python",
   "name": "python",
   "nbconvert_exporter": "python",
   "pygments_lexer": "ipython3",
   "version": "3.10.8"
  }
 },
 "nbformat": 4,
 "nbformat_minor": 5
}
